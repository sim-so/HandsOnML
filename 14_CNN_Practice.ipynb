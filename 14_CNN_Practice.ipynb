{
  "nbformat": 4,
  "nbformat_minor": 0,
  "metadata": {
    "colab": {
      "provenance": [],
      "machine_shape": "hm",
      "authorship_tag": "ABX9TyMrH+XQ+/JWbombgV/TQ33B",
      "include_colab_link": true
    },
    "kernelspec": {
      "name": "python3",
      "display_name": "Python 3"
    },
    "language_info": {
      "name": "python"
    },
    "accelerator": "GPU",
    "gpuClass": "standard"
  },
  "cells": [
    {
      "cell_type": "markdown",
      "metadata": {
        "id": "view-in-github",
        "colab_type": "text"
      },
      "source": [
        "<a href=\"https://colab.research.google.com/github/sim-so/HandsOnML/blob/main/14_CNN_Practice.ipynb\" target=\"_parent\"><img src=\"https://colab.research.google.com/assets/colab-badge.svg\" alt=\"Open In Colab\"/></a>"
      ]
    },
    {
      "cell_type": "markdown",
      "source": [
        "# 14 CNN 연습문제"
      ],
      "metadata": {
        "id": "wRK3BeFMriif"
      }
    },
    {
      "cell_type": "markdown",
      "source": [
        "## 9. 나만의 CNN으로 MNIST 해결하기\n",
        "최고 성능이 99.91인 SOTA 모델을 만들어보자. >\n",
        "[Paper](https://paperswithcode.com/paper/an-ensemble-of-simple-convolutional-neural)\n",
        "- 단순 CNN 모델\n",
        "    - 매 Conv Layer마다 BatchNormalization\n",
        "    - 3개 모델의 kernel size를 각 3, 5, 7로\n",
        "- 데이터 증강\n",
        "- 모델 앙상블"
      ],
      "metadata": {
        "id": "Rys2d5byrnSW"
      }
    },
    {
      "cell_type": "markdown",
      "source": [
        "### Load Dataset"
      ],
      "metadata": {
        "id": "U4yw3MqEs5ys"
      }
    },
    {
      "cell_type": "code",
      "source": [
        "!python -m pip install tensorflow-gpu==2.8.3"
      ],
      "metadata": {
        "colab": {
          "base_uri": "https://localhost:8080/"
        },
        "id": "tCZ7iDK1OAHk",
        "outputId": "1726faad-82ea-45a7-b508-234d29a88dee"
      },
      "execution_count": 1,
      "outputs": [
        {
          "output_type": "stream",
          "name": "stdout",
          "text": [
            "Looking in indexes: https://pypi.org/simple, https://us-python.pkg.dev/colab-wheels/public/simple/\n",
            "Collecting tensorflow-gpu==2.8.3\n",
            "  Downloading tensorflow_gpu-2.8.3-cp38-cp38-manylinux2010_x86_64.whl (498.4 MB)\n",
            "\u001b[2K     \u001b[90m━━━━━━━━━━━━━━━━━━━━━━━━━━━━━━━━━━━━━━━\u001b[0m \u001b[32m498.4/498.4 MB\u001b[0m \u001b[31m2.9 MB/s\u001b[0m eta \u001b[36m0:00:00\u001b[0m\n",
            "\u001b[?25hRequirement already satisfied: astunparse>=1.6.0 in /usr/local/lib/python3.8/dist-packages (from tensorflow-gpu==2.8.3) (1.6.3)\n",
            "Requirement already satisfied: gast>=0.2.1 in /usr/local/lib/python3.8/dist-packages (from tensorflow-gpu==2.8.3) (0.4.0)\n",
            "Requirement already satisfied: h5py>=2.9.0 in /usr/local/lib/python3.8/dist-packages (from tensorflow-gpu==2.8.3) (3.1.0)\n",
            "Requirement already satisfied: termcolor>=1.1.0 in /usr/local/lib/python3.8/dist-packages (from tensorflow-gpu==2.8.3) (2.2.0)\n",
            "Requirement already satisfied: grpcio<2.0,>=1.24.3 in /usr/local/lib/python3.8/dist-packages (from tensorflow-gpu==2.8.3) (1.51.1)\n",
            "Requirement already satisfied: tensorflow-io-gcs-filesystem>=0.23.1 in /usr/local/lib/python3.8/dist-packages (from tensorflow-gpu==2.8.3) (0.30.0)\n",
            "Requirement already satisfied: flatbuffers>=1.12 in /usr/local/lib/python3.8/dist-packages (from tensorflow-gpu==2.8.3) (23.1.21)\n",
            "Requirement already satisfied: protobuf<3.20,>=3.9.2 in /usr/local/lib/python3.8/dist-packages (from tensorflow-gpu==2.8.3) (3.19.6)\n",
            "Requirement already satisfied: opt-einsum>=2.3.2 in /usr/local/lib/python3.8/dist-packages (from tensorflow-gpu==2.8.3) (3.3.0)\n",
            "Collecting keras<2.9,>=2.8.0rc0\n",
            "  Downloading keras-2.8.0-py2.py3-none-any.whl (1.4 MB)\n",
            "\u001b[2K     \u001b[90m━━━━━━━━━━━━━━━━━━━━━━━━━━━━━━━━━━━━━━━━\u001b[0m \u001b[32m1.4/1.4 MB\u001b[0m \u001b[31m42.7 MB/s\u001b[0m eta \u001b[36m0:00:00\u001b[0m\n",
            "\u001b[?25hRequirement already satisfied: wrapt>=1.11.0 in /usr/local/lib/python3.8/dist-packages (from tensorflow-gpu==2.8.3) (1.14.1)\n",
            "Requirement already satisfied: google-pasta>=0.1.1 in /usr/local/lib/python3.8/dist-packages (from tensorflow-gpu==2.8.3) (0.2.0)\n",
            "Collecting keras-preprocessing>=1.1.1\n",
            "  Downloading Keras_Preprocessing-1.1.2-py2.py3-none-any.whl (42 kB)\n",
            "\u001b[2K     \u001b[90m━━━━━━━━━━━━━━━━━━━━━━━━━━━━━━━━━━━━━━━━\u001b[0m \u001b[32m42.6/42.6 KB\u001b[0m \u001b[31m1.9 MB/s\u001b[0m eta \u001b[36m0:00:00\u001b[0m\n",
            "\u001b[?25hRequirement already satisfied: libclang>=9.0.1 in /usr/local/lib/python3.8/dist-packages (from tensorflow-gpu==2.8.3) (15.0.6.1)\n",
            "Requirement already satisfied: six>=1.12.0 in /usr/local/lib/python3.8/dist-packages (from tensorflow-gpu==2.8.3) (1.15.0)\n",
            "Requirement already satisfied: absl-py>=0.4.0 in /usr/local/lib/python3.8/dist-packages (from tensorflow-gpu==2.8.3) (1.4.0)\n",
            "Requirement already satisfied: numpy>=1.20 in /usr/local/lib/python3.8/dist-packages (from tensorflow-gpu==2.8.3) (1.21.6)\n",
            "Requirement already satisfied: typing-extensions>=3.6.6 in /usr/local/lib/python3.8/dist-packages (from tensorflow-gpu==2.8.3) (4.5.0)\n",
            "Requirement already satisfied: setuptools in /usr/local/lib/python3.8/dist-packages (from tensorflow-gpu==2.8.3) (57.4.0)\n",
            "Collecting tensorboard<2.9,>=2.8\n",
            "  Downloading tensorboard-2.8.0-py3-none-any.whl (5.8 MB)\n",
            "\u001b[2K     \u001b[90m━━━━━━━━━━━━━━━━━━━━━━━━━━━━━━━━━━━━━━━━\u001b[0m \u001b[32m5.8/5.8 MB\u001b[0m \u001b[31m74.7 MB/s\u001b[0m eta \u001b[36m0:00:00\u001b[0m\n",
            "\u001b[?25hCollecting tensorflow-estimator<2.9,>=2.8\n",
            "  Downloading tensorflow_estimator-2.8.0-py2.py3-none-any.whl (462 kB)\n",
            "\u001b[2K     \u001b[90m━━━━━━━━━━━━━━━━━━━━━━━━━━━━━━━━━━━━━━\u001b[0m \u001b[32m462.3/462.3 KB\u001b[0m \u001b[31m40.8 MB/s\u001b[0m eta \u001b[36m0:00:00\u001b[0m\n",
            "\u001b[?25hRequirement already satisfied: wheel<1.0,>=0.23.0 in /usr/local/lib/python3.8/dist-packages (from astunparse>=1.6.0->tensorflow-gpu==2.8.3) (0.38.4)\n",
            "Requirement already satisfied: markdown>=2.6.8 in /usr/local/lib/python3.8/dist-packages (from tensorboard<2.9,>=2.8->tensorflow-gpu==2.8.3) (3.4.1)\n",
            "Requirement already satisfied: google-auth<3,>=1.6.3 in /usr/local/lib/python3.8/dist-packages (from tensorboard<2.9,>=2.8->tensorflow-gpu==2.8.3) (2.16.0)\n",
            "Requirement already satisfied: requests<3,>=2.21.0 in /usr/local/lib/python3.8/dist-packages (from tensorboard<2.9,>=2.8->tensorflow-gpu==2.8.3) (2.25.1)\n",
            "Requirement already satisfied: werkzeug>=0.11.15 in /usr/local/lib/python3.8/dist-packages (from tensorboard<2.9,>=2.8->tensorflow-gpu==2.8.3) (1.0.1)\n",
            "Requirement already satisfied: tensorboard-data-server<0.7.0,>=0.6.0 in /usr/local/lib/python3.8/dist-packages (from tensorboard<2.9,>=2.8->tensorflow-gpu==2.8.3) (0.6.1)\n",
            "Requirement already satisfied: tensorboard-plugin-wit>=1.6.0 in /usr/local/lib/python3.8/dist-packages (from tensorboard<2.9,>=2.8->tensorflow-gpu==2.8.3) (1.8.1)\n",
            "Requirement already satisfied: google-auth-oauthlib<0.5,>=0.4.1 in /usr/local/lib/python3.8/dist-packages (from tensorboard<2.9,>=2.8->tensorflow-gpu==2.8.3) (0.4.6)\n",
            "Requirement already satisfied: cachetools<6.0,>=2.0.0 in /usr/local/lib/python3.8/dist-packages (from google-auth<3,>=1.6.3->tensorboard<2.9,>=2.8->tensorflow-gpu==2.8.3) (5.3.0)\n",
            "Requirement already satisfied: pyasn1-modules>=0.2.1 in /usr/local/lib/python3.8/dist-packages (from google-auth<3,>=1.6.3->tensorboard<2.9,>=2.8->tensorflow-gpu==2.8.3) (0.2.8)\n",
            "Requirement already satisfied: rsa<5,>=3.1.4 in /usr/local/lib/python3.8/dist-packages (from google-auth<3,>=1.6.3->tensorboard<2.9,>=2.8->tensorflow-gpu==2.8.3) (4.9)\n",
            "Requirement already satisfied: requests-oauthlib>=0.7.0 in /usr/local/lib/python3.8/dist-packages (from google-auth-oauthlib<0.5,>=0.4.1->tensorboard<2.9,>=2.8->tensorflow-gpu==2.8.3) (1.3.1)\n",
            "Requirement already satisfied: importlib-metadata>=4.4 in /usr/local/lib/python3.8/dist-packages (from markdown>=2.6.8->tensorboard<2.9,>=2.8->tensorflow-gpu==2.8.3) (6.0.0)\n",
            "Requirement already satisfied: idna<3,>=2.5 in /usr/local/lib/python3.8/dist-packages (from requests<3,>=2.21.0->tensorboard<2.9,>=2.8->tensorflow-gpu==2.8.3) (2.10)\n",
            "Requirement already satisfied: certifi>=2017.4.17 in /usr/local/lib/python3.8/dist-packages (from requests<3,>=2.21.0->tensorboard<2.9,>=2.8->tensorflow-gpu==2.8.3) (2022.12.7)\n",
            "Requirement already satisfied: chardet<5,>=3.0.2 in /usr/local/lib/python3.8/dist-packages (from requests<3,>=2.21.0->tensorboard<2.9,>=2.8->tensorflow-gpu==2.8.3) (4.0.0)\n",
            "Requirement already satisfied: urllib3<1.27,>=1.21.1 in /usr/local/lib/python3.8/dist-packages (from requests<3,>=2.21.0->tensorboard<2.9,>=2.8->tensorflow-gpu==2.8.3) (1.24.3)\n",
            "Requirement already satisfied: zipp>=0.5 in /usr/local/lib/python3.8/dist-packages (from importlib-metadata>=4.4->markdown>=2.6.8->tensorboard<2.9,>=2.8->tensorflow-gpu==2.8.3) (3.13.0)\n",
            "Requirement already satisfied: pyasn1<0.5.0,>=0.4.6 in /usr/local/lib/python3.8/dist-packages (from pyasn1-modules>=0.2.1->google-auth<3,>=1.6.3->tensorboard<2.9,>=2.8->tensorflow-gpu==2.8.3) (0.4.8)\n",
            "Requirement already satisfied: oauthlib>=3.0.0 in /usr/local/lib/python3.8/dist-packages (from requests-oauthlib>=0.7.0->google-auth-oauthlib<0.5,>=0.4.1->tensorboard<2.9,>=2.8->tensorflow-gpu==2.8.3) (3.2.2)\n",
            "Installing collected packages: tensorflow-estimator, keras, keras-preprocessing, tensorboard, tensorflow-gpu\n",
            "  Attempting uninstall: tensorflow-estimator\n",
            "    Found existing installation: tensorflow-estimator 2.11.0\n",
            "    Uninstalling tensorflow-estimator-2.11.0:\n",
            "      Successfully uninstalled tensorflow-estimator-2.11.0\n",
            "  Attempting uninstall: keras\n",
            "    Found existing installation: keras 2.11.0\n",
            "    Uninstalling keras-2.11.0:\n",
            "      Successfully uninstalled keras-2.11.0\n",
            "  Attempting uninstall: tensorboard\n",
            "    Found existing installation: tensorboard 2.11.2\n",
            "    Uninstalling tensorboard-2.11.2:\n",
            "      Successfully uninstalled tensorboard-2.11.2\n",
            "\u001b[31mERROR: pip's dependency resolver does not currently take into account all the packages that are installed. This behaviour is the source of the following dependency conflicts.\n",
            "tensorflow 2.11.0 requires keras<2.12,>=2.11.0, but you have keras 2.8.0 which is incompatible.\n",
            "tensorflow 2.11.0 requires tensorboard<2.12,>=2.11, but you have tensorboard 2.8.0 which is incompatible.\n",
            "tensorflow 2.11.0 requires tensorflow-estimator<2.12,>=2.11.0, but you have tensorflow-estimator 2.8.0 which is incompatible.\u001b[0m\u001b[31m\n",
            "\u001b[0mSuccessfully installed keras-2.8.0 keras-preprocessing-1.1.2 tensorboard-2.8.0 tensorflow-estimator-2.8.0 tensorflow-gpu-2.8.3\n"
          ]
        }
      ]
    },
    {
      "cell_type": "code",
      "execution_count": 2,
      "metadata": {
        "id": "xmeG1IN2Lwym"
      },
      "outputs": [],
      "source": [
        "import os\n",
        "import numpy as np\n",
        "import matplotlib.pyplot as plt\n",
        "import tensorflow as tf\n",
        "\n",
        "np.random.seed(33)\n",
        "tf.random.set_seed(33)"
      ]
    },
    {
      "cell_type": "code",
      "source": [
        "from tensorflow.keras import datasets\n",
        "(X_train_full, y_train_full), (X_test, y_test) = datasets.mnist.load_data()"
      ],
      "metadata": {
        "colab": {
          "base_uri": "https://localhost:8080/"
        },
        "id": "oLeqJmJ9RMk0",
        "outputId": "302ff856-33c5-412c-91d6-7a013def85c6"
      },
      "execution_count": 3,
      "outputs": [
        {
          "output_type": "stream",
          "name": "stdout",
          "text": [
            "Downloading data from https://storage.googleapis.com/tensorflow/tf-keras-datasets/mnist.npz\n",
            "11493376/11490434 [==============================] - 1s 0us/step\n",
            "11501568/11490434 [==============================] - 1s 0us/step\n"
          ]
        }
      ]
    },
    {
      "cell_type": "code",
      "source": [
        "X_train_full.shape"
      ],
      "metadata": {
        "colab": {
          "base_uri": "https://localhost:8080/"
        },
        "id": "_ZuaKg5eRZEF",
        "outputId": "99ef9829-8921-40a3-e66b-78e6c241100a"
      },
      "execution_count": 4,
      "outputs": [
        {
          "output_type": "execute_result",
          "data": {
            "text/plain": [
              "(60000, 28, 28)"
            ]
          },
          "metadata": {},
          "execution_count": 4
        }
      ]
    },
    {
      "cell_type": "markdown",
      "source": [
        "### Preprocessing\n",
        "- [0, 255]의 숫자를 [0, 1] 범위로 normalization\n",
        "    - 논문에서는 [-1, 1]\n"
      ],
      "metadata": {
        "id": "8-9TeZK9s-MG"
      }
    },
    {
      "cell_type": "code",
      "source": [
        "from sklearn.model_selection import train_test_split\n",
        "\n",
        "X_train_full = X_train_full / 255.\n",
        "X_test = X_test / 255.\n",
        "\n",
        "X_train, X_valid, y_train, y_valid = train_test_split(X_train_full, y_train_full, test_size=0.1, shuffle=True, stratify=y_train_full)\n",
        "\n",
        "X_train = X_train[..., np.newaxis]\n",
        "X_valid = X_valid[..., np.newaxis]\n",
        "X_test = X_test[..., np.newaxis]"
      ],
      "metadata": {
        "id": "kKVjXGqzRcQE"
      },
      "execution_count": 5,
      "outputs": []
    },
    {
      "cell_type": "markdown",
      "source": [
        "### Data Augmentation\n",
        "- 데이터 증강하여 Train set으로 사용\n",
        "    - 시계방향 혹은 반시계방향으로 20도 회전\n",
        "    - 상하좌우 중 임의의 방향으로 20% 이동\n",
        "- Training 중 새로 변형하여 매 epoch 마다 새로운 데이터를 학습하게 함"
      ],
      "metadata": {
        "id": "DB6ORXLmFGY5"
      }
    },
    {
      "cell_type": "code",
      "source": [
        "# transform example\n",
        "from tensorflow.keras.models import Sequential\n",
        "from tensorflow.keras.layers import RandomTranslation\n",
        "from tensorflow.keras.layers import RandomRotation\n",
        "\n",
        "transforms = Sequential(name=\"transforms_nearest\")\n",
        "transforms.add(RandomTranslation(0.2, 0.2, fill_mode=\"nearest\", interpolation=\"nearest\"))    # 20%\n",
        "transforms.add(RandomRotation(0.06, fill_mode=\"nearest\", interpolation=\"nearest\"))           # almost 20 degree\n",
        "transforms.compile()"
      ],
      "metadata": {
        "id": "0KrtGFoqBpVF"
      },
      "execution_count": 6,
      "outputs": []
    },
    {
      "cell_type": "code",
      "source": [
        "n_samples = 10\n",
        "plt.figure(figsize=(20, 8))\n",
        "for i in range(3):\n",
        "    augmented_input_samples = transforms(X_train[:n_samples], training=True)\n",
        "    for j, sample in enumerate(augmented_input_samples, 1):\n",
        "        plt.subplot(4, n_samples, 10*i+j)\n",
        "        if i == 0:\n",
        "            plt.title(f\"{y_train[j-1]}\")\n",
        "        plt.imshow(sample.numpy().squeeze(-1), cmap=\"gray\")\n",
        "        plt.axis(\"off\")\n",
        "for i in range(n_samples):\n",
        "    plt.subplot(4, n_samples, 31+i)\n",
        "    plt.imshow(X_train[i].squeeze(-1), cmap=\"gray\")\n",
        "    plt.axis(\"off\")\n",
        "plt.show()"
      ],
      "metadata": {
        "colab": {
          "base_uri": "https://localhost:8080/",
          "height": 439
        },
        "id": "PbNiQuBS6zq4",
        "outputId": "c7c83f69-d7cf-4a45-91c7-86818dacd899"
      },
      "execution_count": 7,
      "outputs": [
        {
          "output_type": "display_data",
          "data": {
            "text/plain": [
              "<Figure size 1440x576 with 40 Axes>"
            ],
            "image/png": "[encoded data removed]"
          },
          "metadata": {
            "needs_background": "light"
          }
        }
      ]
    },
    {
      "cell_type": "code",
      "source": [
        "transforms = Sequential(name=\"transforms_bilinear\")\n",
        "transforms.add(RandomTranslation(0.2, 0.2, fill_mode=\"nearest\", interpolation=\"bilinear\"))    # 20%\n",
        "transforms.add(RandomRotation(0.06, fill_mode=\"nearest\", interpolation=\"bilinear\"))           # almost 20 degree\n",
        "transforms.compile()"
      ],
      "metadata": {
        "id": "jVRSS4HbICVa"
      },
      "execution_count": 8,
      "outputs": []
    },
    {
      "cell_type": "code",
      "source": [
        "n_samples = 10\n",
        "plt.figure(figsize=(20, 8))\n",
        "for i in range(3):\n",
        "    augmented_input_samples = transforms(X_train[:n_samples], training=True)\n",
        "    for j, sample in enumerate(augmented_input_samples, 1):\n",
        "        plt.subplot(4, n_samples, 10*i+j)\n",
        "        if i == 0:\n",
        "            plt.title(f\"{y_train[j-1]}\")\n",
        "        plt.imshow(sample.numpy().squeeze(-1), cmap=\"gray\")\n",
        "        plt.axis(\"off\")\n",
        "for i in range(n_samples):\n",
        "    plt.subplot(4, n_samples, 31+i)\n",
        "    plt.imshow(X_train[i].squeeze(-1), cmap=\"gray\")\n",
        "    plt.axis(\"off\")\n",
        "plt.show()"
      ],
      "metadata": {
        "colab": {
          "base_uri": "https://localhost:8080/",
          "height": 439
        },
        "id": "z4wK1eH3ILzs",
        "outputId": "205571e6-7030-4643-8d7d-67dc535359eb"
      },
      "execution_count": 9,
      "outputs": [
        {
          "output_type": "display_data",
          "data": {
            "text/plain": [
              "<Figure size 1440x576 with 40 Axes>"
            ],
            "image/png": "[encoded data removed]"
          },
          "metadata": {
            "needs_background": "light"
          }
        }
      ]
    },
    {
      "cell_type": "code",
      "source": [
        "transforms = Sequential(name=\"transforms_cross_nb\")\n",
        "transforms.add(RandomTranslation(0.2, 0.2, fill_mode=\"nearest\", interpolation=\"nearest\"))    # 20%\n",
        "transforms.add(RandomRotation(0.06, fill_mode=\"nearest\", interpolation=\"bilinear\"))           # almost 20 degree\n",
        "transforms.compile()"
      ],
      "metadata": {
        "id": "GSMwpdkjIU5_"
      },
      "execution_count": 10,
      "outputs": []
    },
    {
      "cell_type": "code",
      "source": [
        "n_samples = 10\n",
        "plt.figure(figsize=(20, 8))\n",
        "for i in range(3):\n",
        "    augmented_input_samples = transforms(X_train[:n_samples], training=True)\n",
        "    for j, sample in enumerate(augmented_input_samples, 1):\n",
        "        plt.subplot(4, n_samples, 10*i+j)\n",
        "        if i == 0:\n",
        "            plt.title(f\"{y_train[j-1]}\")\n",
        "        plt.imshow(sample.numpy().squeeze(-1), cmap=\"gray\")\n",
        "        plt.axis(\"off\")\n",
        "for i in range(n_samples):\n",
        "    plt.subplot(4, n_samples, 31+i)\n",
        "    plt.imshow(X_train[i].squeeze(-1), cmap=\"gray\")\n",
        "    plt.axis(\"off\")\n",
        "plt.show()"
      ],
      "metadata": {
        "colab": {
          "base_uri": "https://localhost:8080/",
          "height": 439
        },
        "outputId": "50291c4f-c639-4032-91b5-92f92e980bc6",
        "id": "7RIpOQ8VIU6A"
      },
      "execution_count": 11,
      "outputs": [
        {
          "output_type": "display_data",
          "data": {
            "text/plain": [
              "<Figure size 1440x576 with 40 Axes>"
            ],
            "image/png": "[encoded data removed]"
          },
          "metadata": {
            "needs_background": "light"
          }
        }
      ]
    },
    {
      "cell_type": "code",
      "source": [
        "transforms = Sequential(name=\"transforms_cross_bn\")\n",
        "transforms.add(RandomTranslation(0.2, 0.2, fill_mode=\"nearest\", interpolation=\"bilinear\"))    # 20%\n",
        "transforms.add(RandomRotation(0.06, fill_mode=\"nearest\", interpolation=\"nearest\"))           # almost 20 degree\n",
        "transforms.compile()"
      ],
      "metadata": {
        "id": "Rn0letLAIho2"
      },
      "execution_count": 12,
      "outputs": []
    },
    {
      "cell_type": "code",
      "source": [
        "n_samples = 10\n",
        "plt.figure(figsize=(20, 8))\n",
        "for i in range(3):\n",
        "    augmented_input_samples = transforms(X_train[:n_samples], training=True)\n",
        "    for j, sample in enumerate(augmented_input_samples, 1):\n",
        "        plt.subplot(4, n_samples, 10*i+j)\n",
        "        if i == 0:\n",
        "            plt.title(f\"{y_train[j-1]}\")\n",
        "        plt.imshow(sample.numpy().squeeze(-1), cmap=\"gray\")\n",
        "        plt.axis(\"off\")\n",
        "for i in range(n_samples):\n",
        "    plt.subplot(4, n_samples, 31+i)\n",
        "    plt.imshow(X_train[i].squeeze(-1), cmap=\"gray\")\n",
        "    plt.axis(\"off\")\n",
        "plt.show()"
      ],
      "metadata": {
        "colab": {
          "base_uri": "https://localhost:8080/",
          "height": 439
        },
        "outputId": "6c1b2160-9615-44f2-d7c0-ccb41ac236c2",
        "id": "TfqXkKIrIho3"
      },
      "execution_count": 13,
      "outputs": [
        {
          "output_type": "display_data",
          "data": {
            "text/plain": [
              "<Figure size 1440x576 with 40 Axes>"
            ],
            "image/png": "[encoded data removed]"
          },
          "metadata": {
            "needs_background": "light"
          }
        }
      ]
    },
    {
      "cell_type": "code",
      "source": [
        "X_train.shape, X_valid.shape"
      ],
      "metadata": {
        "colab": {
          "base_uri": "https://localhost:8080/"
        },
        "id": "-1I6voSALnQr",
        "outputId": "c51745d0-b257-421e-fe49-862325bb0cdf"
      },
      "execution_count": 14,
      "outputs": [
        {
          "output_type": "execute_result",
          "data": {
            "text/plain": [
              "((54000, 28, 28, 1), (6000, 28, 28, 1))"
            ]
          },
          "metadata": {},
          "execution_count": 14
        }
      ]
    },
    {
      "cell_type": "markdown",
      "source": [
        "### Modeling"
      ],
      "metadata": {
        "id": "0s2WJU0KtCah"
      }
    },
    {
      "cell_type": "code",
      "source": [
        "import tensorflow as tf\n",
        "\n",
        "from tensorflow.keras.models import Sequential\n",
        "from tensorflow.keras.layers import Conv2D\n",
        "from tensorflow.keras.layers import BatchNormalization\n",
        "from tensorflow.keras.layers import Dense\n",
        "from tensorflow.keras.layers import Flatten\n",
        "from tensorflow.keras.layers import Softmax\n",
        "from tensorflow.keras.layers import InputLayer\n",
        "\n",
        "tf.random.set_seed(33)\n",
        "tf.random.set_seed(33)"
      ],
      "metadata": {
        "id": "ufMnKUkvSQgW"
      },
      "execution_count": 15,
      "outputs": []
    },
    {
      "cell_type": "code",
      "source": [
        "preprocess = Sequential(name=\"shift_and_rotation\")\n",
        "preprocess.add(RandomTranslation(0.2, 0.2, fill_mode=\"nearest\", interpolation=\"nearest\"))    # 20%\n",
        "preprocess.add(RandomRotation(0.06, fill_mode=\"nearest\", interpolation=\"bilinear\"))           # almost 20 degree"
      ],
      "metadata": {
        "id": "E_7xeL1tIwvV"
      },
      "execution_count": 16,
      "outputs": []
    },
    {
      "cell_type": "markdown",
      "source": [
        "#### M3"
      ],
      "metadata": {
        "id": "hCdPQSIdtFhb"
      }
    },
    {
      "cell_type": "code",
      "source": [
        "# M3\n",
        "model_M3 = Sequential(name=\"M3\")\n",
        "model_M3.add(InputLayer((28, 28, 1)))\n",
        "model_M3.add(preprocess)\n",
        "model_M3.add(Conv2D(filters=32,  kernel_size=3, activation=\"relu\"))\n",
        "model_M3.add(BatchNormalization())\n",
        "model_M3.add(Conv2D(filters=48,  kernel_size=3, activation=\"relu\"))\n",
        "model_M3.add(BatchNormalization())\n",
        "model_M3.add(Conv2D(filters=64,  kernel_size=3, activation=\"relu\"))\n",
        "model_M3.add(BatchNormalization())\n",
        "model_M3.add(Conv2D(filters=80,  kernel_size=3, activation=\"relu\"))\n",
        "model_M3.add(BatchNormalization())\n",
        "model_M3.add(Conv2D(filters=96,  kernel_size=3, activation=\"relu\"))\n",
        "model_M3.add(BatchNormalization())\n",
        "model_M3.add(Conv2D(filters=112, kernel_size=3, activation=\"relu\"))\n",
        "model_M3.add(BatchNormalization())\n",
        "model_M3.add(Conv2D(filters=128, kernel_size=3, activation=\"relu\"))\n",
        "model_M3.add(BatchNormalization())\n",
        "model_M3.add(Conv2D(filters=144, kernel_size=3, activation=\"relu\"))\n",
        "model_M3.add(BatchNormalization())\n",
        "model_M3.add(Conv2D(filters=160, kernel_size=3, activation=\"relu\"))\n",
        "model_M3.add(BatchNormalization())\n",
        "model_M3.add(Conv2D(filters=176, kernel_size=3, activation=\"relu\"))\n",
        "model_M3.add(BatchNormalization())\n",
        "model_M3.add(Flatten())\n",
        "model_M3.add(Dense(units=10))\n",
        "model_M3.add(BatchNormalization())\n",
        "model_M3.add(Softmax())"
      ],
      "metadata": {
        "id": "Jja4eecUhEqO"
      },
      "execution_count": 17,
      "outputs": []
    },
    {
      "cell_type": "code",
      "source": [
        "model_M3.summary()"
      ],
      "metadata": {
        "colab": {
          "base_uri": "https://localhost:8080/"
        },
        "id": "4YdhN0tWlieh",
        "outputId": "56630c56-c96e-4972-ef35-6fd51e2bfcfb"
      },
      "execution_count": 18,
      "outputs": [
        {
          "output_type": "stream",
          "name": "stdout",
          "text": [
            "Model: \"M3\"\n",
            "_________________________________________________________________\n",
            " Layer (type)                Output Shape              Param #   \n",
            "=================================================================\n",
            " shift_and_rotation (Sequent  (None, 28, 28, 1)        0         \n",
            " ial)                                                            \n",
            "                                                                 \n",
            " conv2d (Conv2D)             (None, 26, 26, 32)        320       \n",
            "                                                                 \n",
            " batch_normalization (BatchN  (None, 26, 26, 32)       128       \n",
            " ormalization)                                                   \n",
            "                                                                 \n",
            " conv2d_1 (Conv2D)           (None, 24, 24, 48)        13872     \n",
            "                                                                 \n",
            " batch_normalization_1 (Batc  (None, 24, 24, 48)       192       \n",
            " hNormalization)                                                 \n",
            "                                                                 \n",
            " conv2d_2 (Conv2D)           (None, 22, 22, 64)        27712     \n",
            "                                                                 \n",
            " batch_normalization_2 (Batc  (None, 22, 22, 64)       256       \n",
            " hNormalization)                                                 \n",
            "                                                                 \n",
            " conv2d_3 (Conv2D)           (None, 20, 20, 80)        46160     \n",
            "                                                                 \n",
            " batch_normalization_3 (Batc  (None, 20, 20, 80)       320       \n",
            " hNormalization)                                                 \n",
            "                                                                 \n",
            " conv2d_4 (Conv2D)           (None, 18, 18, 96)        69216     \n",
            "                                                                 \n",
            " batch_normalization_4 (Batc  (None, 18, 18, 96)       384       \n",
            " hNormalization)                                                 \n",
            "                                                                 \n",
            " conv2d_5 (Conv2D)           (None, 16, 16, 112)       96880     \n",
            "                                                                 \n",
            " batch_normalization_5 (Batc  (None, 16, 16, 112)      448       \n",
            " hNormalization)                                                 \n",
            "                                                                 \n",
            " conv2d_6 (Conv2D)           (None, 14, 14, 128)       129152    \n",
            "                                                                 \n",
            " batch_normalization_6 (Batc  (None, 14, 14, 128)      512       \n",
            " hNormalization)                                                 \n",
            "                                                                 \n",
            " conv2d_7 (Conv2D)           (None, 12, 12, 144)       166032    \n",
            "                                                                 \n",
            " batch_normalization_7 (Batc  (None, 12, 12, 144)      576       \n",
            " hNormalization)                                                 \n",
            "                                                                 \n",
            " conv2d_8 (Conv2D)           (None, 10, 10, 160)       207520    \n",
            "                                                                 \n",
            " batch_normalization_8 (Batc  (None, 10, 10, 160)      640       \n",
            " hNormalization)                                                 \n",
            "                                                                 \n",
            " conv2d_9 (Conv2D)           (None, 8, 8, 176)         253616    \n",
            "                                                                 \n",
            " batch_normalization_9 (Batc  (None, 8, 8, 176)        704       \n",
            " hNormalization)                                                 \n",
            "                                                                 \n",
            " flatten (Flatten)           (None, 11264)             0         \n",
            "                                                                 \n",
            " dense (Dense)               (None, 10)                112650    \n",
            "                                                                 \n",
            " batch_normalization_10 (Bat  (None, 10)               40        \n",
            " chNormalization)                                                \n",
            "                                                                 \n",
            " softmax (Softmax)           (None, 10)                0         \n",
            "                                                                 \n",
            "=================================================================\n",
            "Total params: 1,127,330\n",
            "Trainable params: 1,125,230\n",
            "Non-trainable params: 2,100\n",
            "_________________________________________________________________\n"
          ]
        }
      ]
    },
    {
      "cell_type": "markdown",
      "source": [
        "#### M5"
      ],
      "metadata": {
        "id": "ZH1xUDBptH-J"
      }
    },
    {
      "cell_type": "code",
      "source": [
        "model_M5 = Sequential(name=\"M5\")\n",
        "model_M5.add(InputLayer((28, 28, 1)))\n",
        "model_M5.add(preprocess)\n",
        "model_M5.add(Conv2D(filters=32,  kernel_size=5, activation=\"relu\"))\n",
        "model_M5.add(BatchNormalization())\n",
        "model_M5.add(Conv2D(filters=64,  kernel_size=5, activation=\"relu\"))\n",
        "model_M5.add(BatchNormalization())\n",
        "model_M5.add(Conv2D(filters=96,  kernel_size=5, activation=\"relu\"))\n",
        "model_M5.add(BatchNormalization())\n",
        "model_M5.add(Conv2D(filters=128, kernel_size=5, activation=\"relu\"))\n",
        "model_M5.add(BatchNormalization())\n",
        "model_M5.add(Conv2D(filters=160, kernel_size=5, activation=\"relu\"))\n",
        "model_M5.add(BatchNormalization())\n",
        "model_M5.add(Flatten())\n",
        "model_M5.add(Dense(units=10))\n",
        "model_M5.add(BatchNormalization())\n",
        "model_M5.add(Softmax())"
      ],
      "metadata": {
        "id": "JDj3mKX2ljOG"
      },
      "execution_count": 19,
      "outputs": []
    },
    {
      "cell_type": "code",
      "source": [
        "model_M5.summary()"
      ],
      "metadata": {
        "colab": {
          "base_uri": "https://localhost:8080/"
        },
        "id": "02HlY6zIoKhm",
        "outputId": "880164af-a341-4f84-b457-63b736c76c24"
      },
      "execution_count": 20,
      "outputs": [
        {
          "output_type": "stream",
          "name": "stdout",
          "text": [
            "Model: \"M5\"\n",
            "_________________________________________________________________\n",
            " Layer (type)                Output Shape              Param #   \n",
            "=================================================================\n",
            " shift_and_rotation (Sequent  (None, 28, 28, 1)        0         \n",
            " ial)                                                            \n",
            "                                                                 \n",
            " conv2d_10 (Conv2D)          (None, 24, 24, 32)        832       \n",
            "                                                                 \n",
            " batch_normalization_11 (Bat  (None, 24, 24, 32)       128       \n",
            " chNormalization)                                                \n",
            "                                                                 \n",
            " conv2d_11 (Conv2D)          (None, 20, 20, 64)        51264     \n",
            "                                                                 \n",
            " batch_normalization_12 (Bat  (None, 20, 20, 64)       256       \n",
            " chNormalization)                                                \n",
            "                                                                 \n",
            " conv2d_12 (Conv2D)          (None, 16, 16, 96)        153696    \n",
            "                                                                 \n",
            " batch_normalization_13 (Bat  (None, 16, 16, 96)       384       \n",
            " chNormalization)                                                \n",
            "                                                                 \n",
            " conv2d_13 (Conv2D)          (None, 12, 12, 128)       307328    \n",
            "                                                                 \n",
            " batch_normalization_14 (Bat  (None, 12, 12, 128)      512       \n",
            " chNormalization)                                                \n",
            "                                                                 \n",
            " conv2d_14 (Conv2D)          (None, 8, 8, 160)         512160    \n",
            "                                                                 \n",
            " batch_normalization_15 (Bat  (None, 8, 8, 160)        640       \n",
            " chNormalization)                                                \n",
            "                                                                 \n",
            " flatten_1 (Flatten)         (None, 10240)             0         \n",
            "                                                                 \n",
            " dense_1 (Dense)             (None, 10)                102410    \n",
            "                                                                 \n",
            " batch_normalization_16 (Bat  (None, 10)               40        \n",
            " chNormalization)                                                \n",
            "                                                                 \n",
            " softmax_1 (Softmax)         (None, 10)                0         \n",
            "                                                                 \n",
            "=================================================================\n",
            "Total params: 1,129,650\n",
            "Trainable params: 1,128,670\n",
            "Non-trainable params: 980\n",
            "_________________________________________________________________\n"
          ]
        }
      ]
    },
    {
      "cell_type": "markdown",
      "source": [
        "#### M7"
      ],
      "metadata": {
        "id": "oRt18vFvtKRe"
      }
    },
    {
      "cell_type": "code",
      "source": [
        "# M7\n",
        "model_M7 = Sequential(name=\"M7\")\n",
        "model_M7.add(InputLayer((28, 28, 1)))\n",
        "model_M7.add(preprocess)\n",
        "model_M7.add(Conv2D(filters=48,  kernel_size=7, activation=\"relu\"))\n",
        "model_M7.add(BatchNormalization())\n",
        "model_M7.add(Conv2D(filters=96,  kernel_size=7, activation=\"relu\"))\n",
        "model_M7.add(BatchNormalization())\n",
        "model_M7.add(Conv2D(filters=144, kernel_size=7, activation=\"relu\"))\n",
        "model_M7.add(BatchNormalization())\n",
        "model_M7.add(Conv2D(filters=192, kernel_size=7, activation=\"relu\"))\n",
        "model_M7.add(BatchNormalization())\n",
        "model_M7.add(Flatten())\n",
        "model_M7.add(Dense(units=10))\n",
        "model_M7.add(BatchNormalization())\n",
        "model_M7.add(Softmax())"
      ],
      "metadata": {
        "id": "5LBQhAh8oSmq"
      },
      "execution_count": 21,
      "outputs": []
    },
    {
      "cell_type": "code",
      "source": [
        "model_M7.summary()"
      ],
      "metadata": {
        "colab": {
          "base_uri": "https://localhost:8080/"
        },
        "id": "ev3ERByMpr0a",
        "outputId": "2bc44d97-7d47-41d3-a980-e96c416a950a"
      },
      "execution_count": 22,
      "outputs": [
        {
          "output_type": "stream",
          "name": "stdout",
          "text": [
            "Model: \"M7\"\n",
            "_________________________________________________________________\n",
            " Layer (type)                Output Shape              Param #   \n",
            "=================================================================\n",
            " shift_and_rotation (Sequent  (None, 28, 28, 1)        0         \n",
            " ial)                                                            \n",
            "                                                                 \n",
            " conv2d_15 (Conv2D)          (None, 22, 22, 48)        2400      \n",
            "                                                                 \n",
            " batch_normalization_17 (Bat  (None, 22, 22, 48)       192       \n",
            " chNormalization)                                                \n",
            "                                                                 \n",
            " conv2d_16 (Conv2D)          (None, 16, 16, 96)        225888    \n",
            "                                                                 \n",
            " batch_normalization_18 (Bat  (None, 16, 16, 96)       384       \n",
            " chNormalization)                                                \n",
            "                                                                 \n",
            " conv2d_17 (Conv2D)          (None, 10, 10, 144)       677520    \n",
            "                                                                 \n",
            " batch_normalization_19 (Bat  (None, 10, 10, 144)      576       \n",
            " chNormalization)                                                \n",
            "                                                                 \n",
            " conv2d_18 (Conv2D)          (None, 4, 4, 192)         1354944   \n",
            "                                                                 \n",
            " batch_normalization_20 (Bat  (None, 4, 4, 192)        768       \n",
            " chNormalization)                                                \n",
            "                                                                 \n",
            " flatten_2 (Flatten)         (None, 3072)              0         \n",
            "                                                                 \n",
            " dense_2 (Dense)             (None, 10)                30730     \n",
            "                                                                 \n",
            " batch_normalization_21 (Bat  (None, 10)               40        \n",
            " chNormalization)                                                \n",
            "                                                                 \n",
            " softmax_2 (Softmax)         (None, 10)                0         \n",
            "                                                                 \n",
            "=================================================================\n",
            "Total params: 2,293,442\n",
            "Trainable params: 2,292,462\n",
            "Non-trainable params: 980\n",
            "_________________________________________________________________\n"
          ]
        }
      ]
    },
    {
      "cell_type": "markdown",
      "source": [
        "### Training\n",
        "- transform 층을 모델 앞에 붙여 학습 진행 (evalution 시에는 transform 하지 않음)\n",
        "- Hyperparameter\n",
        "    - batch size = training 120, validation 100\n",
        "    - initial learning_rate = 0.001\n",
        "    - decay (beta_1) = 0.98\n",
        "    - exponential moving average of weights\n",
        "        - exponential decay = 0.999"
      ],
      "metadata": {
        "id": "avStprib-irP"
      }
    },
    {
      "cell_type": "code",
      "source": [
        "from tensorflow.keras.optimizers import Adam\n",
        "\n",
        "optimizer = Adam(learning_rate=0.001, beta_1=0.98)\n",
        "model_M3.compile(optimizer=optimizer,\n",
        "                loss=\"sparse_categorical_crossentropy\", \n",
        "                metrics=[\"accuracy\"])\n",
        "history_M3 = model_M3.fit(X_train, y_train, \n",
        "                          epochs=150,\n",
        "                          batch_size=120,\n",
        "                          shuffle=True,\n",
        "                          validation_data=(X_valid, y_valid),\n",
        "                          validation_batch_size=100\n",
        "                          )\n",
        "model_M3.evaluate(X_test, y_test)"
      ],
      "metadata": {
        "id": "CQU962qgptQN",
        "colab": {
          "base_uri": "https://localhost:8080/"
        },
        "outputId": "16f698d0-e49f-45ae-cda4-e120bdf7c399"
      },
      "execution_count": 23,
      "outputs": [
        {
          "output_type": "stream",
          "name": "stdout",
          "text": [
            "Epoch 1/150\n",
            "450/450 [==============================] - 28s 43ms/step - loss: 0.7022 - accuracy: 0.8415 - val_loss: 2.7451 - val_accuracy: 0.2840\n",
            "Epoch 2/150\n",
            "450/450 [==============================] - 19s 42ms/step - loss: 0.2258 - accuracy: 0.9679 - val_loss: 0.1499 - val_accuracy: 0.9772\n",
            "Epoch 3/150\n",
            "450/450 [==============================] - 19s 43ms/step - loss: 0.1512 - accuracy: 0.9739 - val_loss: 0.1084 - val_accuracy: 0.9835\n",
            "Epoch 4/150\n",
            "450/450 [==============================] - 19s 43ms/step - loss: 0.1115 - accuracy: 0.9797 - val_loss: 0.0754 - val_accuracy: 0.9875\n",
            "Epoch 5/150\n",
            "450/450 [==============================] - 19s 43ms/step - loss: 0.0926 - accuracy: 0.9811 - val_loss: 0.0755 - val_accuracy: 0.9827\n",
            "Epoch 6/150\n",
            "450/450 [==============================] - 19s 42ms/step - loss: 0.0837 - accuracy: 0.9823 - val_loss: 0.0552 - val_accuracy: 0.9872\n",
            "Epoch 7/150\n",
            "450/450 [==============================] - 19s 42ms/step - loss: 0.0782 - accuracy: 0.9824 - val_loss: 0.0790 - val_accuracy: 0.9797\n",
            "Epoch 8/150\n",
            "450/450 [==============================] - 19s 43ms/step - loss: 0.0674 - accuracy: 0.9835 - val_loss: 0.0540 - val_accuracy: 0.9867\n",
            "Epoch 9/150\n",
            "450/450 [==============================] - 19s 43ms/step - loss: 0.0632 - accuracy: 0.9844 - val_loss: 0.0432 - val_accuracy: 0.9897\n",
            "Epoch 10/150\n",
            "450/450 [==============================] - 19s 42ms/step - loss: 0.0585 - accuracy: 0.9856 - val_loss: 0.0596 - val_accuracy: 0.9880\n",
            "Epoch 11/150\n",
            "450/450 [==============================] - 19s 43ms/step - loss: 0.0577 - accuracy: 0.9855 - val_loss: 0.0418 - val_accuracy: 0.9897\n",
            "Epoch 12/150\n",
            "450/450 [==============================] - 19s 42ms/step - loss: 0.0545 - accuracy: 0.9858 - val_loss: 0.0438 - val_accuracy: 0.9892\n",
            "Epoch 13/150\n",
            "450/450 [==============================] - 19s 42ms/step - loss: 0.0511 - accuracy: 0.9868 - val_loss: 0.0324 - val_accuracy: 0.9912\n",
            "Epoch 14/150\n",
            "450/450 [==============================] - 19s 42ms/step - loss: 0.0474 - accuracy: 0.9884 - val_loss: 0.0336 - val_accuracy: 0.9907\n",
            "Epoch 15/150\n",
            "450/450 [==============================] - 19s 42ms/step - loss: 0.0442 - accuracy: 0.9880 - val_loss: 0.0463 - val_accuracy: 0.9875\n",
            "Epoch 16/150\n",
            "450/450 [==============================] - 19s 42ms/step - loss: 0.0425 - accuracy: 0.9889 - val_loss: 0.0485 - val_accuracy: 0.9882\n",
            "Epoch 17/150\n",
            "450/450 [==============================] - 19s 42ms/step - loss: 0.0403 - accuracy: 0.9895 - val_loss: 0.0327 - val_accuracy: 0.9908\n",
            "Epoch 18/150\n",
            "450/450 [==============================] - 19s 42ms/step - loss: 0.0400 - accuracy: 0.9895 - val_loss: 0.3273 - val_accuracy: 0.8930\n",
            "Epoch 19/150\n",
            "450/450 [==============================] - 19s 42ms/step - loss: 0.0406 - accuracy: 0.9893 - val_loss: 0.0411 - val_accuracy: 0.9900\n",
            "Epoch 20/150\n",
            "450/450 [==============================] - 19s 42ms/step - loss: 0.0393 - accuracy: 0.9896 - val_loss: 0.0358 - val_accuracy: 0.9902\n",
            "Epoch 21/150\n",
            "450/450 [==============================] - 19s 42ms/step - loss: 0.0377 - accuracy: 0.9896 - val_loss: 0.0346 - val_accuracy: 0.9918\n",
            "Epoch 22/150\n",
            "450/450 [==============================] - 19s 43ms/step - loss: 0.0371 - accuracy: 0.9898 - val_loss: 0.0352 - val_accuracy: 0.9900\n",
            "Epoch 23/150\n",
            "450/450 [==============================] - 19s 43ms/step - loss: 0.0349 - accuracy: 0.9905 - val_loss: 0.0287 - val_accuracy: 0.9927\n",
            "Epoch 24/150\n",
            "450/450 [==============================] - 19s 42ms/step - loss: 0.0328 - accuracy: 0.9913 - val_loss: 0.0396 - val_accuracy: 0.9893\n",
            "Epoch 25/150\n",
            "450/450 [==============================] - 19s 42ms/step - loss: 0.0313 - accuracy: 0.9919 - val_loss: 0.0343 - val_accuracy: 0.9902\n",
            "Epoch 26/150\n",
            "450/450 [==============================] - 19s 42ms/step - loss: 0.0311 - accuracy: 0.9914 - val_loss: 0.0328 - val_accuracy: 0.9932\n",
            "Epoch 27/150\n",
            "450/450 [==============================] - 20s 44ms/step - loss: 0.0310 - accuracy: 0.9917 - val_loss: 0.0355 - val_accuracy: 0.9902\n",
            "Epoch 28/150\n",
            "450/450 [==============================] - 19s 43ms/step - loss: 0.0273 - accuracy: 0.9925 - val_loss: 0.0348 - val_accuracy: 0.9913\n",
            "Epoch 29/150\n",
            "450/450 [==============================] - 19s 42ms/step - loss: 0.0280 - accuracy: 0.9922 - val_loss: 0.0325 - val_accuracy: 0.9920\n",
            "Epoch 30/150\n",
            "450/450 [==============================] - 19s 42ms/step - loss: 0.0276 - accuracy: 0.9925 - val_loss: 0.0315 - val_accuracy: 0.9915\n",
            "Epoch 31/150\n",
            "450/450 [==============================] - 19s 42ms/step - loss: 0.0248 - accuracy: 0.9932 - val_loss: 0.0350 - val_accuracy: 0.9902\n",
            "Epoch 32/150\n",
            "450/450 [==============================] - 19s 42ms/step - loss: 0.0238 - accuracy: 0.9936 - val_loss: 0.0299 - val_accuracy: 0.9932\n",
            "Epoch 33/150\n",
            "450/450 [==============================] - 19s 43ms/step - loss: 0.0248 - accuracy: 0.9933 - val_loss: 0.0304 - val_accuracy: 0.9920\n",
            "Epoch 34/150\n",
            "450/450 [==============================] - 19s 42ms/step - loss: 0.0251 - accuracy: 0.9934 - val_loss: 0.0352 - val_accuracy: 0.9900\n",
            "Epoch 35/150\n",
            "450/450 [==============================] - 19s 42ms/step - loss: 0.0242 - accuracy: 0.9932 - val_loss: 0.0273 - val_accuracy: 0.9932\n",
            "Epoch 36/150\n",
            "450/450 [==============================] - 20s 43ms/step - loss: 0.0248 - accuracy: 0.9933 - val_loss: 0.0307 - val_accuracy: 0.9932\n",
            "Epoch 37/150\n",
            "450/450 [==============================] - 19s 42ms/step - loss: 0.0256 - accuracy: 0.9929 - val_loss: 0.0326 - val_accuracy: 0.9927\n",
            "Epoch 38/150\n",
            "450/450 [==============================] - 19s 42ms/step - loss: 0.0227 - accuracy: 0.9938 - val_loss: 0.0273 - val_accuracy: 0.9935\n",
            "Epoch 39/150\n",
            "450/450 [==============================] - 19s 42ms/step - loss: 0.0224 - accuracy: 0.9941 - val_loss: 0.0292 - val_accuracy: 0.9922\n",
            "Epoch 40/150\n",
            "450/450 [==============================] - 19s 42ms/step - loss: 0.0201 - accuracy: 0.9944 - val_loss: 0.0280 - val_accuracy: 0.9935\n",
            "Epoch 41/150\n",
            "450/450 [==============================] - 19s 42ms/step - loss: 0.0232 - accuracy: 0.9939 - val_loss: 0.0349 - val_accuracy: 0.9905\n",
            "Epoch 42/150\n",
            "450/450 [==============================] - 19s 42ms/step - loss: 0.0203 - accuracy: 0.9944 - val_loss: 0.0246 - val_accuracy: 0.9947\n",
            "Epoch 43/150\n",
            "450/450 [==============================] - 19s 42ms/step - loss: 0.0220 - accuracy: 0.9939 - val_loss: 0.0313 - val_accuracy: 0.9930\n",
            "Epoch 44/150\n",
            "450/450 [==============================] - 19s 43ms/step - loss: 0.0189 - accuracy: 0.9949 - val_loss: 0.0310 - val_accuracy: 0.9935\n",
            "Epoch 45/150\n",
            "450/450 [==============================] - 19s 42ms/step - loss: 0.0180 - accuracy: 0.9950 - val_loss: 0.0295 - val_accuracy: 0.9930\n",
            "Epoch 46/150\n",
            "450/450 [==============================] - 19s 42ms/step - loss: 0.0192 - accuracy: 0.9942 - val_loss: 0.0335 - val_accuracy: 0.9920\n",
            "Epoch 47/150\n",
            "450/450 [==============================] - 19s 42ms/step - loss: 0.0222 - accuracy: 0.9940 - val_loss: 0.0339 - val_accuracy: 0.9927\n",
            "Epoch 48/150\n",
            "450/450 [==============================] - 19s 42ms/step - loss: 0.0184 - accuracy: 0.9949 - val_loss: 0.0348 - val_accuracy: 0.9908\n",
            "Epoch 49/150\n",
            "450/450 [==============================] - 19s 42ms/step - loss: 0.0183 - accuracy: 0.9947 - val_loss: 0.0336 - val_accuracy: 0.9927\n",
            "Epoch 50/150\n",
            "450/450 [==============================] - 19s 42ms/step - loss: 0.0178 - accuracy: 0.9952 - val_loss: 0.0289 - val_accuracy: 0.9928\n",
            "Epoch 51/150\n",
            "450/450 [==============================] - 19s 42ms/step - loss: 0.0172 - accuracy: 0.9951 - val_loss: 0.0297 - val_accuracy: 0.9942\n",
            "Epoch 52/150\n",
            "450/450 [==============================] - 19s 42ms/step - loss: 0.0180 - accuracy: 0.9948 - val_loss: 0.0259 - val_accuracy: 0.9932\n",
            "Epoch 53/150\n",
            "450/450 [==============================] - 19s 42ms/step - loss: 0.0200 - accuracy: 0.9945 - val_loss: 0.0269 - val_accuracy: 0.9945\n",
            "Epoch 54/150\n",
            "450/450 [==============================] - 19s 42ms/step - loss: 0.0158 - accuracy: 0.9959 - val_loss: 0.0261 - val_accuracy: 0.9943\n",
            "Epoch 55/150\n",
            "450/450 [==============================] - 19s 42ms/step - loss: 0.0173 - accuracy: 0.9953 - val_loss: 0.0280 - val_accuracy: 0.9938\n",
            "Epoch 56/150\n",
            "450/450 [==============================] - 19s 42ms/step - loss: 0.0159 - accuracy: 0.9954 - val_loss: 0.0345 - val_accuracy: 0.9918\n",
            "Epoch 57/150\n",
            "450/450 [==============================] - 19s 42ms/step - loss: 0.0188 - accuracy: 0.9947 - val_loss: 0.0274 - val_accuracy: 0.9937\n",
            "Epoch 58/150\n",
            "450/450 [==============================] - 19s 42ms/step - loss: 0.0159 - accuracy: 0.9955 - val_loss: 0.0261 - val_accuracy: 0.9952\n",
            "Epoch 59/150\n",
            "450/450 [==============================] - 19s 42ms/step - loss: 0.0154 - accuracy: 0.9957 - val_loss: 0.0341 - val_accuracy: 0.9917\n",
            "Epoch 60/150\n",
            "450/450 [==============================] - 19s 42ms/step - loss: 0.0163 - accuracy: 0.9955 - val_loss: 0.0266 - val_accuracy: 0.9945\n",
            "Epoch 61/150\n",
            "450/450 [==============================] - 19s 42ms/step - loss: 0.0153 - accuracy: 0.9958 - val_loss: 0.0283 - val_accuracy: 0.9947\n",
            "Epoch 62/150\n",
            "450/450 [==============================] - 19s 42ms/step - loss: 0.0138 - accuracy: 0.9961 - val_loss: 0.0291 - val_accuracy: 0.9940\n",
            "Epoch 63/150\n",
            "450/450 [==============================] - 19s 42ms/step - loss: 0.0152 - accuracy: 0.9955 - val_loss: 0.0276 - val_accuracy: 0.9938\n",
            "Epoch 64/150\n",
            "450/450 [==============================] - 19s 42ms/step - loss: 0.0143 - accuracy: 0.9961 - val_loss: 0.0245 - val_accuracy: 0.9947\n",
            "Epoch 65/150\n",
            "450/450 [==============================] - 19s 42ms/step - loss: 0.0150 - accuracy: 0.9958 - val_loss: 0.0312 - val_accuracy: 0.9932\n",
            "Epoch 66/150\n",
            "450/450 [==============================] - 19s 42ms/step - loss: 0.0141 - accuracy: 0.9962 - val_loss: 0.0278 - val_accuracy: 0.9935\n",
            "Epoch 67/150\n",
            "450/450 [==============================] - 19s 42ms/step - loss: 0.0133 - accuracy: 0.9964 - val_loss: 0.0330 - val_accuracy: 0.9922\n",
            "Epoch 68/150\n",
            "450/450 [==============================] - 19s 42ms/step - loss: 0.0148 - accuracy: 0.9959 - val_loss: 0.0253 - val_accuracy: 0.9947\n",
            "Epoch 69/150\n",
            "450/450 [==============================] - 19s 42ms/step - loss: 0.0142 - accuracy: 0.9963 - val_loss: 0.0247 - val_accuracy: 0.9947\n",
            "Epoch 70/150\n",
            "450/450 [==============================] - 19s 42ms/step - loss: 0.0145 - accuracy: 0.9959 - val_loss: 0.0311 - val_accuracy: 0.9927\n",
            "Epoch 71/150\n",
            "450/450 [==============================] - 19s 42ms/step - loss: 0.0135 - accuracy: 0.9962 - val_loss: 0.0282 - val_accuracy: 0.9935\n",
            "Epoch 72/150\n",
            "450/450 [==============================] - 19s 42ms/step - loss: 0.0127 - accuracy: 0.9965 - val_loss: 0.0301 - val_accuracy: 0.9935\n",
            "Epoch 73/150\n",
            "450/450 [==============================] - 19s 42ms/step - loss: 0.0121 - accuracy: 0.9967 - val_loss: 0.0292 - val_accuracy: 0.9945\n",
            "Epoch 74/150\n",
            "450/450 [==============================] - 19s 42ms/step - loss: 0.0116 - accuracy: 0.9965 - val_loss: 0.0305 - val_accuracy: 0.9935\n",
            "Epoch 75/150\n",
            "450/450 [==============================] - 19s 42ms/step - loss: 0.0100 - accuracy: 0.9968 - val_loss: 0.0328 - val_accuracy: 0.9933\n",
            "Epoch 76/150\n",
            "450/450 [==============================] - 19s 42ms/step - loss: 0.0138 - accuracy: 0.9959 - val_loss: 0.0349 - val_accuracy: 0.9935\n",
            "Epoch 77/150\n",
            "450/450 [==============================] - 19s 42ms/step - loss: 0.0135 - accuracy: 0.9962 - val_loss: 0.0301 - val_accuracy: 0.9940\n",
            "Epoch 78/150\n",
            "450/450 [==============================] - 19s 42ms/step - loss: 0.0127 - accuracy: 0.9963 - val_loss: 0.0321 - val_accuracy: 0.9928\n",
            "Epoch 79/150\n",
            "450/450 [==============================] - 19s 42ms/step - loss: 0.0130 - accuracy: 0.9961 - val_loss: 0.0340 - val_accuracy: 0.9923\n",
            "Epoch 80/150\n",
            "450/450 [==============================] - 19s 42ms/step - loss: 0.0124 - accuracy: 0.9965 - val_loss: 0.0289 - val_accuracy: 0.9937\n",
            "Epoch 81/150\n",
            "450/450 [==============================] - 19s 42ms/step - loss: 0.0114 - accuracy: 0.9968 - val_loss: 0.0359 - val_accuracy: 0.9912\n",
            "Epoch 82/150\n",
            "450/450 [==============================] - 19s 42ms/step - loss: 0.0127 - accuracy: 0.9966 - val_loss: 0.0272 - val_accuracy: 0.9930\n",
            "Epoch 83/150\n",
            "450/450 [==============================] - 19s 42ms/step - loss: 0.0113 - accuracy: 0.9967 - val_loss: 0.0287 - val_accuracy: 0.9932\n",
            "Epoch 84/150\n",
            "450/450 [==============================] - 19s 42ms/step - loss: 0.0128 - accuracy: 0.9966 - val_loss: 0.0279 - val_accuracy: 0.9947\n",
            "Epoch 85/150\n",
            "450/450 [==============================] - 19s 42ms/step - loss: 0.0106 - accuracy: 0.9968 - val_loss: 0.0393 - val_accuracy: 0.9915\n",
            "Epoch 86/150\n",
            "450/450 [==============================] - 19s 42ms/step - loss: 0.0107 - accuracy: 0.9969 - val_loss: 0.0314 - val_accuracy: 0.9932\n",
            "Epoch 87/150\n",
            "450/450 [==============================] - 19s 42ms/step - loss: 0.0103 - accuracy: 0.9970 - val_loss: 0.0291 - val_accuracy: 0.9927\n",
            "Epoch 88/150\n",
            "450/450 [==============================] - 19s 42ms/step - loss: 0.0106 - accuracy: 0.9971 - val_loss: 0.0276 - val_accuracy: 0.9933\n",
            "Epoch 89/150\n",
            "450/450 [==============================] - 19s 42ms/step - loss: 0.0117 - accuracy: 0.9968 - val_loss: 0.0269 - val_accuracy: 0.9925\n",
            "Epoch 90/150\n",
            "450/450 [==============================] - 19s 42ms/step - loss: 0.0097 - accuracy: 0.9973 - val_loss: 0.0283 - val_accuracy: 0.9937\n",
            "Epoch 91/150\n",
            "450/450 [==============================] - 19s 42ms/step - loss: 0.0117 - accuracy: 0.9962 - val_loss: 0.0261 - val_accuracy: 0.9933\n",
            "Epoch 92/150\n",
            "450/450 [==============================] - 19s 42ms/step - loss: 0.0110 - accuracy: 0.9968 - val_loss: 0.0317 - val_accuracy: 0.9932\n",
            "Epoch 93/150\n",
            "450/450 [==============================] - 19s 42ms/step - loss: 0.0100 - accuracy: 0.9973 - val_loss: 0.0283 - val_accuracy: 0.9935\n",
            "Epoch 94/150\n",
            "450/450 [==============================] - 19s 42ms/step - loss: 0.0105 - accuracy: 0.9970 - val_loss: 0.0306 - val_accuracy: 0.9932\n",
            "Epoch 95/150\n",
            "450/450 [==============================] - 19s 42ms/step - loss: 0.0107 - accuracy: 0.9972 - val_loss: 0.0337 - val_accuracy: 0.9925\n",
            "Epoch 96/150\n",
            "450/450 [==============================] - 19s 42ms/step - loss: 0.0099 - accuracy: 0.9972 - val_loss: 0.0297 - val_accuracy: 0.9937\n",
            "Epoch 97/150\n",
            "450/450 [==============================] - 19s 42ms/step - loss: 0.0095 - accuracy: 0.9974 - val_loss: 0.0328 - val_accuracy: 0.9932\n",
            "Epoch 98/150\n",
            "450/450 [==============================] - 19s 42ms/step - loss: 0.0110 - accuracy: 0.9967 - val_loss: 0.0303 - val_accuracy: 0.9933\n",
            "Epoch 99/150\n",
            "450/450 [==============================] - 19s 42ms/step - loss: 0.0095 - accuracy: 0.9970 - val_loss: 0.0311 - val_accuracy: 0.9930\n",
            "Epoch 100/150\n",
            "450/450 [==============================] - 19s 42ms/step - loss: 0.0081 - accuracy: 0.9978 - val_loss: 0.0282 - val_accuracy: 0.9943\n",
            "Epoch 101/150\n",
            "450/450 [==============================] - 19s 42ms/step - loss: 0.0116 - accuracy: 0.9967 - val_loss: 0.0360 - val_accuracy: 0.9918\n",
            "Epoch 102/150\n",
            "450/450 [==============================] - 19s 42ms/step - loss: 0.0075 - accuracy: 0.9978 - val_loss: 0.0304 - val_accuracy: 0.9935\n",
            "Epoch 103/150\n",
            "450/450 [==============================] - 19s 42ms/step - loss: 0.0090 - accuracy: 0.9974 - val_loss: 0.0299 - val_accuracy: 0.9938\n",
            "Epoch 104/150\n",
            "450/450 [==============================] - 19s 42ms/step - loss: 0.0097 - accuracy: 0.9973 - val_loss: 0.0384 - val_accuracy: 0.9915\n",
            "Epoch 105/150\n",
            "450/450 [==============================] - 19s 42ms/step - loss: 0.0114 - accuracy: 0.9969 - val_loss: 0.0290 - val_accuracy: 0.9933\n",
            "Epoch 106/150\n",
            "450/450 [==============================] - 19s 42ms/step - loss: 0.0101 - accuracy: 0.9974 - val_loss: 0.0341 - val_accuracy: 0.9928\n",
            "Epoch 107/150\n",
            "450/450 [==============================] - 19s 42ms/step - loss: 0.0092 - accuracy: 0.9975 - val_loss: 0.0284 - val_accuracy: 0.9938\n",
            "Epoch 108/150\n",
            "450/450 [==============================] - 19s 42ms/step - loss: 0.0107 - accuracy: 0.9970 - val_loss: 0.0317 - val_accuracy: 0.9938\n",
            "Epoch 109/150\n",
            "450/450 [==============================] - 19s 42ms/step - loss: 0.0093 - accuracy: 0.9972 - val_loss: 0.0322 - val_accuracy: 0.9938\n",
            "Epoch 110/150\n",
            "450/450 [==============================] - 19s 42ms/step - loss: 0.0095 - accuracy: 0.9974 - val_loss: 0.0301 - val_accuracy: 0.9927\n",
            "Epoch 111/150\n",
            "450/450 [==============================] - 19s 42ms/step - loss: 0.0066 - accuracy: 0.9980 - val_loss: 0.0345 - val_accuracy: 0.9930\n",
            "Epoch 112/150\n",
            "450/450 [==============================] - 19s 42ms/step - loss: 0.0105 - accuracy: 0.9971 - val_loss: 0.0316 - val_accuracy: 0.9930\n",
            "Epoch 113/150\n",
            "450/450 [==============================] - 19s 42ms/step - loss: 0.0083 - accuracy: 0.9976 - val_loss: 0.0354 - val_accuracy: 0.9927\n",
            "Epoch 114/150\n",
            "450/450 [==============================] - 19s 42ms/step - loss: 0.0078 - accuracy: 0.9977 - val_loss: 0.0292 - val_accuracy: 0.9930\n",
            "Epoch 115/150\n",
            "450/450 [==============================] - 19s 42ms/step - loss: 0.0078 - accuracy: 0.9979 - val_loss: 0.0322 - val_accuracy: 0.9935\n",
            "Epoch 116/150\n",
            "450/450 [==============================] - 19s 42ms/step - loss: 0.0093 - accuracy: 0.9974 - val_loss: 0.0304 - val_accuracy: 0.9928\n",
            "Epoch 117/150\n",
            "450/450 [==============================] - 19s 42ms/step - loss: 0.0084 - accuracy: 0.9978 - val_loss: 0.0368 - val_accuracy: 0.9927\n",
            "Epoch 118/150\n",
            "450/450 [==============================] - 19s 42ms/step - loss: 0.0088 - accuracy: 0.9974 - val_loss: 0.0289 - val_accuracy: 0.9937\n",
            "Epoch 119/150\n",
            "450/450 [==============================] - 19s 42ms/step - loss: 0.0064 - accuracy: 0.9982 - val_loss: 0.0329 - val_accuracy: 0.9945\n",
            "Epoch 120/150\n",
            "450/450 [==============================] - 19s 42ms/step - loss: 0.0083 - accuracy: 0.9976 - val_loss: 0.0326 - val_accuracy: 0.9945\n",
            "Epoch 121/150\n",
            "450/450 [==============================] - 19s 42ms/step - loss: 0.0079 - accuracy: 0.9978 - val_loss: 0.0296 - val_accuracy: 0.9945\n",
            "Epoch 122/150\n",
            "450/450 [==============================] - 19s 42ms/step - loss: 0.0076 - accuracy: 0.9979 - val_loss: 0.0295 - val_accuracy: 0.9947\n",
            "Epoch 123/150\n",
            "450/450 [==============================] - 19s 42ms/step - loss: 0.0086 - accuracy: 0.9976 - val_loss: 0.0313 - val_accuracy: 0.9937\n",
            "Epoch 124/150\n",
            "450/450 [==============================] - 19s 42ms/step - loss: 0.0073 - accuracy: 0.9978 - val_loss: 0.0364 - val_accuracy: 0.9925\n",
            "Epoch 125/150\n",
            "450/450 [==============================] - 19s 42ms/step - loss: 0.0075 - accuracy: 0.9977 - val_loss: 0.0317 - val_accuracy: 0.9935\n",
            "Epoch 126/150\n",
            "450/450 [==============================] - 19s 42ms/step - loss: 0.0092 - accuracy: 0.9971 - val_loss: 0.0267 - val_accuracy: 0.9950\n",
            "Epoch 127/150\n",
            "450/450 [==============================] - 19s 42ms/step - loss: 0.0082 - accuracy: 0.9976 - val_loss: 0.0362 - val_accuracy: 0.9933\n",
            "Epoch 128/150\n",
            "450/450 [==============================] - 19s 42ms/step - loss: 0.0081 - accuracy: 0.9976 - val_loss: 0.0367 - val_accuracy: 0.9923\n",
            "Epoch 129/150\n",
            "450/450 [==============================] - 19s 42ms/step - loss: 0.0077 - accuracy: 0.9978 - val_loss: 0.0276 - val_accuracy: 0.9942\n",
            "Epoch 130/150\n",
            "450/450 [==============================] - 19s 42ms/step - loss: 0.0073 - accuracy: 0.9979 - val_loss: 0.0325 - val_accuracy: 0.9935\n",
            "Epoch 131/150\n",
            "450/450 [==============================] - 19s 42ms/step - loss: 0.0075 - accuracy: 0.9979 - val_loss: 0.0386 - val_accuracy: 0.9928\n",
            "Epoch 132/150\n",
            "450/450 [==============================] - 19s 42ms/step - loss: 0.0071 - accuracy: 0.9981 - val_loss: 0.0273 - val_accuracy: 0.9948\n",
            "Epoch 133/150\n",
            "450/450 [==============================] - 19s 42ms/step - loss: 0.0073 - accuracy: 0.9979 - val_loss: 0.0333 - val_accuracy: 0.9938\n",
            "Epoch 134/150\n",
            "450/450 [==============================] - 19s 42ms/step - loss: 0.0076 - accuracy: 0.9977 - val_loss: 0.0268 - val_accuracy: 0.9940\n",
            "Epoch 135/150\n",
            "450/450 [==============================] - 19s 42ms/step - loss: 0.0079 - accuracy: 0.9975 - val_loss: 0.0312 - val_accuracy: 0.9937\n",
            "Epoch 136/150\n",
            "450/450 [==============================] - 19s 42ms/step - loss: 0.0080 - accuracy: 0.9979 - val_loss: 0.0406 - val_accuracy: 0.9922\n",
            "Epoch 137/150\n",
            "450/450 [==============================] - 19s 42ms/step - loss: 0.0076 - accuracy: 0.9978 - val_loss: 0.0348 - val_accuracy: 0.9933\n",
            "Epoch 138/150\n",
            "450/450 [==============================] - 19s 42ms/step - loss: 0.0058 - accuracy: 0.9982 - val_loss: 0.0307 - val_accuracy: 0.9943\n",
            "Epoch 139/150\n",
            "450/450 [==============================] - 19s 42ms/step - loss: 0.0071 - accuracy: 0.9980 - val_loss: 0.0325 - val_accuracy: 0.9930\n",
            "Epoch 140/150\n",
            "450/450 [==============================] - 19s 42ms/step - loss: 0.0060 - accuracy: 0.9983 - val_loss: 0.0323 - val_accuracy: 0.9938\n",
            "Epoch 141/150\n",
            "450/450 [==============================] - 19s 42ms/step - loss: 0.0082 - accuracy: 0.9978 - val_loss: 0.0331 - val_accuracy: 0.9942\n",
            "Epoch 142/150\n",
            "450/450 [==============================] - 19s 42ms/step - loss: 0.0074 - accuracy: 0.9980 - val_loss: 0.0314 - val_accuracy: 0.9945\n",
            "Epoch 143/150\n",
            "450/450 [==============================] - 19s 42ms/step - loss: 0.0079 - accuracy: 0.9979 - val_loss: 0.0326 - val_accuracy: 0.9940\n",
            "Epoch 144/150\n",
            "450/450 [==============================] - 19s 42ms/step - loss: 0.0063 - accuracy: 0.9983 - val_loss: 0.0352 - val_accuracy: 0.9935\n",
            "Epoch 145/150\n",
            "450/450 [==============================] - 19s 42ms/step - loss: 0.0056 - accuracy: 0.9984 - val_loss: 0.0370 - val_accuracy: 0.9935\n",
            "Epoch 146/150\n",
            "450/450 [==============================] - 19s 42ms/step - loss: 0.0068 - accuracy: 0.9980 - val_loss: 0.0275 - val_accuracy: 0.9953\n",
            "Epoch 147/150\n",
            "450/450 [==============================] - 19s 42ms/step - loss: 0.0077 - accuracy: 0.9979 - val_loss: 0.0373 - val_accuracy: 0.9932\n",
            "Epoch 148/150\n",
            "450/450 [==============================] - 19s 42ms/step - loss: 0.0062 - accuracy: 0.9983 - val_loss: 0.0399 - val_accuracy: 0.9922\n",
            "Epoch 149/150\n",
            "450/450 [==============================] - 19s 42ms/step - loss: 0.0061 - accuracy: 0.9981 - val_loss: 0.0307 - val_accuracy: 0.9943\n",
            "Epoch 150/150\n",
            "450/450 [==============================] - 19s 42ms/step - loss: 0.0062 - accuracy: 0.9981 - val_loss: 0.0323 - val_accuracy: 0.9943\n",
            "313/313 [==============================] - 2s 6ms/step - loss: 0.0216 - accuracy: 0.9945\n"
          ]
        },
        {
          "output_type": "execute_result",
          "data": {
            "text/plain": [
              "[0.021574126556515694, 0.9944999814033508]"
            ]
          },
          "metadata": {},
          "execution_count": 23
        }
      ]
    },
    {
      "cell_type": "code",
      "source": [
        "history_M3.history.keys()"
      ],
      "metadata": {
        "colab": {
          "base_uri": "https://localhost:8080/"
        },
        "id": "ICqiKMrPPWG7",
        "outputId": "2bfa8f98-6a9a-4cfd-83ab-890cc0e7973f"
      },
      "execution_count": 24,
      "outputs": [
        {
          "output_type": "execute_result",
          "data": {
            "text/plain": [
              "dict_keys(['loss', 'accuracy', 'val_loss', 'val_accuracy'])"
            ]
          },
          "metadata": {},
          "execution_count": 24
        }
      ]
    },
    {
      "cell_type": "code",
      "source": [
        "model_M5.compile(optimizer=optimizer,\n",
        "                 loss=\"sparse_categorical_crossentropy\", \n",
        "                 metrics=[\"accuracy\"])\n",
        "history_M5 = model_M5.fit(X_train, y_train, \n",
        "                          epochs=150,\n",
        "                          batch_size=120,\n",
        "                          shuffle=True,\n",
        "                          validation_data=(X_valid, y_valid),\n",
        "                          validation_batch_size=100\n",
        "                          )\n",
        "model_M5.evaluate(X_test, y_test)"
      ],
      "metadata": {
        "colab": {
          "base_uri": "https://localhost:8080/"
        },
        "id": "iTGXNQ4VSSk7",
        "outputId": "4c9cb3bf-bd9e-4bf8-b4d3-7ae41a41431f"
      },
      "execution_count": 26,
      "outputs": [
        {
          "output_type": "stream",
          "name": "stdout",
          "text": [
            "Epoch 1/150\n",
            "450/450 [==============================] - 12s 23ms/step - loss: 0.5659 - accuracy: 0.8703 - val_loss: 0.5744 - val_accuracy: 0.8662\n",
            "Epoch 2/150\n",
            "450/450 [==============================] - 10s 23ms/step - loss: 0.1706 - accuracy: 0.9671 - val_loss: 0.1378 - val_accuracy: 0.9795\n",
            "Epoch 3/150\n",
            "450/450 [==============================] - 10s 22ms/step - loss: 0.1153 - accuracy: 0.9760 - val_loss: 0.0632 - val_accuracy: 0.9853\n",
            "Epoch 4/150\n",
            "450/450 [==============================] - 10s 22ms/step - loss: 0.0884 - accuracy: 0.9813 - val_loss: 0.0635 - val_accuracy: 0.9882\n",
            "Epoch 5/150\n",
            "450/450 [==============================] - 10s 21ms/step - loss: 0.0754 - accuracy: 0.9832 - val_loss: 0.0726 - val_accuracy: 0.9820\n",
            "Epoch 6/150\n",
            "450/450 [==============================] - 10s 21ms/step - loss: 0.0650 - accuracy: 0.9847 - val_loss: 0.0607 - val_accuracy: 0.9847\n",
            "Epoch 7/150\n",
            "450/450 [==============================] - 10s 21ms/step - loss: 0.0643 - accuracy: 0.9843 - val_loss: 0.0591 - val_accuracy: 0.9820\n",
            "Epoch 8/150\n",
            "450/450 [==============================] - 10s 21ms/step - loss: 0.0540 - accuracy: 0.9870 - val_loss: 0.0427 - val_accuracy: 0.9893\n",
            "Epoch 9/150\n",
            "450/450 [==============================] - 10s 22ms/step - loss: 0.0493 - accuracy: 0.9876 - val_loss: 0.0405 - val_accuracy: 0.9908\n",
            "Epoch 10/150\n",
            "450/450 [==============================] - 10s 21ms/step - loss: 0.0497 - accuracy: 0.9867 - val_loss: 0.0406 - val_accuracy: 0.9910\n",
            "Epoch 11/150\n",
            "450/450 [==============================] - 10s 22ms/step - loss: 0.0439 - accuracy: 0.9885 - val_loss: 0.0352 - val_accuracy: 0.9913\n",
            "Epoch 12/150\n",
            "450/450 [==============================] - 10s 22ms/step - loss: 0.0429 - accuracy: 0.9881 - val_loss: 0.0448 - val_accuracy: 0.9870\n",
            "Epoch 13/150\n",
            "450/450 [==============================] - 10s 21ms/step - loss: 0.0428 - accuracy: 0.9884 - val_loss: 0.0322 - val_accuracy: 0.9912\n",
            "Epoch 14/150\n",
            "450/450 [==============================] - 10s 21ms/step - loss: 0.0389 - accuracy: 0.9898 - val_loss: 0.0329 - val_accuracy: 0.9928\n",
            "Epoch 15/150\n",
            "450/450 [==============================] - 10s 21ms/step - loss: 0.0357 - accuracy: 0.9905 - val_loss: 0.0336 - val_accuracy: 0.9917\n",
            "Epoch 16/150\n",
            "450/450 [==============================] - 10s 21ms/step - loss: 0.0357 - accuracy: 0.9900 - val_loss: 0.0304 - val_accuracy: 0.9918\n",
            "Epoch 17/150\n",
            "450/450 [==============================] - 10s 21ms/step - loss: 0.0340 - accuracy: 0.9907 - val_loss: 0.0356 - val_accuracy: 0.9902\n",
            "Epoch 18/150\n",
            "450/450 [==============================] - 10s 21ms/step - loss: 0.0347 - accuracy: 0.9904 - val_loss: 0.0557 - val_accuracy: 0.9853\n",
            "Epoch 19/150\n",
            "450/450 [==============================] - 10s 21ms/step - loss: 0.0318 - accuracy: 0.9914 - val_loss: 0.0366 - val_accuracy: 0.9905\n",
            "Epoch 20/150\n",
            "450/450 [==============================] - 10s 21ms/step - loss: 0.0304 - accuracy: 0.9913 - val_loss: 0.0343 - val_accuracy: 0.9917\n",
            "Epoch 21/150\n",
            "450/450 [==============================] - 10s 21ms/step - loss: 0.0314 - accuracy: 0.9913 - val_loss: 0.0298 - val_accuracy: 0.9925\n",
            "Epoch 22/150\n",
            "450/450 [==============================] - 10s 21ms/step - loss: 0.0274 - accuracy: 0.9921 - val_loss: 0.0241 - val_accuracy: 0.9937\n",
            "Epoch 23/150\n",
            "450/450 [==============================] - 10s 21ms/step - loss: 0.0279 - accuracy: 0.9921 - val_loss: 0.0264 - val_accuracy: 0.9932\n",
            "Epoch 24/150\n",
            "450/450 [==============================] - 10s 21ms/step - loss: 0.0252 - accuracy: 0.9927 - val_loss: 0.0269 - val_accuracy: 0.9922\n",
            "Epoch 25/150\n",
            "450/450 [==============================] - 10s 21ms/step - loss: 0.0269 - accuracy: 0.9922 - val_loss: 0.0311 - val_accuracy: 0.9922\n",
            "Epoch 26/150\n",
            "450/450 [==============================] - 10s 21ms/step - loss: 0.0239 - accuracy: 0.9933 - val_loss: 0.0363 - val_accuracy: 0.9905\n",
            "Epoch 27/150\n",
            "450/450 [==============================] - 10s 21ms/step - loss: 0.0249 - accuracy: 0.9927 - val_loss: 0.0309 - val_accuracy: 0.9927\n",
            "Epoch 28/150\n",
            "450/450 [==============================] - 10s 21ms/step - loss: 0.0223 - accuracy: 0.9935 - val_loss: 0.0279 - val_accuracy: 0.9927\n",
            "Epoch 29/150\n",
            "450/450 [==============================] - 10s 21ms/step - loss: 0.0207 - accuracy: 0.9940 - val_loss: 0.0449 - val_accuracy: 0.9890\n",
            "Epoch 30/150\n",
            "450/450 [==============================] - 10s 22ms/step - loss: 0.0237 - accuracy: 0.9935 - val_loss: 0.0309 - val_accuracy: 0.9920\n",
            "Epoch 31/150\n",
            "450/450 [==============================] - 10s 22ms/step - loss: 0.0221 - accuracy: 0.9939 - val_loss: 0.0251 - val_accuracy: 0.9950\n",
            "Epoch 32/150\n",
            "450/450 [==============================] - 10s 21ms/step - loss: 0.0205 - accuracy: 0.9944 - val_loss: 0.0414 - val_accuracy: 0.9898\n",
            "Epoch 33/150\n",
            "450/450 [==============================] - 10s 21ms/step - loss: 0.0220 - accuracy: 0.9938 - val_loss: 0.0330 - val_accuracy: 0.9915\n",
            "Epoch 34/150\n",
            "450/450 [==============================] - 10s 21ms/step - loss: 0.0210 - accuracy: 0.9940 - val_loss: 0.0310 - val_accuracy: 0.9920\n",
            "Epoch 35/150\n",
            "450/450 [==============================] - 10s 21ms/step - loss: 0.0214 - accuracy: 0.9938 - val_loss: 0.0287 - val_accuracy: 0.9927\n",
            "Epoch 36/150\n",
            "450/450 [==============================] - 10s 21ms/step - loss: 0.0187 - accuracy: 0.9951 - val_loss: 0.0277 - val_accuracy: 0.9945\n",
            "Epoch 37/150\n",
            "450/450 [==============================] - 10s 21ms/step - loss: 0.0207 - accuracy: 0.9941 - val_loss: 0.0355 - val_accuracy: 0.9898\n",
            "Epoch 38/150\n",
            "450/450 [==============================] - 10s 21ms/step - loss: 0.0198 - accuracy: 0.9945 - val_loss: 0.0363 - val_accuracy: 0.9902\n",
            "Epoch 39/150\n",
            "450/450 [==============================] - 10s 21ms/step - loss: 0.0193 - accuracy: 0.9942 - val_loss: 0.0290 - val_accuracy: 0.9935\n",
            "Epoch 40/150\n",
            "450/450 [==============================] - 10s 21ms/step - loss: 0.0172 - accuracy: 0.9948 - val_loss: 0.0277 - val_accuracy: 0.9938\n",
            "Epoch 41/150\n",
            "450/450 [==============================] - 10s 21ms/step - loss: 0.0190 - accuracy: 0.9950 - val_loss: 0.0257 - val_accuracy: 0.9930\n",
            "Epoch 42/150\n",
            "450/450 [==============================] - 10s 21ms/step - loss: 0.0174 - accuracy: 0.9953 - val_loss: 0.0337 - val_accuracy: 0.9928\n",
            "Epoch 43/150\n",
            "450/450 [==============================] - 10s 22ms/step - loss: 0.0173 - accuracy: 0.9947 - val_loss: 0.0338 - val_accuracy: 0.9912\n",
            "Epoch 44/150\n",
            "450/450 [==============================] - 10s 21ms/step - loss: 0.0167 - accuracy: 0.9952 - val_loss: 0.0289 - val_accuracy: 0.9928\n",
            "Epoch 45/150\n",
            "450/450 [==============================] - 10s 21ms/step - loss: 0.0154 - accuracy: 0.9954 - val_loss: 0.0312 - val_accuracy: 0.9912\n",
            "Epoch 46/150\n",
            "450/450 [==============================] - 10s 22ms/step - loss: 0.0166 - accuracy: 0.9954 - val_loss: 0.0287 - val_accuracy: 0.9925\n",
            "Epoch 47/150\n",
            "450/450 [==============================] - 10s 21ms/step - loss: 0.0160 - accuracy: 0.9956 - val_loss: 0.0269 - val_accuracy: 0.9940\n",
            "Epoch 48/150\n",
            "450/450 [==============================] - 10s 21ms/step - loss: 0.0155 - accuracy: 0.9954 - val_loss: 0.0316 - val_accuracy: 0.9927\n",
            "Epoch 49/150\n",
            "450/450 [==============================] - 10s 21ms/step - loss: 0.0187 - accuracy: 0.9941 - val_loss: 0.0280 - val_accuracy: 0.9942\n",
            "Epoch 50/150\n",
            "450/450 [==============================] - 10s 21ms/step - loss: 0.0139 - accuracy: 0.9960 - val_loss: 0.0277 - val_accuracy: 0.9940\n",
            "Epoch 51/150\n",
            "450/450 [==============================] - 10s 21ms/step - loss: 0.0143 - accuracy: 0.9958 - val_loss: 0.0306 - val_accuracy: 0.9937\n",
            "Epoch 52/150\n",
            "450/450 [==============================] - 10s 22ms/step - loss: 0.0141 - accuracy: 0.9959 - val_loss: 0.0278 - val_accuracy: 0.9940\n",
            "Epoch 53/150\n",
            "450/450 [==============================] - 10s 22ms/step - loss: 0.0140 - accuracy: 0.9959 - val_loss: 0.0347 - val_accuracy: 0.9923\n",
            "Epoch 54/150\n",
            "450/450 [==============================] - 10s 21ms/step - loss: 0.0129 - accuracy: 0.9959 - val_loss: 0.0285 - val_accuracy: 0.9932\n",
            "Epoch 55/150\n",
            "450/450 [==============================] - 10s 21ms/step - loss: 0.0127 - accuracy: 0.9965 - val_loss: 0.0308 - val_accuracy: 0.9933\n",
            "Epoch 56/150\n",
            "450/450 [==============================] - 10s 22ms/step - loss: 0.0137 - accuracy: 0.9958 - val_loss: 0.0256 - val_accuracy: 0.9935\n",
            "Epoch 57/150\n",
            "450/450 [==============================] - 10s 21ms/step - loss: 0.0141 - accuracy: 0.9960 - val_loss: 0.0305 - val_accuracy: 0.9927\n",
            "Epoch 58/150\n",
            "450/450 [==============================] - 10s 21ms/step - loss: 0.0144 - accuracy: 0.9960 - val_loss: 0.0282 - val_accuracy: 0.9935\n",
            "Epoch 59/150\n",
            "450/450 [==============================] - 10s 21ms/step - loss: 0.0129 - accuracy: 0.9963 - val_loss: 0.0300 - val_accuracy: 0.9920\n",
            "Epoch 60/150\n",
            "450/450 [==============================] - 10s 21ms/step - loss: 0.0122 - accuracy: 0.9967 - val_loss: 0.0328 - val_accuracy: 0.9927\n",
            "Epoch 61/150\n",
            "450/450 [==============================] - 10s 21ms/step - loss: 0.0149 - accuracy: 0.9958 - val_loss: 0.0366 - val_accuracy: 0.9917\n",
            "Epoch 62/150\n",
            "450/450 [==============================] - 10s 21ms/step - loss: 0.0138 - accuracy: 0.9959 - val_loss: 0.0291 - val_accuracy: 0.9933\n",
            "Epoch 63/150\n",
            "450/450 [==============================] - 10s 22ms/step - loss: 0.0113 - accuracy: 0.9970 - val_loss: 0.0275 - val_accuracy: 0.9938\n",
            "Epoch 64/150\n",
            "450/450 [==============================] - 10s 22ms/step - loss: 0.0124 - accuracy: 0.9963 - val_loss: 0.0306 - val_accuracy: 0.9935\n",
            "Epoch 65/150\n",
            "450/450 [==============================] - 10s 21ms/step - loss: 0.0110 - accuracy: 0.9970 - val_loss: 0.0301 - val_accuracy: 0.9927\n",
            "Epoch 66/150\n",
            "450/450 [==============================] - 10s 22ms/step - loss: 0.0116 - accuracy: 0.9964 - val_loss: 0.0268 - val_accuracy: 0.9940\n",
            "Epoch 67/150\n",
            "450/450 [==============================] - 10s 21ms/step - loss: 0.0118 - accuracy: 0.9964 - val_loss: 0.0308 - val_accuracy: 0.9928\n",
            "Epoch 68/150\n",
            "450/450 [==============================] - 10s 21ms/step - loss: 0.0120 - accuracy: 0.9962 - val_loss: 0.0327 - val_accuracy: 0.9935\n",
            "Epoch 69/150\n",
            "450/450 [==============================] - 10s 21ms/step - loss: 0.0109 - accuracy: 0.9968 - val_loss: 0.0370 - val_accuracy: 0.9922\n",
            "Epoch 70/150\n",
            "450/450 [==============================] - 10s 22ms/step - loss: 0.0120 - accuracy: 0.9965 - val_loss: 0.0268 - val_accuracy: 0.9938\n",
            "Epoch 71/150\n",
            "450/450 [==============================] - 10s 21ms/step - loss: 0.0107 - accuracy: 0.9969 - val_loss: 0.0295 - val_accuracy: 0.9930\n",
            "Epoch 72/150\n",
            "450/450 [==============================] - 10s 21ms/step - loss: 0.0104 - accuracy: 0.9969 - val_loss: 0.0314 - val_accuracy: 0.9925\n",
            "Epoch 73/150\n",
            "450/450 [==============================] - 10s 21ms/step - loss: 0.0113 - accuracy: 0.9967 - val_loss: 0.0343 - val_accuracy: 0.9923\n",
            "Epoch 74/150\n",
            "450/450 [==============================] - 10s 22ms/step - loss: 0.0101 - accuracy: 0.9970 - val_loss: 0.0287 - val_accuracy: 0.9937\n",
            "Epoch 75/150\n",
            "450/450 [==============================] - 10s 23ms/step - loss: 0.0102 - accuracy: 0.9971 - val_loss: 0.0319 - val_accuracy: 0.9942\n",
            "Epoch 76/150\n",
            "450/450 [==============================] - 10s 22ms/step - loss: 0.0111 - accuracy: 0.9966 - val_loss: 0.0294 - val_accuracy: 0.9945\n",
            "Epoch 77/150\n",
            "450/450 [==============================] - 10s 23ms/step - loss: 0.0112 - accuracy: 0.9968 - val_loss: 0.0340 - val_accuracy: 0.9930\n",
            "Epoch 78/150\n",
            "450/450 [==============================] - 10s 21ms/step - loss: 0.0106 - accuracy: 0.9969 - val_loss: 0.0278 - val_accuracy: 0.9930\n",
            "Epoch 79/150\n",
            "450/450 [==============================] - 10s 22ms/step - loss: 0.0103 - accuracy: 0.9972 - val_loss: 0.0241 - val_accuracy: 0.9952\n",
            "Epoch 80/150\n",
            "450/450 [==============================] - 10s 22ms/step - loss: 0.0093 - accuracy: 0.9974 - val_loss: 0.0281 - val_accuracy: 0.9932\n",
            "Epoch 81/150\n",
            "450/450 [==============================] - 10s 22ms/step - loss: 0.0099 - accuracy: 0.9971 - val_loss: 0.0263 - val_accuracy: 0.9945\n",
            "Epoch 82/150\n",
            "450/450 [==============================] - 10s 21ms/step - loss: 0.0095 - accuracy: 0.9973 - val_loss: 0.0289 - val_accuracy: 0.9930\n",
            "Epoch 83/150\n",
            "450/450 [==============================] - 10s 21ms/step - loss: 0.0091 - accuracy: 0.9973 - val_loss: 0.0369 - val_accuracy: 0.9925\n",
            "Epoch 84/150\n",
            "450/450 [==============================] - 10s 21ms/step - loss: 0.0102 - accuracy: 0.9972 - val_loss: 0.0327 - val_accuracy: 0.9930\n",
            "Epoch 85/150\n",
            "450/450 [==============================] - 10s 22ms/step - loss: 0.0089 - accuracy: 0.9973 - val_loss: 0.0263 - val_accuracy: 0.9950\n",
            "Epoch 86/150\n",
            "450/450 [==============================] - 10s 22ms/step - loss: 0.0084 - accuracy: 0.9975 - val_loss: 0.0234 - val_accuracy: 0.9950\n",
            "Epoch 87/150\n",
            "450/450 [==============================] - 10s 22ms/step - loss: 0.0093 - accuracy: 0.9973 - val_loss: 0.0286 - val_accuracy: 0.9950\n",
            "Epoch 88/150\n",
            "450/450 [==============================] - 10s 22ms/step - loss: 0.0097 - accuracy: 0.9974 - val_loss: 0.0235 - val_accuracy: 0.9950\n",
            "Epoch 89/150\n",
            "450/450 [==============================] - 10s 21ms/step - loss: 0.0098 - accuracy: 0.9972 - val_loss: 0.0312 - val_accuracy: 0.9938\n",
            "Epoch 90/150\n",
            "450/450 [==============================] - 10s 21ms/step - loss: 0.0089 - accuracy: 0.9974 - val_loss: 0.0302 - val_accuracy: 0.9942\n",
            "Epoch 91/150\n",
            "450/450 [==============================] - 10s 21ms/step - loss: 0.0093 - accuracy: 0.9972 - val_loss: 0.0274 - val_accuracy: 0.9942\n",
            "Epoch 92/150\n",
            "450/450 [==============================] - 10s 21ms/step - loss: 0.0095 - accuracy: 0.9973 - val_loss: 0.0229 - val_accuracy: 0.9955\n",
            "Epoch 93/150\n",
            "450/450 [==============================] - 10s 21ms/step - loss: 0.0092 - accuracy: 0.9972 - val_loss: 0.0297 - val_accuracy: 0.9947\n",
            "Epoch 94/150\n",
            "450/450 [==============================] - 10s 22ms/step - loss: 0.0079 - accuracy: 0.9978 - val_loss: 0.0275 - val_accuracy: 0.9950\n",
            "Epoch 95/150\n",
            "450/450 [==============================] - 10s 23ms/step - loss: 0.0091 - accuracy: 0.9972 - val_loss: 0.0305 - val_accuracy: 0.9943\n",
            "Epoch 96/150\n",
            "450/450 [==============================] - 10s 23ms/step - loss: 0.0097 - accuracy: 0.9972 - val_loss: 0.0303 - val_accuracy: 0.9940\n",
            "Epoch 97/150\n",
            "450/450 [==============================] - 10s 23ms/step - loss: 0.0090 - accuracy: 0.9972 - val_loss: 0.0266 - val_accuracy: 0.9940\n",
            "Epoch 98/150\n",
            "450/450 [==============================] - 10s 22ms/step - loss: 0.0089 - accuracy: 0.9973 - val_loss: 0.0290 - val_accuracy: 0.9937\n",
            "Epoch 99/150\n",
            "450/450 [==============================] - 10s 22ms/step - loss: 0.0094 - accuracy: 0.9969 - val_loss: 0.0225 - val_accuracy: 0.9942\n",
            "Epoch 100/150\n",
            "450/450 [==============================] - 10s 22ms/step - loss: 0.0083 - accuracy: 0.9973 - val_loss: 0.0292 - val_accuracy: 0.9943\n",
            "Epoch 101/150\n",
            "450/450 [==============================] - 10s 21ms/step - loss: 0.0083 - accuracy: 0.9974 - val_loss: 0.0285 - val_accuracy: 0.9952\n",
            "Epoch 102/150\n",
            "450/450 [==============================] - 10s 22ms/step - loss: 0.0091 - accuracy: 0.9974 - val_loss: 0.0272 - val_accuracy: 0.9950\n",
            "Epoch 103/150\n",
            "450/450 [==============================] - 10s 22ms/step - loss: 0.0062 - accuracy: 0.9982 - val_loss: 0.0343 - val_accuracy: 0.9928\n",
            "Epoch 104/150\n",
            "450/450 [==============================] - 10s 22ms/step - loss: 0.0072 - accuracy: 0.9978 - val_loss: 0.0258 - val_accuracy: 0.9943\n",
            "Epoch 105/150\n",
            "450/450 [==============================] - 10s 22ms/step - loss: 0.0085 - accuracy: 0.9975 - val_loss: 0.0261 - val_accuracy: 0.9950\n",
            "Epoch 106/150\n",
            "450/450 [==============================] - 10s 23ms/step - loss: 0.0084 - accuracy: 0.9975 - val_loss: 0.0325 - val_accuracy: 0.9933\n",
            "Epoch 107/150\n",
            "450/450 [==============================] - 10s 23ms/step - loss: 0.0088 - accuracy: 0.9973 - val_loss: 0.0295 - val_accuracy: 0.9938\n",
            "Epoch 108/150\n",
            "450/450 [==============================] - 10s 21ms/step - loss: 0.0082 - accuracy: 0.9978 - val_loss: 0.0285 - val_accuracy: 0.9947\n",
            "Epoch 109/150\n",
            "450/450 [==============================] - 10s 21ms/step - loss: 0.0077 - accuracy: 0.9978 - val_loss: 0.0291 - val_accuracy: 0.9952\n",
            "Epoch 110/150\n",
            "450/450 [==============================] - 10s 21ms/step - loss: 0.0081 - accuracy: 0.9977 - val_loss: 0.0321 - val_accuracy: 0.9937\n",
            "Epoch 111/150\n",
            "450/450 [==============================] - 10s 21ms/step - loss: 0.0085 - accuracy: 0.9976 - val_loss: 0.0324 - val_accuracy: 0.9937\n",
            "Epoch 112/150\n",
            "450/450 [==============================] - 10s 21ms/step - loss: 0.0058 - accuracy: 0.9982 - val_loss: 0.0339 - val_accuracy: 0.9933\n",
            "Epoch 113/150\n",
            "450/450 [==============================] - 10s 21ms/step - loss: 0.0066 - accuracy: 0.9979 - val_loss: 0.0312 - val_accuracy: 0.9943\n",
            "Epoch 114/150\n",
            "450/450 [==============================] - 10s 21ms/step - loss: 0.0078 - accuracy: 0.9976 - val_loss: 0.0306 - val_accuracy: 0.9933\n",
            "Epoch 115/150\n",
            "450/450 [==============================] - 10s 21ms/step - loss: 0.0069 - accuracy: 0.9978 - val_loss: 0.0328 - val_accuracy: 0.9928\n",
            "Epoch 116/150\n",
            "450/450 [==============================] - 10s 21ms/step - loss: 0.0076 - accuracy: 0.9978 - val_loss: 0.0273 - val_accuracy: 0.9947\n",
            "Epoch 117/150\n",
            "450/450 [==============================] - 10s 21ms/step - loss: 0.0072 - accuracy: 0.9980 - val_loss: 0.0267 - val_accuracy: 0.9947\n",
            "Epoch 118/150\n",
            "450/450 [==============================] - 10s 22ms/step - loss: 0.0068 - accuracy: 0.9979 - val_loss: 0.0334 - val_accuracy: 0.9930\n",
            "Epoch 119/150\n",
            "450/450 [==============================] - 10s 21ms/step - loss: 0.0070 - accuracy: 0.9981 - val_loss: 0.0229 - val_accuracy: 0.9947\n",
            "Epoch 120/150\n",
            "450/450 [==============================] - 10s 21ms/step - loss: 0.0057 - accuracy: 0.9983 - val_loss: 0.0279 - val_accuracy: 0.9948\n",
            "Epoch 121/150\n",
            "450/450 [==============================] - 10s 21ms/step - loss: 0.0074 - accuracy: 0.9980 - val_loss: 0.0314 - val_accuracy: 0.9945\n",
            "Epoch 122/150\n",
            "450/450 [==============================] - 10s 22ms/step - loss: 0.0065 - accuracy: 0.9980 - val_loss: 0.0294 - val_accuracy: 0.9940\n",
            "Epoch 123/150\n",
            "450/450 [==============================] - 10s 21ms/step - loss: 0.0065 - accuracy: 0.9978 - val_loss: 0.0319 - val_accuracy: 0.9947\n",
            "Epoch 124/150\n",
            "450/450 [==============================] - 10s 21ms/step - loss: 0.0061 - accuracy: 0.9980 - val_loss: 0.0352 - val_accuracy: 0.9928\n",
            "Epoch 125/150\n",
            "450/450 [==============================] - 10s 21ms/step - loss: 0.0082 - accuracy: 0.9976 - val_loss: 0.0304 - val_accuracy: 0.9935\n",
            "Epoch 126/150\n",
            "450/450 [==============================] - 10s 22ms/step - loss: 0.0068 - accuracy: 0.9978 - val_loss: 0.0269 - val_accuracy: 0.9958\n",
            "Epoch 127/150\n",
            "450/450 [==============================] - 10s 23ms/step - loss: 0.0073 - accuracy: 0.9978 - val_loss: 0.0270 - val_accuracy: 0.9950\n",
            "Epoch 128/150\n",
            "450/450 [==============================] - 10s 22ms/step - loss: 0.0068 - accuracy: 0.9981 - val_loss: 0.0326 - val_accuracy: 0.9927\n",
            "Epoch 129/150\n",
            "450/450 [==============================] - 10s 21ms/step - loss: 0.0065 - accuracy: 0.9979 - val_loss: 0.0308 - val_accuracy: 0.9945\n",
            "Epoch 130/150\n",
            "450/450 [==============================] - 10s 21ms/step - loss: 0.0060 - accuracy: 0.9982 - val_loss: 0.0357 - val_accuracy: 0.9925\n",
            "Epoch 131/150\n",
            "450/450 [==============================] - 10s 21ms/step - loss: 0.0068 - accuracy: 0.9981 - val_loss: 0.0372 - val_accuracy: 0.9920\n",
            "Epoch 132/150\n",
            "450/450 [==============================] - 10s 21ms/step - loss: 0.0055 - accuracy: 0.9984 - val_loss: 0.0338 - val_accuracy: 0.9927\n",
            "Epoch 133/150\n",
            "450/450 [==============================] - 10s 23ms/step - loss: 0.0068 - accuracy: 0.9981 - val_loss: 0.0470 - val_accuracy: 0.9917\n",
            "Epoch 134/150\n",
            "450/450 [==============================] - 10s 22ms/step - loss: 0.0071 - accuracy: 0.9979 - val_loss: 0.0364 - val_accuracy: 0.9937\n",
            "Epoch 135/150\n",
            "450/450 [==============================] - 10s 21ms/step - loss: 0.0062 - accuracy: 0.9981 - val_loss: 0.0346 - val_accuracy: 0.9945\n",
            "Epoch 136/150\n",
            "450/450 [==============================] - 10s 21ms/step - loss: 0.0060 - accuracy: 0.9982 - val_loss: 0.0388 - val_accuracy: 0.9930\n",
            "Epoch 137/150\n",
            "450/450 [==============================] - 10s 21ms/step - loss: 0.0082 - accuracy: 0.9976 - val_loss: 0.0295 - val_accuracy: 0.9958\n",
            "Epoch 138/150\n",
            "450/450 [==============================] - 9s 21ms/step - loss: 0.0056 - accuracy: 0.9981 - val_loss: 0.0326 - val_accuracy: 0.9942\n",
            "Epoch 139/150\n",
            "450/450 [==============================] - 10s 21ms/step - loss: 0.0056 - accuracy: 0.9984 - val_loss: 0.0288 - val_accuracy: 0.9943\n",
            "Epoch 140/150\n",
            "450/450 [==============================] - 9s 21ms/step - loss: 0.0063 - accuracy: 0.9982 - val_loss: 0.0343 - val_accuracy: 0.9932\n",
            "Epoch 141/150\n",
            "450/450 [==============================] - 10s 21ms/step - loss: 0.0064 - accuracy: 0.9980 - val_loss: 0.0359 - val_accuracy: 0.9930\n",
            "Epoch 142/150\n",
            "450/450 [==============================] - 10s 21ms/step - loss: 0.0075 - accuracy: 0.9978 - val_loss: 0.0330 - val_accuracy: 0.9930\n",
            "Epoch 143/150\n",
            "450/450 [==============================] - 10s 21ms/step - loss: 0.0069 - accuracy: 0.9981 - val_loss: 0.0354 - val_accuracy: 0.9935\n",
            "Epoch 144/150\n",
            "450/450 [==============================] - 10s 21ms/step - loss: 0.0054 - accuracy: 0.9984 - val_loss: 0.0343 - val_accuracy: 0.9923\n",
            "Epoch 145/150\n",
            "450/450 [==============================] - 10s 21ms/step - loss: 0.0047 - accuracy: 0.9987 - val_loss: 0.0340 - val_accuracy: 0.9943\n",
            "Epoch 146/150\n",
            "450/450 [==============================] - 10s 21ms/step - loss: 0.0066 - accuracy: 0.9980 - val_loss: 0.0284 - val_accuracy: 0.9948\n",
            "Epoch 147/150\n",
            "450/450 [==============================] - 9s 21ms/step - loss: 0.0069 - accuracy: 0.9980 - val_loss: 0.0346 - val_accuracy: 0.9935\n",
            "Epoch 148/150\n",
            "450/450 [==============================] - 10s 21ms/step - loss: 0.0064 - accuracy: 0.9983 - val_loss: 0.0306 - val_accuracy: 0.9938\n",
            "Epoch 149/150\n",
            "450/450 [==============================] - 10s 21ms/step - loss: 0.0047 - accuracy: 0.9984 - val_loss: 0.0300 - val_accuracy: 0.9928\n",
            "Epoch 150/150\n",
            "450/450 [==============================] - 10s 21ms/step - loss: 0.0051 - accuracy: 0.9984 - val_loss: 0.0313 - val_accuracy: 0.9942\n",
            "313/313 [==============================] - 2s 4ms/step - loss: 0.0201 - accuracy: 0.9951\n"
          ]
        },
        {
          "output_type": "execute_result",
          "data": {
            "text/plain": [
              "[0.02014341950416565, 0.9951000213623047]"
            ]
          },
          "metadata": {},
          "execution_count": 26
        }
      ]
    },
    {
      "cell_type": "code",
      "source": [
        "model_M7.compile(optimizer=optimizer,\n",
        "                 loss=\"sparse_categorical_crossentropy\", \n",
        "                 metrics=[\"accuracy\"])\n",
        "history_M7 = model_M7.fit(X_train, y_train, \n",
        "                          epochs=150,\n",
        "                          batch_size=120,\n",
        "                          shuffle=True,\n",
        "                          validation_data=(X_valid, y_valid),\n",
        "                          validation_batch_size=100\n",
        "                          )\n",
        "model_M7.evaluate(X_test, y_test)"
      ],
      "metadata": {
        "colab": {
          "base_uri": "https://localhost:8080/"
        },
        "id": "hEiydIQ5SY5h",
        "outputId": "740a53de-f505-4340-929e-b94e9b5db1b2"
      },
      "execution_count": 27,
      "outputs": [
        {
          "output_type": "stream",
          "name": "stdout",
          "text": [
            "Epoch 1/150\n",
            "450/450 [==============================] - 12s 24ms/step - loss: 0.5834 - accuracy: 0.8571 - val_loss: 0.8061 - val_accuracy: 0.7253\n",
            "Epoch 2/150\n",
            "450/450 [==============================] - 11s 24ms/step - loss: 0.1862 - accuracy: 0.9596 - val_loss: 0.1063 - val_accuracy: 0.9832\n",
            "Epoch 3/150\n",
            "450/450 [==============================] - 11s 24ms/step - loss: 0.1280 - accuracy: 0.9704 - val_loss: 0.0730 - val_accuracy: 0.9852\n",
            "Epoch 4/150\n",
            "450/450 [==============================] - 11s 24ms/step - loss: 0.1007 - accuracy: 0.9763 - val_loss: 0.0578 - val_accuracy: 0.9848\n",
            "Epoch 5/150\n",
            "450/450 [==============================] - 11s 24ms/step - loss: 0.0876 - accuracy: 0.9785 - val_loss: 0.0674 - val_accuracy: 0.9843\n",
            "Epoch 6/150\n",
            "450/450 [==============================] - 11s 23ms/step - loss: 0.0756 - accuracy: 0.9809 - val_loss: 0.0459 - val_accuracy: 0.9888\n",
            "Epoch 7/150\n",
            "450/450 [==============================] - 11s 23ms/step - loss: 0.0689 - accuracy: 0.9824 - val_loss: 0.0543 - val_accuracy: 0.9855\n",
            "Epoch 8/150\n",
            "450/450 [==============================] - 11s 24ms/step - loss: 0.0626 - accuracy: 0.9837 - val_loss: 0.0467 - val_accuracy: 0.9880\n",
            "Epoch 9/150\n",
            "450/450 [==============================] - 11s 25ms/step - loss: 0.0552 - accuracy: 0.9851 - val_loss: 0.0498 - val_accuracy: 0.9873\n",
            "Epoch 10/150\n",
            "450/450 [==============================] - 11s 24ms/step - loss: 0.0537 - accuracy: 0.9855 - val_loss: 0.0443 - val_accuracy: 0.9868\n",
            "Epoch 11/150\n",
            "450/450 [==============================] - 11s 25ms/step - loss: 0.0529 - accuracy: 0.9855 - val_loss: 0.0465 - val_accuracy: 0.9902\n",
            "Epoch 12/150\n",
            "450/450 [==============================] - 11s 24ms/step - loss: 0.0490 - accuracy: 0.9867 - val_loss: 0.0455 - val_accuracy: 0.9873\n",
            "Epoch 13/150\n",
            "450/450 [==============================] - 11s 24ms/step - loss: 0.0461 - accuracy: 0.9871 - val_loss: 0.0379 - val_accuracy: 0.9903\n",
            "Epoch 14/150\n",
            "450/450 [==============================] - 11s 24ms/step - loss: 0.0410 - accuracy: 0.9892 - val_loss: 0.0302 - val_accuracy: 0.9918\n",
            "Epoch 15/150\n",
            "450/450 [==============================] - 11s 24ms/step - loss: 0.0426 - accuracy: 0.9884 - val_loss: 0.0289 - val_accuracy: 0.9917\n",
            "Epoch 16/150\n",
            "450/450 [==============================] - 11s 25ms/step - loss: 0.0382 - accuracy: 0.9890 - val_loss: 0.0270 - val_accuracy: 0.9923\n",
            "Epoch 17/150\n",
            "450/450 [==============================] - 11s 24ms/step - loss: 0.0378 - accuracy: 0.9897 - val_loss: 0.0309 - val_accuracy: 0.9917\n",
            "Epoch 18/150\n",
            "450/450 [==============================] - 11s 24ms/step - loss: 0.0371 - accuracy: 0.9891 - val_loss: 0.0320 - val_accuracy: 0.9917\n",
            "Epoch 19/150\n",
            "450/450 [==============================] - 11s 24ms/step - loss: 0.0367 - accuracy: 0.9891 - val_loss: 0.0326 - val_accuracy: 0.9918\n",
            "Epoch 20/150\n",
            "450/450 [==============================] - 11s 24ms/step - loss: 0.0350 - accuracy: 0.9900 - val_loss: 0.0356 - val_accuracy: 0.9905\n",
            "Epoch 21/150\n",
            "450/450 [==============================] - 11s 24ms/step - loss: 0.0328 - accuracy: 0.9907 - val_loss: 0.0243 - val_accuracy: 0.9930\n",
            "Epoch 22/150\n",
            "450/450 [==============================] - 11s 24ms/step - loss: 0.0315 - accuracy: 0.9910 - val_loss: 0.0261 - val_accuracy: 0.9940\n",
            "Epoch 23/150\n",
            "450/450 [==============================] - 11s 24ms/step - loss: 0.0313 - accuracy: 0.9914 - val_loss: 0.0224 - val_accuracy: 0.9943\n",
            "Epoch 24/150\n",
            "450/450 [==============================] - 11s 24ms/step - loss: 0.0301 - accuracy: 0.9915 - val_loss: 0.0405 - val_accuracy: 0.9900\n",
            "Epoch 25/150\n",
            "450/450 [==============================] - 11s 24ms/step - loss: 0.0301 - accuracy: 0.9916 - val_loss: 0.0207 - val_accuracy: 0.9952\n",
            "Epoch 26/150\n",
            "450/450 [==============================] - 11s 24ms/step - loss: 0.0256 - accuracy: 0.9928 - val_loss: 0.0305 - val_accuracy: 0.9930\n",
            "Epoch 27/150\n",
            "450/450 [==============================] - 11s 24ms/step - loss: 0.0270 - accuracy: 0.9922 - val_loss: 0.0266 - val_accuracy: 0.9923\n",
            "Epoch 28/150\n",
            "450/450 [==============================] - 11s 24ms/step - loss: 0.0281 - accuracy: 0.9919 - val_loss: 0.0295 - val_accuracy: 0.9922\n",
            "Epoch 29/150\n",
            "450/450 [==============================] - 11s 24ms/step - loss: 0.0254 - accuracy: 0.9924 - val_loss: 0.0248 - val_accuracy: 0.9940\n",
            "Epoch 30/150\n",
            "450/450 [==============================] - 11s 24ms/step - loss: 0.0252 - accuracy: 0.9926 - val_loss: 0.0292 - val_accuracy: 0.9928\n",
            "Epoch 31/150\n",
            "450/450 [==============================] - 11s 24ms/step - loss: 0.0239 - accuracy: 0.9929 - val_loss: 0.0296 - val_accuracy: 0.9925\n",
            "Epoch 32/150\n",
            "450/450 [==============================] - 11s 24ms/step - loss: 0.0230 - accuracy: 0.9930 - val_loss: 0.0295 - val_accuracy: 0.9925\n",
            "Epoch 33/150\n",
            "450/450 [==============================] - 11s 24ms/step - loss: 0.0248 - accuracy: 0.9924 - val_loss: 0.0210 - val_accuracy: 0.9940\n",
            "Epoch 34/150\n",
            "450/450 [==============================] - 11s 24ms/step - loss: 0.0223 - accuracy: 0.9935 - val_loss: 0.0303 - val_accuracy: 0.9915\n",
            "Epoch 35/150\n",
            "450/450 [==============================] - 11s 24ms/step - loss: 0.0231 - accuracy: 0.9931 - val_loss: 0.0266 - val_accuracy: 0.9928\n",
            "Epoch 36/150\n",
            "450/450 [==============================] - 11s 24ms/step - loss: 0.0211 - accuracy: 0.9941 - val_loss: 0.0222 - val_accuracy: 0.9945\n",
            "Epoch 37/150\n",
            "450/450 [==============================] - 11s 24ms/step - loss: 0.0207 - accuracy: 0.9940 - val_loss: 0.0253 - val_accuracy: 0.9938\n",
            "Epoch 38/150\n",
            "450/450 [==============================] - 11s 24ms/step - loss: 0.0202 - accuracy: 0.9944 - val_loss: 0.0262 - val_accuracy: 0.9938\n",
            "Epoch 39/150\n",
            "450/450 [==============================] - 11s 24ms/step - loss: 0.0210 - accuracy: 0.9940 - val_loss: 0.0212 - val_accuracy: 0.9948\n",
            "Epoch 40/150\n",
            "450/450 [==============================] - 11s 24ms/step - loss: 0.0187 - accuracy: 0.9945 - val_loss: 0.0209 - val_accuracy: 0.9955\n",
            "Epoch 41/150\n",
            "450/450 [==============================] - 11s 24ms/step - loss: 0.0207 - accuracy: 0.9938 - val_loss: 0.0240 - val_accuracy: 0.9935\n",
            "Epoch 42/150\n",
            "450/450 [==============================] - 11s 24ms/step - loss: 0.0198 - accuracy: 0.9947 - val_loss: 0.0259 - val_accuracy: 0.9923\n",
            "Epoch 43/150\n",
            "450/450 [==============================] - 11s 24ms/step - loss: 0.0203 - accuracy: 0.9940 - val_loss: 0.0319 - val_accuracy: 0.9922\n",
            "Epoch 44/150\n",
            "450/450 [==============================] - 11s 24ms/step - loss: 0.0196 - accuracy: 0.9939 - val_loss: 0.0304 - val_accuracy: 0.9928\n",
            "Epoch 45/150\n",
            "450/450 [==============================] - 11s 23ms/step - loss: 0.0188 - accuracy: 0.9946 - val_loss: 0.0322 - val_accuracy: 0.9932\n",
            "Epoch 46/150\n",
            "450/450 [==============================] - 11s 24ms/step - loss: 0.0199 - accuracy: 0.9939 - val_loss: 0.0325 - val_accuracy: 0.9923\n",
            "Epoch 47/150\n",
            "450/450 [==============================] - 11s 24ms/step - loss: 0.0187 - accuracy: 0.9948 - val_loss: 0.0261 - val_accuracy: 0.9940\n",
            "Epoch 48/150\n",
            "450/450 [==============================] - 11s 24ms/step - loss: 0.0179 - accuracy: 0.9949 - val_loss: 0.0303 - val_accuracy: 0.9930\n",
            "Epoch 49/150\n",
            "450/450 [==============================] - 11s 24ms/step - loss: 0.0177 - accuracy: 0.9946 - val_loss: 0.0278 - val_accuracy: 0.9937\n",
            "Epoch 50/150\n",
            "450/450 [==============================] - 11s 24ms/step - loss: 0.0165 - accuracy: 0.9951 - val_loss: 0.0273 - val_accuracy: 0.9930\n",
            "Epoch 51/150\n",
            "450/450 [==============================] - 11s 24ms/step - loss: 0.0165 - accuracy: 0.9950 - val_loss: 0.0234 - val_accuracy: 0.9948\n",
            "Epoch 52/150\n",
            "450/450 [==============================] - 11s 24ms/step - loss: 0.0159 - accuracy: 0.9951 - val_loss: 0.0252 - val_accuracy: 0.9932\n",
            "Epoch 53/150\n",
            "450/450 [==============================] - 11s 24ms/step - loss: 0.0149 - accuracy: 0.9956 - val_loss: 0.0343 - val_accuracy: 0.9918\n",
            "Epoch 54/150\n",
            "450/450 [==============================] - 11s 24ms/step - loss: 0.0157 - accuracy: 0.9951 - val_loss: 0.0351 - val_accuracy: 0.9905\n",
            "Epoch 55/150\n",
            "450/450 [==============================] - 11s 24ms/step - loss: 0.0161 - accuracy: 0.9957 - val_loss: 0.0245 - val_accuracy: 0.9935\n",
            "Epoch 56/150\n",
            "450/450 [==============================] - 11s 24ms/step - loss: 0.0158 - accuracy: 0.9955 - val_loss: 0.0253 - val_accuracy: 0.9943\n",
            "Epoch 57/150\n",
            "450/450 [==============================] - 11s 24ms/step - loss: 0.0148 - accuracy: 0.9954 - val_loss: 0.0258 - val_accuracy: 0.9938\n",
            "Epoch 58/150\n",
            "450/450 [==============================] - 11s 24ms/step - loss: 0.0138 - accuracy: 0.9959 - val_loss: 0.0295 - val_accuracy: 0.9930\n",
            "Epoch 59/150\n",
            "450/450 [==============================] - 11s 24ms/step - loss: 0.0163 - accuracy: 0.9958 - val_loss: 0.0266 - val_accuracy: 0.9947\n",
            "Epoch 60/150\n",
            "450/450 [==============================] - 11s 24ms/step - loss: 0.0169 - accuracy: 0.9951 - val_loss: 0.0251 - val_accuracy: 0.9952\n",
            "Epoch 61/150\n",
            "450/450 [==============================] - 11s 24ms/step - loss: 0.0134 - accuracy: 0.9958 - val_loss: 0.0271 - val_accuracy: 0.9942\n",
            "Epoch 62/150\n",
            "450/450 [==============================] - 11s 24ms/step - loss: 0.0148 - accuracy: 0.9957 - val_loss: 0.0280 - val_accuracy: 0.9938\n",
            "Epoch 63/150\n",
            "450/450 [==============================] - 11s 24ms/step - loss: 0.0139 - accuracy: 0.9956 - val_loss: 0.0347 - val_accuracy: 0.9927\n",
            "Epoch 64/150\n",
            "450/450 [==============================] - 11s 24ms/step - loss: 0.0150 - accuracy: 0.9955 - val_loss: 0.0297 - val_accuracy: 0.9937\n",
            "Epoch 65/150\n",
            "450/450 [==============================] - 11s 24ms/step - loss: 0.0135 - accuracy: 0.9958 - val_loss: 0.0225 - val_accuracy: 0.9943\n",
            "Epoch 66/150\n",
            "450/450 [==============================] - 11s 24ms/step - loss: 0.0128 - accuracy: 0.9964 - val_loss: 0.0235 - val_accuracy: 0.9948\n",
            "Epoch 67/150\n",
            "450/450 [==============================] - 11s 24ms/step - loss: 0.0149 - accuracy: 0.9955 - val_loss: 0.0213 - val_accuracy: 0.9945\n",
            "Epoch 68/150\n",
            "450/450 [==============================] - 11s 24ms/step - loss: 0.0135 - accuracy: 0.9959 - val_loss: 0.0275 - val_accuracy: 0.9933\n",
            "Epoch 69/150\n",
            "450/450 [==============================] - 11s 24ms/step - loss: 0.0125 - accuracy: 0.9961 - val_loss: 0.0289 - val_accuracy: 0.9933\n",
            "Epoch 70/150\n",
            "450/450 [==============================] - 11s 24ms/step - loss: 0.0128 - accuracy: 0.9964 - val_loss: 0.0251 - val_accuracy: 0.9940\n",
            "Epoch 71/150\n",
            "450/450 [==============================] - 11s 24ms/step - loss: 0.0122 - accuracy: 0.9966 - val_loss: 0.0286 - val_accuracy: 0.9930\n",
            "Epoch 72/150\n",
            "450/450 [==============================] - 11s 24ms/step - loss: 0.0136 - accuracy: 0.9960 - val_loss: 0.0225 - val_accuracy: 0.9950\n",
            "Epoch 73/150\n",
            "450/450 [==============================] - 11s 24ms/step - loss: 0.0119 - accuracy: 0.9966 - val_loss: 0.0258 - val_accuracy: 0.9933\n",
            "Epoch 74/150\n",
            "450/450 [==============================] - 11s 24ms/step - loss: 0.0125 - accuracy: 0.9960 - val_loss: 0.0240 - val_accuracy: 0.9947\n",
            "Epoch 75/150\n",
            "450/450 [==============================] - 11s 24ms/step - loss: 0.0125 - accuracy: 0.9960 - val_loss: 0.0262 - val_accuracy: 0.9935\n",
            "Epoch 76/150\n",
            "450/450 [==============================] - 11s 24ms/step - loss: 0.0113 - accuracy: 0.9966 - val_loss: 0.0293 - val_accuracy: 0.9920\n",
            "Epoch 77/150\n",
            "450/450 [==============================] - 11s 24ms/step - loss: 0.0128 - accuracy: 0.9962 - val_loss: 0.0220 - val_accuracy: 0.9950\n",
            "Epoch 78/150\n",
            "450/450 [==============================] - 11s 24ms/step - loss: 0.0105 - accuracy: 0.9965 - val_loss: 0.0232 - val_accuracy: 0.9935\n",
            "Epoch 79/150\n",
            "450/450 [==============================] - 11s 24ms/step - loss: 0.0119 - accuracy: 0.9967 - val_loss: 0.0320 - val_accuracy: 0.9923\n",
            "Epoch 80/150\n",
            "450/450 [==============================] - 11s 24ms/step - loss: 0.0119 - accuracy: 0.9963 - val_loss: 0.0245 - val_accuracy: 0.9948\n",
            "Epoch 81/150\n",
            "450/450 [==============================] - 11s 24ms/step - loss: 0.0120 - accuracy: 0.9963 - val_loss: 0.0274 - val_accuracy: 0.9945\n",
            "Epoch 82/150\n",
            "450/450 [==============================] - 11s 24ms/step - loss: 0.0124 - accuracy: 0.9966 - val_loss: 0.0250 - val_accuracy: 0.9942\n",
            "Epoch 83/150\n",
            "450/450 [==============================] - 11s 24ms/step - loss: 0.0101 - accuracy: 0.9972 - val_loss: 0.0266 - val_accuracy: 0.9940\n",
            "Epoch 84/150\n",
            "450/450 [==============================] - 11s 23ms/step - loss: 0.0113 - accuracy: 0.9968 - val_loss: 0.0224 - val_accuracy: 0.9942\n",
            "Epoch 85/150\n",
            "450/450 [==============================] - 11s 24ms/step - loss: 0.0120 - accuracy: 0.9968 - val_loss: 0.0235 - val_accuracy: 0.9945\n",
            "Epoch 86/150\n",
            "450/450 [==============================] - 11s 24ms/step - loss: 0.0101 - accuracy: 0.9970 - val_loss: 0.0228 - val_accuracy: 0.9950\n",
            "Epoch 87/150\n",
            "450/450 [==============================] - 11s 24ms/step - loss: 0.0112 - accuracy: 0.9966 - val_loss: 0.0266 - val_accuracy: 0.9935\n",
            "Epoch 88/150\n",
            "450/450 [==============================] - 11s 24ms/step - loss: 0.0115 - accuracy: 0.9967 - val_loss: 0.0231 - val_accuracy: 0.9950\n",
            "Epoch 89/150\n",
            "450/450 [==============================] - 11s 24ms/step - loss: 0.0111 - accuracy: 0.9967 - val_loss: 0.0235 - val_accuracy: 0.9943\n",
            "Epoch 90/150\n",
            "450/450 [==============================] - 11s 24ms/step - loss: 0.0105 - accuracy: 0.9970 - val_loss: 0.0276 - val_accuracy: 0.9947\n",
            "Epoch 91/150\n",
            "450/450 [==============================] - 11s 24ms/step - loss: 0.0115 - accuracy: 0.9967 - val_loss: 0.0315 - val_accuracy: 0.9943\n",
            "Epoch 92/150\n",
            "450/450 [==============================] - 11s 24ms/step - loss: 0.0106 - accuracy: 0.9967 - val_loss: 0.0286 - val_accuracy: 0.9937\n",
            "Epoch 93/150\n",
            "450/450 [==============================] - 11s 24ms/step - loss: 0.0086 - accuracy: 0.9974 - val_loss: 0.0238 - val_accuracy: 0.9952\n",
            "Epoch 94/150\n",
            "450/450 [==============================] - 11s 24ms/step - loss: 0.0102 - accuracy: 0.9971 - val_loss: 0.0262 - val_accuracy: 0.9947\n",
            "Epoch 95/150\n",
            "450/450 [==============================] - 11s 24ms/step - loss: 0.0100 - accuracy: 0.9970 - val_loss: 0.0311 - val_accuracy: 0.9933\n",
            "Epoch 96/150\n",
            "450/450 [==============================] - 11s 24ms/step - loss: 0.0102 - accuracy: 0.9970 - val_loss: 0.0292 - val_accuracy: 0.9937\n",
            "Epoch 97/150\n",
            "450/450 [==============================] - 11s 24ms/step - loss: 0.0114 - accuracy: 0.9964 - val_loss: 0.0311 - val_accuracy: 0.9927\n",
            "Epoch 98/150\n",
            "450/450 [==============================] - 11s 24ms/step - loss: 0.0100 - accuracy: 0.9973 - val_loss: 0.0304 - val_accuracy: 0.9935\n",
            "Epoch 99/150\n",
            "450/450 [==============================] - 11s 24ms/step - loss: 0.0086 - accuracy: 0.9973 - val_loss: 0.0294 - val_accuracy: 0.9938\n",
            "Epoch 100/150\n",
            "450/450 [==============================] - 11s 24ms/step - loss: 0.0100 - accuracy: 0.9973 - val_loss: 0.0280 - val_accuracy: 0.9955\n",
            "Epoch 101/150\n",
            "450/450 [==============================] - 11s 24ms/step - loss: 0.0092 - accuracy: 0.9970 - val_loss: 0.0295 - val_accuracy: 0.9950\n",
            "Epoch 102/150\n",
            "450/450 [==============================] - 11s 24ms/step - loss: 0.0104 - accuracy: 0.9968 - val_loss: 0.0314 - val_accuracy: 0.9940\n",
            "Epoch 103/150\n",
            "450/450 [==============================] - 11s 24ms/step - loss: 0.0101 - accuracy: 0.9969 - val_loss: 0.0295 - val_accuracy: 0.9938\n",
            "Epoch 104/150\n",
            "450/450 [==============================] - 11s 24ms/step - loss: 0.0086 - accuracy: 0.9974 - val_loss: 0.0232 - val_accuracy: 0.9937\n",
            "Epoch 105/150\n",
            "450/450 [==============================] - 11s 24ms/step - loss: 0.0081 - accuracy: 0.9978 - val_loss: 0.0304 - val_accuracy: 0.9928\n",
            "Epoch 106/150\n",
            "450/450 [==============================] - 11s 24ms/step - loss: 0.0098 - accuracy: 0.9970 - val_loss: 0.0227 - val_accuracy: 0.9945\n",
            "Epoch 107/150\n",
            "450/450 [==============================] - 11s 24ms/step - loss: 0.0095 - accuracy: 0.9973 - val_loss: 0.0243 - val_accuracy: 0.9938\n",
            "Epoch 108/150\n",
            "450/450 [==============================] - 11s 23ms/step - loss: 0.0078 - accuracy: 0.9977 - val_loss: 0.0269 - val_accuracy: 0.9940\n",
            "Epoch 109/150\n",
            "450/450 [==============================] - 11s 24ms/step - loss: 0.0082 - accuracy: 0.9975 - val_loss: 0.0308 - val_accuracy: 0.9937\n",
            "Epoch 110/150\n",
            "450/450 [==============================] - 11s 24ms/step - loss: 0.0105 - accuracy: 0.9967 - val_loss: 0.0322 - val_accuracy: 0.9927\n",
            "Epoch 111/150\n",
            "450/450 [==============================] - 11s 24ms/step - loss: 0.0098 - accuracy: 0.9969 - val_loss: 0.0303 - val_accuracy: 0.9930\n",
            "Epoch 112/150\n",
            "450/450 [==============================] - 11s 24ms/step - loss: 0.0087 - accuracy: 0.9972 - val_loss: 0.0314 - val_accuracy: 0.9937\n",
            "Epoch 113/150\n",
            "450/450 [==============================] - 11s 23ms/step - loss: 0.0091 - accuracy: 0.9969 - val_loss: 0.0282 - val_accuracy: 0.9940\n",
            "Epoch 114/150\n",
            "450/450 [==============================] - 11s 23ms/step - loss: 0.0097 - accuracy: 0.9972 - val_loss: 0.0344 - val_accuracy: 0.9923\n",
            "Epoch 115/150\n",
            "450/450 [==============================] - 11s 24ms/step - loss: 0.0084 - accuracy: 0.9973 - val_loss: 0.0303 - val_accuracy: 0.9942\n",
            "Epoch 116/150\n",
            "450/450 [==============================] - 11s 23ms/step - loss: 0.0081 - accuracy: 0.9977 - val_loss: 0.0276 - val_accuracy: 0.9940\n",
            "Epoch 117/150\n",
            "450/450 [==============================] - 11s 24ms/step - loss: 0.0089 - accuracy: 0.9973 - val_loss: 0.0270 - val_accuracy: 0.9937\n",
            "Epoch 118/150\n",
            "450/450 [==============================] - 11s 23ms/step - loss: 0.0072 - accuracy: 0.9977 - val_loss: 0.0274 - val_accuracy: 0.9942\n",
            "Epoch 119/150\n",
            "450/450 [==============================] - 11s 23ms/step - loss: 0.0080 - accuracy: 0.9975 - val_loss: 0.0252 - val_accuracy: 0.9948\n",
            "Epoch 120/150\n",
            "450/450 [==============================] - 11s 24ms/step - loss: 0.0080 - accuracy: 0.9974 - val_loss: 0.0264 - val_accuracy: 0.9938\n",
            "Epoch 121/150\n",
            "450/450 [==============================] - 11s 23ms/step - loss: 0.0081 - accuracy: 0.9978 - val_loss: 0.0320 - val_accuracy: 0.9927\n",
            "Epoch 122/150\n",
            "450/450 [==============================] - 11s 23ms/step - loss: 0.0080 - accuracy: 0.9976 - val_loss: 0.0274 - val_accuracy: 0.9935\n",
            "Epoch 123/150\n",
            "450/450 [==============================] - 11s 23ms/step - loss: 0.0079 - accuracy: 0.9974 - val_loss: 0.0261 - val_accuracy: 0.9933\n",
            "Epoch 124/150\n",
            "450/450 [==============================] - 11s 23ms/step - loss: 0.0074 - accuracy: 0.9978 - val_loss: 0.0290 - val_accuracy: 0.9938\n",
            "Epoch 125/150\n",
            "450/450 [==============================] - 11s 23ms/step - loss: 0.0086 - accuracy: 0.9972 - val_loss: 0.0384 - val_accuracy: 0.9927\n",
            "Epoch 126/150\n",
            "450/450 [==============================] - 11s 23ms/step - loss: 0.0082 - accuracy: 0.9977 - val_loss: 0.0271 - val_accuracy: 0.9938\n",
            "Epoch 127/150\n",
            "450/450 [==============================] - 11s 23ms/step - loss: 0.0073 - accuracy: 0.9979 - val_loss: 0.0253 - val_accuracy: 0.9945\n",
            "Epoch 128/150\n",
            "450/450 [==============================] - 11s 23ms/step - loss: 0.0086 - accuracy: 0.9973 - val_loss: 0.0270 - val_accuracy: 0.9947\n",
            "Epoch 129/150\n",
            "450/450 [==============================] - 11s 23ms/step - loss: 0.0073 - accuracy: 0.9977 - val_loss: 0.0271 - val_accuracy: 0.9952\n",
            "Epoch 130/150\n",
            "450/450 [==============================] - 11s 23ms/step - loss: 0.0081 - accuracy: 0.9976 - val_loss: 0.0261 - val_accuracy: 0.9942\n",
            "Epoch 131/150\n",
            "450/450 [==============================] - 11s 24ms/step - loss: 0.0084 - accuracy: 0.9974 - val_loss: 0.0337 - val_accuracy: 0.9922\n",
            "Epoch 132/150\n",
            "450/450 [==============================] - 11s 23ms/step - loss: 0.0078 - accuracy: 0.9977 - val_loss: 0.0255 - val_accuracy: 0.9947\n",
            "Epoch 133/150\n",
            "450/450 [==============================] - 11s 23ms/step - loss: 0.0072 - accuracy: 0.9981 - val_loss: 0.0352 - val_accuracy: 0.9937\n",
            "Epoch 134/150\n",
            "450/450 [==============================] - 11s 23ms/step - loss: 0.0081 - accuracy: 0.9977 - val_loss: 0.0295 - val_accuracy: 0.9943\n",
            "Epoch 135/150\n",
            "450/450 [==============================] - 11s 23ms/step - loss: 0.0071 - accuracy: 0.9979 - val_loss: 0.0267 - val_accuracy: 0.9937\n",
            "Epoch 136/150\n",
            "450/450 [==============================] - 11s 23ms/step - loss: 0.0073 - accuracy: 0.9977 - val_loss: 0.0264 - val_accuracy: 0.9945\n",
            "Epoch 137/150\n",
            "450/450 [==============================] - 11s 23ms/step - loss: 0.0078 - accuracy: 0.9978 - val_loss: 0.0324 - val_accuracy: 0.9928\n",
            "Epoch 138/150\n",
            "450/450 [==============================] - 11s 24ms/step - loss: 0.0066 - accuracy: 0.9978 - val_loss: 0.0275 - val_accuracy: 0.9950\n",
            "Epoch 139/150\n",
            "450/450 [==============================] - 11s 23ms/step - loss: 0.0074 - accuracy: 0.9976 - val_loss: 0.0272 - val_accuracy: 0.9935\n",
            "Epoch 140/150\n",
            "450/450 [==============================] - 11s 23ms/step - loss: 0.0059 - accuracy: 0.9982 - val_loss: 0.0256 - val_accuracy: 0.9950\n",
            "Epoch 141/150\n",
            "450/450 [==============================] - 11s 23ms/step - loss: 0.0067 - accuracy: 0.9978 - val_loss: 0.0338 - val_accuracy: 0.9940\n",
            "Epoch 142/150\n",
            "450/450 [==============================] - 11s 23ms/step - loss: 0.0080 - accuracy: 0.9975 - val_loss: 0.0279 - val_accuracy: 0.9947\n",
            "Epoch 143/150\n",
            "450/450 [==============================] - 11s 24ms/step - loss: 0.0081 - accuracy: 0.9979 - val_loss: 0.0376 - val_accuracy: 0.9932\n",
            "Epoch 144/150\n",
            "450/450 [==============================] - 11s 24ms/step - loss: 0.0069 - accuracy: 0.9980 - val_loss: 0.0324 - val_accuracy: 0.9937\n",
            "Epoch 145/150\n",
            "450/450 [==============================] - 11s 24ms/step - loss: 0.0064 - accuracy: 0.9981 - val_loss: 0.0280 - val_accuracy: 0.9943\n",
            "Epoch 146/150\n",
            "450/450 [==============================] - 11s 24ms/step - loss: 0.0056 - accuracy: 0.9982 - val_loss: 0.0341 - val_accuracy: 0.9937\n",
            "Epoch 147/150\n",
            "450/450 [==============================] - 11s 23ms/step - loss: 0.0064 - accuracy: 0.9980 - val_loss: 0.0301 - val_accuracy: 0.9940\n",
            "Epoch 148/150\n",
            "450/450 [==============================] - 11s 24ms/step - loss: 0.0074 - accuracy: 0.9978 - val_loss: 0.0379 - val_accuracy: 0.9937\n",
            "Epoch 149/150\n",
            "450/450 [==============================] - 11s 24ms/step - loss: 0.0071 - accuracy: 0.9979 - val_loss: 0.0372 - val_accuracy: 0.9920\n",
            "Epoch 150/150\n",
            "450/450 [==============================] - 11s 23ms/step - loss: 0.0071 - accuracy: 0.9979 - val_loss: 0.0289 - val_accuracy: 0.9947\n",
            "313/313 [==============================] - 2s 4ms/step - loss: 0.0194 - accuracy: 0.9955\n"
          ]
        },
        {
          "output_type": "execute_result",
          "data": {
            "text/plain": [
              "[0.01939419098198414, 0.9955000281333923]"
            ]
          },
          "metadata": {},
          "execution_count": 27
        }
      ]
    },
    {
      "cell_type": "markdown",
      "source": [
        "### Experiments"
      ],
      "metadata": {
        "id": "8qBs9lBNOouI"
      }
    },
    {
      "cell_type": "code",
      "source": [
        "history = dict(\n",
        "    M3=history_M3.history,\n",
        "    M5=history_M5.history,\n",
        "    M7=history_M7.history\n",
        ")"
      ],
      "metadata": {
        "id": "3m_r9p5KarEQ"
      },
      "execution_count": 37,
      "outputs": []
    },
    {
      "cell_type": "code",
      "source": [
        "fig = plt.figure(figsize=(15, 3))\n",
        "for i, (model_name, model_history) in enumerate(history.items()):\n",
        "    plt.subplot(1, 3, i+1)\n",
        "    plt.plot(model_history[\"accuracy\"], \"g--\", label=\"training\")\n",
        "    plt.plot(model_history[\"val_accuracy\"], \"y-\", label=\"validation\")\n",
        "    plt.xlabel(\"epoch\")\n",
        "    if i == 0:\n",
        "        plt.ylabel(\"accuracy\")\n",
        "    else:\n",
        "        plt.ylabel(\"\")\n",
        "    plt.title(f\"{model_name}\")\n",
        "    plt.ylim(0.95, 1.005)\n",
        "plt.show()"
      ],
      "metadata": {
        "colab": {
          "base_uri": "https://localhost:8080/",
          "height": 241
        },
        "id": "7e1rMMG0OuMp",
        "outputId": "cd908bab-fdbd-4802-ca81-529bca4d64bc"
      },
      "execution_count": 44,
      "outputs": [
        {
          "output_type": "display_data",
          "data": {
            "text/plain": [
              "<Figure size 1080x216 with 3 Axes>"
            ],
            "image/png": "[encoded data removed]"
          },
          "metadata": {
            "needs_background": "light"
          }
        }
      ]
    },
    {
      "cell_type": "markdown",
      "source": [
        "### Ensemble\n",
        "- 논문에서는 initial weights를 다르게 해서 각 모델별로 1000개씩, 총 3000개를 학습시키고 앙상블 하여 최고 성적을 달성\n",
        "- (모델링에 대한 실험에서는 10개씩 총 30개로)\n",
        "- 여기서는 3개 모델에 대해서만 앙상블 해보기로\n",
        "    - 단 3개의 모델이지만 accuracy 상승 (0.9965)\n",
        "\n"
      ],
      "metadata": {
        "id": "jnjm2JfEbqFp"
      }
    },
    {
      "cell_type": "code",
      "source": [
        "y_pred_M3 = model_M3.predict(X_test)\n",
        "y_pred_M5 = model_M5.predict(X_test)\n",
        "y_pred_M7 = model_M7.predict(X_test)"
      ],
      "metadata": {
        "id": "kSA65uadkJ5e"
      },
      "execution_count": 50,
      "outputs": []
    },
    {
      "cell_type": "code",
      "source": [
        "soft_voting = np.mean([y_pred_M3, y_pred_M5, y_pred_M7], axis=0)\n",
        "soft_voting.shape"
      ],
      "metadata": {
        "colab": {
          "base_uri": "https://localhost:8080/"
        },
        "id": "uMKKP1XqkLE6",
        "outputId": "24a77eee-1471-4866-ff30-78b2048d739b"
      },
      "execution_count": 59,
      "outputs": [
        {
          "output_type": "execute_result",
          "data": {
            "text/plain": [
              "(10000, 10)"
            ]
          },
          "metadata": {},
          "execution_count": 59
        }
      ]
    },
    {
      "cell_type": "code",
      "source": [
        "ensembled_pred = soft_voting.argmax(axis=-1)"
      ],
      "metadata": {
        "id": "0i_XOMSIkPpU"
      },
      "execution_count": 60,
      "outputs": []
    },
    {
      "cell_type": "code",
      "source": [
        "from sklearn.metrics import accuracy_score\n",
        "\n",
        "ensemble_accuracy = accuracy_score(y_test, ensembled_pred)\n",
        "ensemble_accuracy"
      ],
      "metadata": {
        "colab": {
          "base_uri": "https://localhost:8080/"
        },
        "id": "xP3AXnEwlGaK",
        "outputId": "a8a0ef59-bcf6-4159-d659-6e3b7d1b38d5"
      },
      "execution_count": 61,
      "outputs": [
        {
          "output_type": "execute_result",
          "data": {
            "text/plain": [
              "0.9965"
            ]
          },
          "metadata": {},
          "execution_count": 61
        }
      ]
    },
    {
      "cell_type": "code",
      "source": [],
      "metadata": {
        "id": "lScSX90-lSo3"
      },
      "execution_count": null,
      "outputs": []
    }
  ]
}