{
  "nbformat": 4,
  "nbformat_minor": 0,
  "metadata": {
    "colab": {
      "provenance": [],
      "authorship_tag": "ABX9TyPYKAX4chPnkse2gLCqsUp4",
      "include_colab_link": true
    },
    "kernelspec": {
      "name": "python3",
      "display_name": "Python 3"
    },
    "language_info": {
      "name": "python"
    }
  },
  "cells": [
    {
      "cell_type": "markdown",
      "metadata": {
        "id": "view-in-github",
        "colab_type": "text"
      },
      "source": [
        "<a href=\"https://colab.research.google.com/github/sim-so/HandsOnML/blob/main/03_Classification_Practice.ipynb\" target=\"_parent\"><img src=\"https://colab.research.google.com/assets/colab-badge.svg\" alt=\"Open In Colab\"/></a>"
      ]
    },
    {
      "cell_type": "markdown",
      "source": [
        "# 분류 연습문제"
      ],
      "metadata": {
        "id": "gN2urBanDfOi"
      }
    },
    {
      "cell_type": "markdown",
      "source": [
        "## 기본 라이브러리"
      ],
      "metadata": {
        "id": "uhEVpGF1Dh4O"
      }
    },
    {
      "cell_type": "code",
      "execution_count": 1,
      "metadata": {
        "id": "jyMh4m6fDEOP"
      },
      "outputs": [],
      "source": [
        "import os\n",
        "import random\n",
        "\n",
        "import numpy as np\n",
        "import pandas as pd\n",
        "import matplotlib.pyplot as plt\n",
        "import seaborn as sns\n",
        "\n",
        "import gc\n",
        "import warnings"
      ]
    },
    {
      "cell_type": "code",
      "source": [
        "seed = 27\n",
        "random.seed = seed\n",
        "os.environ['PYTHONHASHSEED'] = str(seed)\n",
        "np.random.seed(seed)"
      ],
      "metadata": {
        "id": "IAsZL-xSQGu5"
      },
      "execution_count": 2,
      "outputs": []
    },
    {
      "cell_type": "markdown",
      "source": [
        "# 1 MNIST 데이터셋으로 분류 정확도 97% 달성하기"
      ],
      "metadata": {
        "id": "N6T2wsjADlVb"
      }
    },
    {
      "cell_type": "code",
      "source": [
        "from sklearn.neighbors import KNeighborsClassifier\n",
        "from sklearn.model_selection import train_test_split\n",
        "from sklearn.model_selection import StratifiedKFold\n",
        "from sklearn.model_selection import GridSearchCV\n",
        "from sklearn.metrics import accuracy_score"
      ],
      "metadata": {
        "id": "OX-yxdqpDlqY"
      },
      "execution_count": null,
      "outputs": []
    },
    {
      "cell_type": "code",
      "source": [
        "from sklearn.datasets import fetch_openml\n",
        "\n",
        "mnist = fetch_openml('mnist_784', version=1, as_frame=False)"
      ],
      "metadata": {
        "id": "nZrjfGmgDxDk"
      },
      "execution_count": null,
      "outputs": []
    },
    {
      "cell_type": "code",
      "source": [
        "X, y = mnist['data'], mnist['target']\n",
        "print(X.shape, y.shape)"
      ],
      "metadata": {
        "colab": {
          "base_uri": "https://localhost:8080/"
        },
        "id": "vLtrjiYUQgKn",
        "outputId": "35a4987d-bee0-4c73-a844-3f30de30e44d"
      },
      "execution_count": null,
      "outputs": [
        {
          "output_type": "stream",
          "name": "stdout",
          "text": [
            "(70000, 784) (70000,)\n"
          ]
        }
      ]
    },
    {
      "cell_type": "code",
      "source": [
        "X_train, X_test, y_train, y_test = train_test_split(X, y, test_size=10000, shuffle=False)"
      ],
      "metadata": {
        "id": "PKk_uy3iQpwq"
      },
      "execution_count": null,
      "outputs": []
    },
    {
      "cell_type": "code",
      "source": [
        "kn_base = KNeighborsClassifier()\n",
        "skf = StratifiedKFold(n_splits=4, random_state=seed, shuffle=True)"
      ],
      "metadata": {
        "id": "eakFyQxzg8GV"
      },
      "execution_count": null,
      "outputs": []
    },
    {
      "cell_type": "code",
      "source": [
        "param_grid = {\n",
        "    \"n_neighbors\":[10, 15, 20, 25, 30],\n",
        "    \"weights\":['uniform', 'distance']\n",
        "}"
      ],
      "metadata": {
        "id": "h020VrzLSBvS"
      },
      "execution_count": null,
      "outputs": []
    },
    {
      "cell_type": "code",
      "source": [
        "kn_clf = GridSearchCV(kn_base, param_grid=param_grid, cv=skf, scoring='accuracy', verbose=2)"
      ],
      "metadata": {
        "id": "y1X1Lj95PXQU"
      },
      "execution_count": null,
      "outputs": []
    },
    {
      "cell_type": "code",
      "source": [
        "kn_clf.fit(X_train, y_train)"
      ],
      "metadata": {
        "colab": {
          "base_uri": "https://localhost:8080/"
        },
        "id": "B5AyRp7fQdk9",
        "outputId": "9c005466-981c-47f2-d0ad-10ce189ed024"
      },
      "execution_count": null,
      "outputs": [
        {
          "output_type": "stream",
          "name": "stdout",
          "text": [
            "Fitting 4 folds for each of 10 candidates, totalling 40 fits\n",
            "[CV] END ....................n_neighbors=10, weights=uniform; total time=  43.3s\n",
            "[CV] END ....................n_neighbors=10, weights=uniform; total time=  47.5s\n",
            "[CV] END ....................n_neighbors=10, weights=uniform; total time=  47.9s\n",
            "[CV] END ....................n_neighbors=10, weights=uniform; total time=  45.0s\n",
            "[CV] END ...................n_neighbors=10, weights=distance; total time=  45.2s\n",
            "[CV] END ...................n_neighbors=10, weights=distance; total time=  43.1s\n",
            "[CV] END ...................n_neighbors=10, weights=distance; total time=  43.3s\n",
            "[CV] END ...................n_neighbors=10, weights=distance; total time=  42.7s\n",
            "[CV] END ....................n_neighbors=15, weights=uniform; total time=  42.7s\n",
            "[CV] END ....................n_neighbors=15, weights=uniform; total time=  44.4s\n",
            "[CV] END ....................n_neighbors=15, weights=uniform; total time=  45.0s\n",
            "[CV] END ....................n_neighbors=15, weights=uniform; total time=  43.9s\n",
            "[CV] END ...................n_neighbors=15, weights=distance; total time=  45.9s\n",
            "[CV] END ...................n_neighbors=15, weights=distance; total time=  43.9s\n",
            "[CV] END ...................n_neighbors=15, weights=distance; total time=  42.8s\n",
            "[CV] END ...................n_neighbors=15, weights=distance; total time=  44.0s\n",
            "[CV] END ....................n_neighbors=20, weights=uniform; total time=  44.5s\n",
            "[CV] END ....................n_neighbors=20, weights=uniform; total time=  43.8s\n",
            "[CV] END ....................n_neighbors=20, weights=uniform; total time=  43.6s\n",
            "[CV] END ....................n_neighbors=20, weights=uniform; total time=  43.3s\n",
            "[CV] END ...................n_neighbors=20, weights=distance; total time=  42.9s\n",
            "[CV] END ...................n_neighbors=20, weights=distance; total time=  45.8s\n",
            "[CV] END ...................n_neighbors=20, weights=distance; total time=  43.1s\n",
            "[CV] END ...................n_neighbors=20, weights=distance; total time=  43.8s\n",
            "[CV] END ....................n_neighbors=25, weights=uniform; total time=  44.3s\n",
            "[CV] END ....................n_neighbors=25, weights=uniform; total time=  42.2s\n",
            "[CV] END ....................n_neighbors=25, weights=uniform; total time=  48.2s\n",
            "[CV] END ....................n_neighbors=25, weights=uniform; total time=  46.2s\n",
            "[CV] END ...................n_neighbors=25, weights=distance; total time=  42.9s\n",
            "[CV] END ...................n_neighbors=25, weights=distance; total time=  41.7s\n",
            "[CV] END ...................n_neighbors=25, weights=distance; total time=  44.5s\n",
            "[CV] END ...................n_neighbors=25, weights=distance; total time=  43.2s\n",
            "[CV] END ....................n_neighbors=30, weights=uniform; total time=  43.2s\n",
            "[CV] END ....................n_neighbors=30, weights=uniform; total time=  44.5s\n",
            "[CV] END ....................n_neighbors=30, weights=uniform; total time=  44.6s\n",
            "[CV] END ....................n_neighbors=30, weights=uniform; total time=  43.5s\n",
            "[CV] END ...................n_neighbors=30, weights=distance; total time=  43.1s\n",
            "[CV] END ...................n_neighbors=30, weights=distance; total time=  41.7s\n",
            "[CV] END ...................n_neighbors=30, weights=distance; total time=  43.1s\n",
            "[CV] END ...................n_neighbors=30, weights=distance; total time=  43.8s\n"
          ]
        },
        {
          "output_type": "execute_result",
          "data": {
            "text/plain": [
              "GridSearchCV(cv=StratifiedKFold(n_splits=4, random_state=27, shuffle=True),\n",
              "             estimator=KNeighborsClassifier(),\n",
              "             param_grid={'n_neighbors': [10, 15, 20, 25, 30],\n",
              "                         'weights': ['uniform', 'distance']},\n",
              "             scoring='accuracy', verbose=2)"
            ]
          },
          "metadata": {},
          "execution_count": 21
        }
      ]
    },
    {
      "cell_type": "code",
      "source": [
        "kn_clf.best_estimator_"
      ],
      "metadata": {
        "colab": {
          "base_uri": "https://localhost:8080/"
        },
        "id": "Vc4JytCJTpBE",
        "outputId": "daf9ea88-6d6e-4737-e5bb-aa66a4a452b7"
      },
      "execution_count": null,
      "outputs": [
        {
          "output_type": "execute_result",
          "data": {
            "text/plain": [
              "KNeighborsClassifier(n_neighbors=10, weights='distance')"
            ]
          },
          "metadata": {},
          "execution_count": 22
        }
      ]
    },
    {
      "cell_type": "code",
      "source": [
        "pred = kn_clf.predict(X_test)\n",
        "score = accuracy_score(y_test, pred)"
      ],
      "metadata": {
        "id": "i_sul8x1f-rD"
      },
      "execution_count": null,
      "outputs": []
    },
    {
      "cell_type": "code",
      "source": [
        "score"
      ],
      "metadata": {
        "colab": {
          "base_uri": "https://localhost:8080/"
        },
        "id": "ljX4yUlcgaTs",
        "outputId": "f3a9d829-5245-4472-c644-26574f7ad72c"
      },
      "execution_count": null,
      "outputs": [
        {
          "output_type": "execute_result",
          "data": {
            "text/plain": [
              "0.9684"
            ]
          },
          "metadata": {},
          "execution_count": 26
        }
      ]
    },
    {
      "cell_type": "code",
      "source": [
        "param_grid = {\n",
        "    \"n_neighbors\":[6, 8, 10, 12],\n",
        "    \"weights\":['uniform']\n",
        "}\n",
        "kn_clf = GridSearchCV(kn_base, param_grid=param_grid, cv=skf, scoring='accuracy', verbose=3)\n",
        "kn_clf.fit(X_train, y_train)"
      ],
      "metadata": {
        "colab": {
          "base_uri": "https://localhost:8080/"
        },
        "id": "tl7HF-blg_iY",
        "outputId": "4a3f105e-642f-42a3-c80a-6a3c4d7adbff"
      },
      "execution_count": null,
      "outputs": [
        {
          "output_type": "stream",
          "name": "stdout",
          "text": [
            "Fitting 4 folds for each of 4 candidates, totalling 16 fits\n",
            "[CV 1/4] END ....n_neighbors=6, weights=uniform;, score=0.966 total time=  45.4s\n",
            "[CV 2/4] END ....n_neighbors=6, weights=uniform;, score=0.972 total time=  48.5s\n",
            "[CV 3/4] END ....n_neighbors=6, weights=uniform;, score=0.968 total time=  44.4s\n",
            "[CV 4/4] END ....n_neighbors=6, weights=uniform;, score=0.967 total time=  44.4s\n",
            "[CV 1/4] END ....n_neighbors=8, weights=uniform;, score=0.965 total time=  47.6s\n",
            "[CV 2/4] END ....n_neighbors=8, weights=uniform;, score=0.970 total time=  43.0s\n",
            "[CV 3/4] END ....n_neighbors=8, weights=uniform;, score=0.967 total time=  44.4s\n",
            "[CV 4/4] END ....n_neighbors=8, weights=uniform;, score=0.966 total time=  44.5s\n",
            "[CV 1/4] END ...n_neighbors=10, weights=uniform;, score=0.963 total time=  44.2s\n",
            "[CV 2/4] END ...n_neighbors=10, weights=uniform;, score=0.968 total time=  44.2s\n",
            "[CV 3/4] END ...n_neighbors=10, weights=uniform;, score=0.966 total time=  46.0s\n",
            "[CV 4/4] END ...n_neighbors=10, weights=uniform;, score=0.965 total time=  44.2s\n",
            "[CV 1/4] END ...n_neighbors=12, weights=uniform;, score=0.962 total time=  43.9s\n",
            "[CV 2/4] END ...n_neighbors=12, weights=uniform;, score=0.967 total time=  42.9s\n",
            "[CV 3/4] END ...n_neighbors=12, weights=uniform;, score=0.965 total time=  50.4s\n",
            "[CV 4/4] END ...n_neighbors=12, weights=uniform;, score=0.963 total time=  44.4s\n"
          ]
        },
        {
          "output_type": "execute_result",
          "data": {
            "text/plain": [
              "GridSearchCV(cv=StratifiedKFold(n_splits=4, random_state=27, shuffle=True),\n",
              "             estimator=KNeighborsClassifier(),\n",
              "             param_grid={'n_neighbors': [6, 8, 10, 12], 'weights': ['uniform']},\n",
              "             scoring='accuracy', verbose=3)"
            ]
          },
          "metadata": {},
          "execution_count": 31
        }
      ]
    },
    {
      "cell_type": "code",
      "source": [
        "kn_clf.best_estimator_"
      ],
      "metadata": {
        "colab": {
          "base_uri": "https://localhost:8080/"
        },
        "id": "FxB8PA-bkJA0",
        "outputId": "b9d959fa-9c67-46de-fb8c-815beb3145a1"
      },
      "execution_count": null,
      "outputs": [
        {
          "output_type": "execute_result",
          "data": {
            "text/plain": [
              "KNeighborsClassifier(n_neighbors=6)"
            ]
          },
          "metadata": {},
          "execution_count": 32
        }
      ]
    },
    {
      "cell_type": "code",
      "source": [
        "pred = kn_clf.predict(X_test)\n",
        "score = accuracy_score(y_test, pred)\n",
        "score"
      ],
      "metadata": {
        "colab": {
          "base_uri": "https://localhost:8080/"
        },
        "id": "Lujzi_7ckLSp",
        "outputId": "3c438010-663b-4231-fb8c-a3e187a93e89"
      },
      "execution_count": null,
      "outputs": [
        {
          "output_type": "execute_result",
          "data": {
            "text/plain": [
              "0.9677"
            ]
          },
          "metadata": {},
          "execution_count": 33
        }
      ]
    },
    {
      "cell_type": "code",
      "source": [
        "param_grid = {\n",
        "    \"n_neighbors\":[3, 4, 5, 6],\n",
        "    \"weights\":['uniform']\n",
        "}\n",
        "kn_clf = GridSearchCV(kn_base, param_grid=param_grid, cv=skf, scoring='accuracy', verbose=3)\n",
        "kn_clf.fit(X_train, y_train)"
      ],
      "metadata": {
        "colab": {
          "base_uri": "https://localhost:8080/"
        },
        "id": "Y0ejqhMxk34K",
        "outputId": "06281cdc-9f9c-4c3b-e773-c98666342237"
      },
      "execution_count": null,
      "outputs": [
        {
          "output_type": "stream",
          "name": "stdout",
          "text": [
            "Fitting 4 folds for each of 4 candidates, totalling 16 fits\n",
            "[CV 1/4] END ....n_neighbors=3, weights=uniform;, score=0.971 total time=  41.4s\n",
            "[CV 2/4] END ....n_neighbors=3, weights=uniform;, score=0.973 total time=  43.0s\n",
            "[CV 3/4] END ....n_neighbors=3, weights=uniform;, score=0.970 total time=  40.2s\n",
            "[CV 4/4] END ....n_neighbors=3, weights=uniform;, score=0.969 total time=  39.5s\n",
            "[CV 1/4] END ....n_neighbors=4, weights=uniform;, score=0.968 total time=  44.0s\n",
            "[CV 2/4] END ....n_neighbors=4, weights=uniform;, score=0.972 total time=  44.1s\n",
            "[CV 3/4] END ....n_neighbors=4, weights=uniform;, score=0.968 total time=  44.3s\n",
            "[CV 4/4] END ....n_neighbors=4, weights=uniform;, score=0.970 total time=  46.9s\n",
            "[CV 1/4] END ....n_neighbors=5, weights=uniform;, score=0.968 total time=  44.3s\n",
            "[CV 2/4] END ....n_neighbors=5, weights=uniform;, score=0.973 total time=  44.4s\n",
            "[CV 3/4] END ....n_neighbors=5, weights=uniform;, score=0.969 total time=  44.4s\n",
            "[CV 4/4] END ....n_neighbors=5, weights=uniform;, score=0.969 total time=  44.1s\n",
            "[CV 1/4] END ....n_neighbors=6, weights=uniform;, score=0.966 total time=  43.8s\n",
            "[CV 2/4] END ....n_neighbors=6, weights=uniform;, score=0.972 total time=  42.9s\n",
            "[CV 3/4] END ....n_neighbors=6, weights=uniform;, score=0.968 total time=  47.4s\n",
            "[CV 4/4] END ....n_neighbors=6, weights=uniform;, score=0.967 total time=  44.5s\n"
          ]
        },
        {
          "output_type": "execute_result",
          "data": {
            "text/plain": [
              "GridSearchCV(cv=StratifiedKFold(n_splits=4, random_state=27, shuffle=True),\n",
              "             estimator=KNeighborsClassifier(),\n",
              "             param_grid={'n_neighbors': [3, 4, 5, 6], 'weights': ['uniform']},\n",
              "             scoring='accuracy', verbose=3)"
            ]
          },
          "metadata": {},
          "execution_count": 34
        }
      ]
    },
    {
      "cell_type": "code",
      "source": [
        "kn_clf.best_estimator_"
      ],
      "metadata": {
        "colab": {
          "base_uri": "https://localhost:8080/"
        },
        "id": "kAq9GDilodip",
        "outputId": "f60f6b66-a870-4bfe-e48c-a9e2ac6652e7"
      },
      "execution_count": null,
      "outputs": [
        {
          "output_type": "execute_result",
          "data": {
            "text/plain": [
              "KNeighborsClassifier(n_neighbors=3)"
            ]
          },
          "metadata": {},
          "execution_count": 35
        }
      ]
    },
    {
      "cell_type": "code",
      "source": [
        "pred = kn_clf.predict(X_test)\n",
        "score = accuracy_score(y_test, pred)\n",
        "score"
      ],
      "metadata": {
        "colab": {
          "base_uri": "https://localhost:8080/"
        },
        "id": "qIWIwiznof-D",
        "outputId": "f3ed1c20-1e15-4500-8dd9-66627d65792c"
      },
      "execution_count": null,
      "outputs": [
        {
          "output_type": "execute_result",
          "data": {
            "text/plain": [
              "0.9705"
            ]
          },
          "metadata": {},
          "execution_count": 36
        }
      ]
    },
    {
      "cell_type": "markdown",
      "source": [
        "# 2 MNIST 이미지 증강\n",
        "상하좌우 어느 방향으로든 한 픽셀 이동시키고, 생성된 이미지를 훈련세트에 추가하여 모델 훈련하기"
      ],
      "metadata": {
        "id": "eUNiJeHCUQ3L"
      }
    },
    {
      "cell_type": "code",
      "source": [
        "def mnist_shift(images, pos):\n",
        "    images_2d = images.reshape(-1, 28, 28)\n",
        "    x, y = pos\n",
        "    x_l, x_r, y_l, y_r = None, None, None, None\n",
        "    if x > 0: \n",
        "        x_r = -x \n",
        "    else: x_l = -x\n",
        "    if y > 0:\n",
        "        y_r = -y\n",
        "    else: y_l = -y\n",
        "    pad_width = ((0, 0), (max(x, 0), np.abs(min(x, 0))), ((max(y, 0)), np.abs(min(y, 0))))\n",
        "    shifted_images = np.pad(images_2d[:, x_l:x_r, y_l:y_r], pad_width=pad_width, mode=\"constant\", constant_values=[0])\n",
        "    return shifted_images.reshape(-1, 784)"
      ],
      "metadata": {
        "id": "EqcR8o_9UhPh"
      },
      "execution_count": null,
      "outputs": []
    },
    {
      "cell_type": "code",
      "source": [
        "shift_1 = mnist_shift(X_train, (1, 0))\n",
        "shift_2 = mnist_shift(X_train, (-1, 0))\n",
        "shift_3 = mnist_shift(X_train, (0, 1))\n",
        "shift_4 = mnist_shift(X_train, (0, -1))"
      ],
      "metadata": {
        "id": "_fOE4RLJookk"
      },
      "execution_count": null,
      "outputs": []
    },
    {
      "cell_type": "code",
      "source": [
        "X_train_ag = np.concatenate((X_train, shift_1, shift_2, shift_3, shift_4))"
      ],
      "metadata": {
        "id": "Pf3AcxdUo2Eo"
      },
      "execution_count": null,
      "outputs": []
    },
    {
      "cell_type": "code",
      "source": [
        "X_train_ag.shape"
      ],
      "metadata": {
        "colab": {
          "base_uri": "https://localhost:8080/"
        },
        "id": "RsnpEK1ppJmj",
        "outputId": "9c80311a-5acb-434e-e896-e2d79d3186e3"
      },
      "execution_count": null,
      "outputs": [
        {
          "output_type": "execute_result",
          "data": {
            "text/plain": [
              "(300000, 784)"
            ]
          },
          "metadata": {},
          "execution_count": 40
        }
      ]
    },
    {
      "cell_type": "code",
      "source": [
        "y_train_ag = np.concatenate((y_train, y_train, y_train, y_train, y_train))"
      ],
      "metadata": {
        "id": "LtQc1eZ1pKoD"
      },
      "execution_count": null,
      "outputs": []
    },
    {
      "cell_type": "code",
      "source": [
        "y_train_ag.shape"
      ],
      "metadata": {
        "colab": {
          "base_uri": "https://localhost:8080/"
        },
        "id": "pzS9q42RpOjv",
        "outputId": "53362fe8-f2d3-4c09-d766-d2e875de490e"
      },
      "execution_count": null,
      "outputs": [
        {
          "output_type": "execute_result",
          "data": {
            "text/plain": [
              "(300000,)"
            ]
          },
          "metadata": {},
          "execution_count": 44
        }
      ]
    },
    {
      "cell_type": "code",
      "source": [
        "kn_clf.best_estimator_.fit(X_train_ag, y_train_ag)"
      ],
      "metadata": {
        "colab": {
          "base_uri": "https://localhost:8080/"
        },
        "id": "WNevLheZpaEu",
        "outputId": "1dc72d2c-d4fe-47ea-9d38-9aa6c47dac49"
      },
      "execution_count": null,
      "outputs": [
        {
          "output_type": "execute_result",
          "data": {
            "text/plain": [
              "KNeighborsClassifier(n_neighbors=3)"
            ]
          },
          "metadata": {},
          "execution_count": 49
        }
      ]
    },
    {
      "cell_type": "code",
      "source": [
        "pred = kn_clf.predict(X_test)\n",
        "score = accuracy_score(y_test, pred)\n",
        "score"
      ],
      "metadata": {
        "colab": {
          "base_uri": "https://localhost:8080/"
        },
        "id": "Th-VeXJqpgjM",
        "outputId": "d21b3287-2311-4c85-ad89-a03c4e895b45"
      },
      "execution_count": null,
      "outputs": [
        {
          "output_type": "execute_result",
          "data": {
            "text/plain": [
              "0.9756"
            ]
          },
          "metadata": {},
          "execution_count": 50
        }
      ]
    },
    {
      "cell_type": "code",
      "source": [
        "gc.collect()"
      ],
      "metadata": {
        "colab": {
          "base_uri": "https://localhost:8080/"
        },
        "id": "1wa0AeWbsGX3",
        "outputId": "ca464dbd-35ad-4b58-b845-b7b283d5ea8a"
      },
      "execution_count": null,
      "outputs": [
        {
          "output_type": "execute_result",
          "data": {
            "text/plain": [
              "938"
            ]
          },
          "metadata": {},
          "execution_count": 59
        }
      ]
    },
    {
      "cell_type": "markdown",
      "source": [
        "# 3 Titanic"
      ],
      "metadata": {
        "id": "NnLDmtA9p5wD"
      }
    },
    {
      "cell_type": "markdown",
      "source": [
        "### 데이터셋 다운로드"
      ],
      "metadata": {
        "id": "SfDEdRLMrpxQ"
      }
    },
    {
      "cell_type": "code",
      "source": [
        "titanic_train = pd.read_csv(\"/content/titanic/train.csv\")\n",
        "titanic_test = pd.read_csv(\"/content/titanic/test.csv\")\n",
        "titanic_submission = pd.read_csv(\"/content/titanic/gender_submission.csv\")"
      ],
      "metadata": {
        "id": "-QBnFGzVrNau"
      },
      "execution_count": 382,
      "outputs": []
    },
    {
      "cell_type": "code",
      "source": [
        "titanic_train.info()"
      ],
      "metadata": {
        "colab": {
          "base_uri": "https://localhost:8080/"
        },
        "id": "6MOeZI9jrZS_",
        "outputId": "5b5b01c4-1e8c-49a5-857e-eb15c3402e59"
      },
      "execution_count": 340,
      "outputs": [
        {
          "output_type": "stream",
          "name": "stdout",
          "text": [
            "<class 'pandas.core.frame.DataFrame'>\n",
            "RangeIndex: 891 entries, 0 to 890\n",
            "Data columns (total 12 columns):\n",
            " #   Column       Non-Null Count  Dtype  \n",
            "---  ------       --------------  -----  \n",
            " 0   PassengerId  891 non-null    int64  \n",
            " 1   Survived     891 non-null    int64  \n",
            " 2   Pclass       891 non-null    int64  \n",
            " 3   Name         891 non-null    object \n",
            " 4   Sex          891 non-null    object \n",
            " 5   Age          714 non-null    float64\n",
            " 6   SibSp        891 non-null    int64  \n",
            " 7   Parch        891 non-null    int64  \n",
            " 8   Ticket       891 non-null    object \n",
            " 9   Fare         891 non-null    float64\n",
            " 10  Cabin        204 non-null    object \n",
            " 11  Embarked     889 non-null    object \n",
            "dtypes: float64(2), int64(5), object(5)\n",
            "memory usage: 83.7+ KB\n"
          ]
        }
      ]
    },
    {
      "cell_type": "code",
      "source": [
        "titanic_test.info()"
      ],
      "metadata": {
        "colab": {
          "base_uri": "https://localhost:8080/"
        },
        "id": "upnA3NscreS9",
        "outputId": "bef0fed3-7db3-477f-c76d-e0848da20b2a"
      },
      "execution_count": 341,
      "outputs": [
        {
          "output_type": "stream",
          "name": "stdout",
          "text": [
            "<class 'pandas.core.frame.DataFrame'>\n",
            "RangeIndex: 418 entries, 0 to 417\n",
            "Data columns (total 11 columns):\n",
            " #   Column       Non-Null Count  Dtype  \n",
            "---  ------       --------------  -----  \n",
            " 0   PassengerId  418 non-null    int64  \n",
            " 1   Pclass       418 non-null    int64  \n",
            " 2   Name         418 non-null    object \n",
            " 3   Sex          418 non-null    object \n",
            " 4   Age          332 non-null    float64\n",
            " 5   SibSp        418 non-null    int64  \n",
            " 6   Parch        418 non-null    int64  \n",
            " 7   Ticket       418 non-null    object \n",
            " 8   Fare         417 non-null    float64\n",
            " 9   Cabin        91 non-null     object \n",
            " 10  Embarked     418 non-null    object \n",
            "dtypes: float64(2), int64(4), object(5)\n",
            "memory usage: 36.0+ KB\n"
          ]
        }
      ]
    },
    {
      "cell_type": "code",
      "source": [
        "titanic_train.head()"
      ],
      "metadata": {
        "colab": {
          "base_uri": "https://localhost:8080/",
          "height": 206
        },
        "id": "-W-_jY2Urm_y",
        "outputId": "a9222fed-1d1d-4a0b-c568-9604b5459452"
      },
      "execution_count": 342,
      "outputs": [
        {
          "output_type": "execute_result",
          "data": {
            "text/plain": [
              "   PassengerId  Survived  Pclass  \\\n",
              "0            1         0       3   \n",
              "1            2         1       1   \n",
              "2            3         1       3   \n",
              "3            4         1       1   \n",
              "4            5         0       3   \n",
              "\n",
              "                                                Name     Sex   Age  SibSp  \\\n",
              "0                            Braund, Mr. Owen Harris    male  22.0      1   \n",
              "1  Cumings, Mrs. John Bradley (Florence Briggs Th...  female  38.0      1   \n",
              "2                             Heikkinen, Miss. Laina  female  26.0      0   \n",
              "3       Futrelle, Mrs. Jacques Heath (Lily May Peel)  female  35.0      1   \n",
              "4                           Allen, Mr. William Henry    male  35.0      0   \n",
              "\n",
              "   Parch            Ticket     Fare Cabin Embarked  \n",
              "0      0         A/5 21171   7.2500   NaN        S  \n",
              "1      0          PC 17599  71.2833   C85        C  \n",
              "2      0  STON/O2. 3101282   7.9250   NaN        S  \n",
              "3      0            113803  53.1000  C123        S  \n",
              "4      0            373450   8.0500   NaN        S  "
            ],
            "text/html": [
              "\n",
              "  <div id=\"df-ac173ce8-5c6a-44cc-b73b-1052a904d531\">\n",
              "    <div class=\"colab-df-container\">\n",
              "      <div>\n",
              "<style scoped>\n",
              "    .dataframe tbody tr th:only-of-type {\n",
              "        vertical-align: middle;\n",
              "    }\n",
              "\n",
              "    .dataframe tbody tr th {\n",
              "        vertical-align: top;\n",
              "    }\n",
              "\n",
              "    .dataframe thead th {\n",
              "        text-align: right;\n",
              "    }\n",
              "</style>\n",
              "<table border=\"1\" class=\"dataframe\">\n",
              "  <thead>\n",
              "    <tr style=\"text-align: right;\">\n",
              "      <th></th>\n",
              "      <th>PassengerId</th>\n",
              "      <th>Survived</th>\n",
              "      <th>Pclass</th>\n",
              "      <th>Name</th>\n",
              "      <th>Sex</th>\n",
              "      <th>Age</th>\n",
              "      <th>SibSp</th>\n",
              "      <th>Parch</th>\n",
              "      <th>Ticket</th>\n",
              "      <th>Fare</th>\n",
              "      <th>Cabin</th>\n",
              "      <th>Embarked</th>\n",
              "    </tr>\n",
              "  </thead>\n",
              "  <tbody>\n",
              "    <tr>\n",
              "      <th>0</th>\n",
              "      <td>1</td>\n",
              "      <td>0</td>\n",
              "      <td>3</td>\n",
              "      <td>Braund, Mr. Owen Harris</td>\n",
              "      <td>male</td>\n",
              "      <td>22.0</td>\n",
              "      <td>1</td>\n",
              "      <td>0</td>\n",
              "      <td>A/5 21171</td>\n",
              "      <td>7.2500</td>\n",
              "      <td>NaN</td>\n",
              "      <td>S</td>\n",
              "    </tr>\n",
              "    <tr>\n",
              "      <th>1</th>\n",
              "      <td>2</td>\n",
              "      <td>1</td>\n",
              "      <td>1</td>\n",
              "      <td>Cumings, Mrs. John Bradley (Florence Briggs Th...</td>\n",
              "      <td>female</td>\n",
              "      <td>38.0</td>\n",
              "      <td>1</td>\n",
              "      <td>0</td>\n",
              "      <td>PC 17599</td>\n",
              "      <td>71.2833</td>\n",
              "      <td>C85</td>\n",
              "      <td>C</td>\n",
              "    </tr>\n",
              "    <tr>\n",
              "      <th>2</th>\n",
              "      <td>3</td>\n",
              "      <td>1</td>\n",
              "      <td>3</td>\n",
              "      <td>Heikkinen, Miss. Laina</td>\n",
              "      <td>female</td>\n",
              "      <td>26.0</td>\n",
              "      <td>0</td>\n",
              "      <td>0</td>\n",
              "      <td>STON/O2. 3101282</td>\n",
              "      <td>7.9250</td>\n",
              "      <td>NaN</td>\n",
              "      <td>S</td>\n",
              "    </tr>\n",
              "    <tr>\n",
              "      <th>3</th>\n",
              "      <td>4</td>\n",
              "      <td>1</td>\n",
              "      <td>1</td>\n",
              "      <td>Futrelle, Mrs. Jacques Heath (Lily May Peel)</td>\n",
              "      <td>female</td>\n",
              "      <td>35.0</td>\n",
              "      <td>1</td>\n",
              "      <td>0</td>\n",
              "      <td>113803</td>\n",
              "      <td>53.1000</td>\n",
              "      <td>C123</td>\n",
              "      <td>S</td>\n",
              "    </tr>\n",
              "    <tr>\n",
              "      <th>4</th>\n",
              "      <td>5</td>\n",
              "      <td>0</td>\n",
              "      <td>3</td>\n",
              "      <td>Allen, Mr. William Henry</td>\n",
              "      <td>male</td>\n",
              "      <td>35.0</td>\n",
              "      <td>0</td>\n",
              "      <td>0</td>\n",
              "      <td>373450</td>\n",
              "      <td>8.0500</td>\n",
              "      <td>NaN</td>\n",
              "      <td>S</td>\n",
              "    </tr>\n",
              "  </tbody>\n",
              "</table>\n",
              "</div>\n",
              "      <button class=\"colab-df-convert\" onclick=\"convertToInteractive('df-ac173ce8-5c6a-44cc-b73b-1052a904d531')\"\n",
              "              title=\"Convert this dataframe to an interactive table.\"\n",
              "              style=\"display:none;\">\n",
              "        \n",
              "  <svg xmlns=\"http://www.w3.org/2000/svg\" height=\"24px\"viewBox=\"0 0 24 24\"\n",
              "       width=\"24px\">\n",
              "    <path d=\"M0 0h24v24H0V0z\" fill=\"none\"/>\n",
              "    <path d=\"M18.56 5.44l.94 2.06.94-2.06 2.06-.94-2.06-.94-.94-2.06-.94 2.06-2.06.94zm-11 1L8.5 8.5l.94-2.06 2.06-.94-2.06-.94L8.5 2.5l-.94 2.06-2.06.94zm10 10l.94 2.06.94-2.06 2.06-.94-2.06-.94-.94-2.06-.94 2.06-2.06.94z\"/><path d=\"M17.41 7.96l-1.37-1.37c-.4-.4-.92-.59-1.43-.59-.52 0-1.04.2-1.43.59L10.3 9.45l-7.72 7.72c-.78.78-.78 2.05 0 2.83L4 21.41c.39.39.9.59 1.41.59.51 0 1.02-.2 1.41-.59l7.78-7.78 2.81-2.81c.8-.78.8-2.07 0-2.86zM5.41 20L4 18.59l7.72-7.72 1.47 1.35L5.41 20z\"/>\n",
              "  </svg>\n",
              "      </button>\n",
              "      \n",
              "  <style>\n",
              "    .colab-df-container {\n",
              "      display:flex;\n",
              "      flex-wrap:wrap;\n",
              "      gap: 12px;\n",
              "    }\n",
              "\n",
              "    .colab-df-convert {\n",
              "      background-color: #E8F0FE;\n",
              "      border: none;\n",
              "      border-radius: 50%;\n",
              "      cursor: pointer;\n",
              "      display: none;\n",
              "      fill: #1967D2;\n",
              "      height: 32px;\n",
              "      padding: 0 0 0 0;\n",
              "      width: 32px;\n",
              "    }\n",
              "\n",
              "    .colab-df-convert:hover {\n",
              "      background-color: #E2EBFA;\n",
              "      box-shadow: 0px 1px 2px rgba(60, 64, 67, 0.3), 0px 1px 3px 1px rgba(60, 64, 67, 0.15);\n",
              "      fill: #174EA6;\n",
              "    }\n",
              "\n",
              "    [theme=dark] .colab-df-convert {\n",
              "      background-color: #3B4455;\n",
              "      fill: #D2E3FC;\n",
              "    }\n",
              "\n",
              "    [theme=dark] .colab-df-convert:hover {\n",
              "      background-color: #434B5C;\n",
              "      box-shadow: 0px 1px 3px 1px rgba(0, 0, 0, 0.15);\n",
              "      filter: drop-shadow(0px 1px 2px rgba(0, 0, 0, 0.3));\n",
              "      fill: #FFFFFF;\n",
              "    }\n",
              "  </style>\n",
              "\n",
              "      <script>\n",
              "        const buttonEl =\n",
              "          document.querySelector('#df-ac173ce8-5c6a-44cc-b73b-1052a904d531 button.colab-df-convert');\n",
              "        buttonEl.style.display =\n",
              "          google.colab.kernel.accessAllowed ? 'block' : 'none';\n",
              "\n",
              "        async function convertToInteractive(key) {\n",
              "          const element = document.querySelector('#df-ac173ce8-5c6a-44cc-b73b-1052a904d531');\n",
              "          const dataTable =\n",
              "            await google.colab.kernel.invokeFunction('convertToInteractive',\n",
              "                                                     [key], {});\n",
              "          if (!dataTable) return;\n",
              "\n",
              "          const docLinkHtml = 'Like what you see? Visit the ' +\n",
              "            '<a target=\"_blank\" href=https://colab.research.google.com/notebooks/data_table.ipynb>data table notebook</a>'\n",
              "            + ' to learn more about interactive tables.';\n",
              "          element.innerHTML = '';\n",
              "          dataTable['output_type'] = 'display_data';\n",
              "          await google.colab.output.renderOutput(dataTable, element);\n",
              "          const docLink = document.createElement('div');\n",
              "          docLink.innerHTML = docLinkHtml;\n",
              "          element.appendChild(docLink);\n",
              "        }\n",
              "      </script>\n",
              "    </div>\n",
              "  </div>\n",
              "  "
            ]
          },
          "metadata": {},
          "execution_count": 342
        }
      ]
    },
    {
      "cell_type": "code",
      "source": [
        "titanic_train[titanic_train[\"Age\"].isnull()]"
      ],
      "metadata": {
        "colab": {
          "base_uri": "https://localhost:8080/",
          "height": 424
        },
        "id": "Ogy0u6JEs61-",
        "outputId": "ed954de6-4beb-4e90-c0e8-c4f6ae30bfeb"
      },
      "execution_count": 392,
      "outputs": [
        {
          "output_type": "execute_result",
          "data": {
            "text/plain": [
              "     PassengerId  Survived  Pclass                                      Name  \\\n",
              "5              6         0       3                          Moran, Mr. James   \n",
              "17            18         1       2              Williams, Mr. Charles Eugene   \n",
              "19            20         1       3                   Masselmani, Mrs. Fatima   \n",
              "26            27         0       3                   Emir, Mr. Farred Chehab   \n",
              "28            29         1       3             O'Dwyer, Miss. Ellen \"Nellie\"   \n",
              "..           ...       ...     ...                                       ...   \n",
              "859          860         0       3                          Razi, Mr. Raihed   \n",
              "863          864         0       3         Sage, Miss. Dorothy Edith \"Dolly\"   \n",
              "868          869         0       3               van Melkebeke, Mr. Philemon   \n",
              "878          879         0       3                        Laleff, Mr. Kristo   \n",
              "888          889         0       3  Johnston, Miss. Catherine Helen \"Carrie\"   \n",
              "\n",
              "        Sex  Age  SibSp  Parch      Ticket     Fare Cabin Embarked  \n",
              "5      male  NaN      0      0      330877   8.4583   NaN        Q  \n",
              "17     male  NaN      0      0      244373  13.0000   NaN        S  \n",
              "19   female  NaN      0      0        2649   7.2250   NaN        C  \n",
              "26     male  NaN      0      0        2631   7.2250   NaN        C  \n",
              "28   female  NaN      0      0      330959   7.8792   NaN        Q  \n",
              "..      ...  ...    ...    ...         ...      ...   ...      ...  \n",
              "859    male  NaN      0      0        2629   7.2292   NaN        C  \n",
              "863  female  NaN      8      2    CA. 2343  69.5500   NaN        S  \n",
              "868    male  NaN      0      0      345777   9.5000   NaN        S  \n",
              "878    male  NaN      0      0      349217   7.8958   NaN        S  \n",
              "888  female  NaN      1      2  W./C. 6607  23.4500   NaN        S  \n",
              "\n",
              "[177 rows x 12 columns]"
            ],
            "text/html": [
              "\n",
              "  <div id=\"df-ea057a4c-9da0-4c7c-b189-afb5d981da53\">\n",
              "    <div class=\"colab-df-container\">\n",
              "      <div>\n",
              "<style scoped>\n",
              "    .dataframe tbody tr th:only-of-type {\n",
              "        vertical-align: middle;\n",
              "    }\n",
              "\n",
              "    .dataframe tbody tr th {\n",
              "        vertical-align: top;\n",
              "    }\n",
              "\n",
              "    .dataframe thead th {\n",
              "        text-align: right;\n",
              "    }\n",
              "</style>\n",
              "<table border=\"1\" class=\"dataframe\">\n",
              "  <thead>\n",
              "    <tr style=\"text-align: right;\">\n",
              "      <th></th>\n",
              "      <th>PassengerId</th>\n",
              "      <th>Survived</th>\n",
              "      <th>Pclass</th>\n",
              "      <th>Name</th>\n",
              "      <th>Sex</th>\n",
              "      <th>Age</th>\n",
              "      <th>SibSp</th>\n",
              "      <th>Parch</th>\n",
              "      <th>Ticket</th>\n",
              "      <th>Fare</th>\n",
              "      <th>Cabin</th>\n",
              "      <th>Embarked</th>\n",
              "    </tr>\n",
              "  </thead>\n",
              "  <tbody>\n",
              "    <tr>\n",
              "      <th>5</th>\n",
              "      <td>6</td>\n",
              "      <td>0</td>\n",
              "      <td>3</td>\n",
              "      <td>Moran, Mr. James</td>\n",
              "      <td>male</td>\n",
              "      <td>NaN</td>\n",
              "      <td>0</td>\n",
              "      <td>0</td>\n",
              "      <td>330877</td>\n",
              "      <td>8.4583</td>\n",
              "      <td>NaN</td>\n",
              "      <td>Q</td>\n",
              "    </tr>\n",
              "    <tr>\n",
              "      <th>17</th>\n",
              "      <td>18</td>\n",
              "      <td>1</td>\n",
              "      <td>2</td>\n",
              "      <td>Williams, Mr. Charles Eugene</td>\n",
              "      <td>male</td>\n",
              "      <td>NaN</td>\n",
              "      <td>0</td>\n",
              "      <td>0</td>\n",
              "      <td>244373</td>\n",
              "      <td>13.0000</td>\n",
              "      <td>NaN</td>\n",
              "      <td>S</td>\n",
              "    </tr>\n",
              "    <tr>\n",
              "      <th>19</th>\n",
              "      <td>20</td>\n",
              "      <td>1</td>\n",
              "      <td>3</td>\n",
              "      <td>Masselmani, Mrs. Fatima</td>\n",
              "      <td>female</td>\n",
              "      <td>NaN</td>\n",
              "      <td>0</td>\n",
              "      <td>0</td>\n",
              "      <td>2649</td>\n",
              "      <td>7.2250</td>\n",
              "      <td>NaN</td>\n",
              "      <td>C</td>\n",
              "    </tr>\n",
              "    <tr>\n",
              "      <th>26</th>\n",
              "      <td>27</td>\n",
              "      <td>0</td>\n",
              "      <td>3</td>\n",
              "      <td>Emir, Mr. Farred Chehab</td>\n",
              "      <td>male</td>\n",
              "      <td>NaN</td>\n",
              "      <td>0</td>\n",
              "      <td>0</td>\n",
              "      <td>2631</td>\n",
              "      <td>7.2250</td>\n",
              "      <td>NaN</td>\n",
              "      <td>C</td>\n",
              "    </tr>\n",
              "    <tr>\n",
              "      <th>28</th>\n",
              "      <td>29</td>\n",
              "      <td>1</td>\n",
              "      <td>3</td>\n",
              "      <td>O'Dwyer, Miss. Ellen \"Nellie\"</td>\n",
              "      <td>female</td>\n",
              "      <td>NaN</td>\n",
              "      <td>0</td>\n",
              "      <td>0</td>\n",
              "      <td>330959</td>\n",
              "      <td>7.8792</td>\n",
              "      <td>NaN</td>\n",
              "      <td>Q</td>\n",
              "    </tr>\n",
              "    <tr>\n",
              "      <th>...</th>\n",
              "      <td>...</td>\n",
              "      <td>...</td>\n",
              "      <td>...</td>\n",
              "      <td>...</td>\n",
              "      <td>...</td>\n",
              "      <td>...</td>\n",
              "      <td>...</td>\n",
              "      <td>...</td>\n",
              "      <td>...</td>\n",
              "      <td>...</td>\n",
              "      <td>...</td>\n",
              "      <td>...</td>\n",
              "    </tr>\n",
              "    <tr>\n",
              "      <th>859</th>\n",
              "      <td>860</td>\n",
              "      <td>0</td>\n",
              "      <td>3</td>\n",
              "      <td>Razi, Mr. Raihed</td>\n",
              "      <td>male</td>\n",
              "      <td>NaN</td>\n",
              "      <td>0</td>\n",
              "      <td>0</td>\n",
              "      <td>2629</td>\n",
              "      <td>7.2292</td>\n",
              "      <td>NaN</td>\n",
              "      <td>C</td>\n",
              "    </tr>\n",
              "    <tr>\n",
              "      <th>863</th>\n",
              "      <td>864</td>\n",
              "      <td>0</td>\n",
              "      <td>3</td>\n",
              "      <td>Sage, Miss. Dorothy Edith \"Dolly\"</td>\n",
              "      <td>female</td>\n",
              "      <td>NaN</td>\n",
              "      <td>8</td>\n",
              "      <td>2</td>\n",
              "      <td>CA. 2343</td>\n",
              "      <td>69.5500</td>\n",
              "      <td>NaN</td>\n",
              "      <td>S</td>\n",
              "    </tr>\n",
              "    <tr>\n",
              "      <th>868</th>\n",
              "      <td>869</td>\n",
              "      <td>0</td>\n",
              "      <td>3</td>\n",
              "      <td>van Melkebeke, Mr. Philemon</td>\n",
              "      <td>male</td>\n",
              "      <td>NaN</td>\n",
              "      <td>0</td>\n",
              "      <td>0</td>\n",
              "      <td>345777</td>\n",
              "      <td>9.5000</td>\n",
              "      <td>NaN</td>\n",
              "      <td>S</td>\n",
              "    </tr>\n",
              "    <tr>\n",
              "      <th>878</th>\n",
              "      <td>879</td>\n",
              "      <td>0</td>\n",
              "      <td>3</td>\n",
              "      <td>Laleff, Mr. Kristo</td>\n",
              "      <td>male</td>\n",
              "      <td>NaN</td>\n",
              "      <td>0</td>\n",
              "      <td>0</td>\n",
              "      <td>349217</td>\n",
              "      <td>7.8958</td>\n",
              "      <td>NaN</td>\n",
              "      <td>S</td>\n",
              "    </tr>\n",
              "    <tr>\n",
              "      <th>888</th>\n",
              "      <td>889</td>\n",
              "      <td>0</td>\n",
              "      <td>3</td>\n",
              "      <td>Johnston, Miss. Catherine Helen \"Carrie\"</td>\n",
              "      <td>female</td>\n",
              "      <td>NaN</td>\n",
              "      <td>1</td>\n",
              "      <td>2</td>\n",
              "      <td>W./C. 6607</td>\n",
              "      <td>23.4500</td>\n",
              "      <td>NaN</td>\n",
              "      <td>S</td>\n",
              "    </tr>\n",
              "  </tbody>\n",
              "</table>\n",
              "<p>177 rows × 12 columns</p>\n",
              "</div>\n",
              "      <button class=\"colab-df-convert\" onclick=\"convertToInteractive('df-ea057a4c-9da0-4c7c-b189-afb5d981da53')\"\n",
              "              title=\"Convert this dataframe to an interactive table.\"\n",
              "              style=\"display:none;\">\n",
              "        \n",
              "  <svg xmlns=\"http://www.w3.org/2000/svg\" height=\"24px\"viewBox=\"0 0 24 24\"\n",
              "       width=\"24px\">\n",
              "    <path d=\"M0 0h24v24H0V0z\" fill=\"none\"/>\n",
              "    <path d=\"M18.56 5.44l.94 2.06.94-2.06 2.06-.94-2.06-.94-.94-2.06-.94 2.06-2.06.94zm-11 1L8.5 8.5l.94-2.06 2.06-.94-2.06-.94L8.5 2.5l-.94 2.06-2.06.94zm10 10l.94 2.06.94-2.06 2.06-.94-2.06-.94-.94-2.06-.94 2.06-2.06.94z\"/><path d=\"M17.41 7.96l-1.37-1.37c-.4-.4-.92-.59-1.43-.59-.52 0-1.04.2-1.43.59L10.3 9.45l-7.72 7.72c-.78.78-.78 2.05 0 2.83L4 21.41c.39.39.9.59 1.41.59.51 0 1.02-.2 1.41-.59l7.78-7.78 2.81-2.81c.8-.78.8-2.07 0-2.86zM5.41 20L4 18.59l7.72-7.72 1.47 1.35L5.41 20z\"/>\n",
              "  </svg>\n",
              "      </button>\n",
              "      \n",
              "  <style>\n",
              "    .colab-df-container {\n",
              "      display:flex;\n",
              "      flex-wrap:wrap;\n",
              "      gap: 12px;\n",
              "    }\n",
              "\n",
              "    .colab-df-convert {\n",
              "      background-color: #E8F0FE;\n",
              "      border: none;\n",
              "      border-radius: 50%;\n",
              "      cursor: pointer;\n",
              "      display: none;\n",
              "      fill: #1967D2;\n",
              "      height: 32px;\n",
              "      padding: 0 0 0 0;\n",
              "      width: 32px;\n",
              "    }\n",
              "\n",
              "    .colab-df-convert:hover {\n",
              "      background-color: #E2EBFA;\n",
              "      box-shadow: 0px 1px 2px rgba(60, 64, 67, 0.3), 0px 1px 3px 1px rgba(60, 64, 67, 0.15);\n",
              "      fill: #174EA6;\n",
              "    }\n",
              "\n",
              "    [theme=dark] .colab-df-convert {\n",
              "      background-color: #3B4455;\n",
              "      fill: #D2E3FC;\n",
              "    }\n",
              "\n",
              "    [theme=dark] .colab-df-convert:hover {\n",
              "      background-color: #434B5C;\n",
              "      box-shadow: 0px 1px 3px 1px rgba(0, 0, 0, 0.15);\n",
              "      filter: drop-shadow(0px 1px 2px rgba(0, 0, 0, 0.3));\n",
              "      fill: #FFFFFF;\n",
              "    }\n",
              "  </style>\n",
              "\n",
              "      <script>\n",
              "        const buttonEl =\n",
              "          document.querySelector('#df-ea057a4c-9da0-4c7c-b189-afb5d981da53 button.colab-df-convert');\n",
              "        buttonEl.style.display =\n",
              "          google.colab.kernel.accessAllowed ? 'block' : 'none';\n",
              "\n",
              "        async function convertToInteractive(key) {\n",
              "          const element = document.querySelector('#df-ea057a4c-9da0-4c7c-b189-afb5d981da53');\n",
              "          const dataTable =\n",
              "            await google.colab.kernel.invokeFunction('convertToInteractive',\n",
              "                                                     [key], {});\n",
              "          if (!dataTable) return;\n",
              "\n",
              "          const docLinkHtml = 'Like what you see? Visit the ' +\n",
              "            '<a target=\"_blank\" href=https://colab.research.google.com/notebooks/data_table.ipynb>data table notebook</a>'\n",
              "            + ' to learn more about interactive tables.';\n",
              "          element.innerHTML = '';\n",
              "          dataTable['output_type'] = 'display_data';\n",
              "          await google.colab.output.renderOutput(dataTable, element);\n",
              "          const docLink = document.createElement('div');\n",
              "          docLink.innerHTML = docLinkHtml;\n",
              "          element.appendChild(docLink);\n",
              "        }\n",
              "      </script>\n",
              "    </div>\n",
              "  </div>\n",
              "  "
            ]
          },
          "metadata": {},
          "execution_count": 392
        }
      ]
    },
    {
      "cell_type": "code",
      "source": [
        "fig, axes = plt.subplots(nrows=1, ncols=3, figsize=(14, 4), sharey=True)\n",
        "sns.countplot(data=titanic_train, x=\"Pclass\", hue=\"Survived\", palette=\"Set1_r\", ax=axes[0])\n",
        "sns.countplot(data=titanic_train, x=\"Sex\", hue=\"Survived\", palette=\"Set1_r\", ax=axes[1])\n",
        "sns.countplot(data=titanic_train, x=\"Embarked\", hue=\"Survived\", palette=\"Set1_r\", ax=axes[2])\n",
        "axes[1].set_ylabel(\"\")\n",
        "axes[2].set_ylabel(\"\")\n",
        "plt.show()"
      ],
      "metadata": {
        "colab": {
          "base_uri": "https://localhost:8080/",
          "height": 279
        },
        "id": "z-vu8RFntO2r",
        "outputId": "5e433485-d09c-4ae8-cbef-da94ba86c78e"
      },
      "execution_count": 393,
      "outputs": [
        {
          "output_type": "display_data",
          "data": {
            "text/plain": [
              "<Figure size 1008x288 with 3 Axes>"
            ],
            "image/png": "[encoded data removed]"
          },
          "metadata": {
            "needs_background": "light"
          }
        }
      ]
    },
    {
      "cell_type": "markdown",
      "source": [
        "### Feature Engineering"
      ],
      "metadata": {
        "id": "YoEFT4EFxeVc"
      }
    },
    {
      "cell_type": "code",
      "source": [
        "titanic_train[\"Initial\"] = titanic_train[\"Name\"].str.extract('([A-Za-z+]+)\\.')"
      ],
      "metadata": {
        "id": "T4cl1nL4uDEg"
      },
      "execution_count": 394,
      "outputs": []
    },
    {
      "cell_type": "code",
      "source": [
        "pd.crosstab(titanic_train[\"Initial\"], titanic_train[\"Sex\"])"
      ],
      "metadata": {
        "colab": {
          "base_uri": "https://localhost:8080/",
          "height": 614
        },
        "id": "_cRRDLMeuvlA",
        "outputId": "734d632f-23d5-4703-b186-48e0d30faffe"
      },
      "execution_count": 395,
      "outputs": [
        {
          "output_type": "execute_result",
          "data": {
            "text/plain": [
              "Sex       female  male\n",
              "Initial               \n",
              "Capt           0     1\n",
              "Col            0     2\n",
              "Countess       1     0\n",
              "Don            0     1\n",
              "Dr             1     6\n",
              "Jonkheer       0     1\n",
              "Lady           1     0\n",
              "Major          0     2\n",
              "Master         0    40\n",
              "Miss         182     0\n",
              "Mlle           2     0\n",
              "Mme            1     0\n",
              "Mr             0   517\n",
              "Mrs          125     0\n",
              "Ms             1     0\n",
              "Rev            0     6\n",
              "Sir            0     1"
            ],
            "text/html": [
              "\n",
              "  <div id=\"df-3f88efb2-3a4a-4ba0-82e7-1e0ded147ddd\">\n",
              "    <div class=\"colab-df-container\">\n",
              "      <div>\n",
              "<style scoped>\n",
              "    .dataframe tbody tr th:only-of-type {\n",
              "        vertical-align: middle;\n",
              "    }\n",
              "\n",
              "    .dataframe tbody tr th {\n",
              "        vertical-align: top;\n",
              "    }\n",
              "\n",
              "    .dataframe thead th {\n",
              "        text-align: right;\n",
              "    }\n",
              "</style>\n",
              "<table border=\"1\" class=\"dataframe\">\n",
              "  <thead>\n",
              "    <tr style=\"text-align: right;\">\n",
              "      <th>Sex</th>\n",
              "      <th>female</th>\n",
              "      <th>male</th>\n",
              "    </tr>\n",
              "    <tr>\n",
              "      <th>Initial</th>\n",
              "      <th></th>\n",
              "      <th></th>\n",
              "    </tr>\n",
              "  </thead>\n",
              "  <tbody>\n",
              "    <tr>\n",
              "      <th>Capt</th>\n",
              "      <td>0</td>\n",
              "      <td>1</td>\n",
              "    </tr>\n",
              "    <tr>\n",
              "      <th>Col</th>\n",
              "      <td>0</td>\n",
              "      <td>2</td>\n",
              "    </tr>\n",
              "    <tr>\n",
              "      <th>Countess</th>\n",
              "      <td>1</td>\n",
              "      <td>0</td>\n",
              "    </tr>\n",
              "    <tr>\n",
              "      <th>Don</th>\n",
              "      <td>0</td>\n",
              "      <td>1</td>\n",
              "    </tr>\n",
              "    <tr>\n",
              "      <th>Dr</th>\n",
              "      <td>1</td>\n",
              "      <td>6</td>\n",
              "    </tr>\n",
              "    <tr>\n",
              "      <th>Jonkheer</th>\n",
              "      <td>0</td>\n",
              "      <td>1</td>\n",
              "    </tr>\n",
              "    <tr>\n",
              "      <th>Lady</th>\n",
              "      <td>1</td>\n",
              "      <td>0</td>\n",
              "    </tr>\n",
              "    <tr>\n",
              "      <th>Major</th>\n",
              "      <td>0</td>\n",
              "      <td>2</td>\n",
              "    </tr>\n",
              "    <tr>\n",
              "      <th>Master</th>\n",
              "      <td>0</td>\n",
              "      <td>40</td>\n",
              "    </tr>\n",
              "    <tr>\n",
              "      <th>Miss</th>\n",
              "      <td>182</td>\n",
              "      <td>0</td>\n",
              "    </tr>\n",
              "    <tr>\n",
              "      <th>Mlle</th>\n",
              "      <td>2</td>\n",
              "      <td>0</td>\n",
              "    </tr>\n",
              "    <tr>\n",
              "      <th>Mme</th>\n",
              "      <td>1</td>\n",
              "      <td>0</td>\n",
              "    </tr>\n",
              "    <tr>\n",
              "      <th>Mr</th>\n",
              "      <td>0</td>\n",
              "      <td>517</td>\n",
              "    </tr>\n",
              "    <tr>\n",
              "      <th>Mrs</th>\n",
              "      <td>125</td>\n",
              "      <td>0</td>\n",
              "    </tr>\n",
              "    <tr>\n",
              "      <th>Ms</th>\n",
              "      <td>1</td>\n",
              "      <td>0</td>\n",
              "    </tr>\n",
              "    <tr>\n",
              "      <th>Rev</th>\n",
              "      <td>0</td>\n",
              "      <td>6</td>\n",
              "    </tr>\n",
              "    <tr>\n",
              "      <th>Sir</th>\n",
              "      <td>0</td>\n",
              "      <td>1</td>\n",
              "    </tr>\n",
              "  </tbody>\n",
              "</table>\n",
              "</div>\n",
              "      <button class=\"colab-df-convert\" onclick=\"convertToInteractive('df-3f88efb2-3a4a-4ba0-82e7-1e0ded147ddd')\"\n",
              "              title=\"Convert this dataframe to an interactive table.\"\n",
              "              style=\"display:none;\">\n",
              "        \n",
              "  <svg xmlns=\"http://www.w3.org/2000/svg\" height=\"24px\"viewBox=\"0 0 24 24\"\n",
              "       width=\"24px\">\n",
              "    <path d=\"M0 0h24v24H0V0z\" fill=\"none\"/>\n",
              "    <path d=\"M18.56 5.44l.94 2.06.94-2.06 2.06-.94-2.06-.94-.94-2.06-.94 2.06-2.06.94zm-11 1L8.5 8.5l.94-2.06 2.06-.94-2.06-.94L8.5 2.5l-.94 2.06-2.06.94zm10 10l.94 2.06.94-2.06 2.06-.94-2.06-.94-.94-2.06-.94 2.06-2.06.94z\"/><path d=\"M17.41 7.96l-1.37-1.37c-.4-.4-.92-.59-1.43-.59-.52 0-1.04.2-1.43.59L10.3 9.45l-7.72 7.72c-.78.78-.78 2.05 0 2.83L4 21.41c.39.39.9.59 1.41.59.51 0 1.02-.2 1.41-.59l7.78-7.78 2.81-2.81c.8-.78.8-2.07 0-2.86zM5.41 20L4 18.59l7.72-7.72 1.47 1.35L5.41 20z\"/>\n",
              "  </svg>\n",
              "      </button>\n",
              "      \n",
              "  <style>\n",
              "    .colab-df-container {\n",
              "      display:flex;\n",
              "      flex-wrap:wrap;\n",
              "      gap: 12px;\n",
              "    }\n",
              "\n",
              "    .colab-df-convert {\n",
              "      background-color: #E8F0FE;\n",
              "      border: none;\n",
              "      border-radius: 50%;\n",
              "      cursor: pointer;\n",
              "      display: none;\n",
              "      fill: #1967D2;\n",
              "      height: 32px;\n",
              "      padding: 0 0 0 0;\n",
              "      width: 32px;\n",
              "    }\n",
              "\n",
              "    .colab-df-convert:hover {\n",
              "      background-color: #E2EBFA;\n",
              "      box-shadow: 0px 1px 2px rgba(60, 64, 67, 0.3), 0px 1px 3px 1px rgba(60, 64, 67, 0.15);\n",
              "      fill: #174EA6;\n",
              "    }\n",
              "\n",
              "    [theme=dark] .colab-df-convert {\n",
              "      background-color: #3B4455;\n",
              "      fill: #D2E3FC;\n",
              "    }\n",
              "\n",
              "    [theme=dark] .colab-df-convert:hover {\n",
              "      background-color: #434B5C;\n",
              "      box-shadow: 0px 1px 3px 1px rgba(0, 0, 0, 0.15);\n",
              "      filter: drop-shadow(0px 1px 2px rgba(0, 0, 0, 0.3));\n",
              "      fill: #FFFFFF;\n",
              "    }\n",
              "  </style>\n",
              "\n",
              "      <script>\n",
              "        const buttonEl =\n",
              "          document.querySelector('#df-3f88efb2-3a4a-4ba0-82e7-1e0ded147ddd button.colab-df-convert');\n",
              "        buttonEl.style.display =\n",
              "          google.colab.kernel.accessAllowed ? 'block' : 'none';\n",
              "\n",
              "        async function convertToInteractive(key) {\n",
              "          const element = document.querySelector('#df-3f88efb2-3a4a-4ba0-82e7-1e0ded147ddd');\n",
              "          const dataTable =\n",
              "            await google.colab.kernel.invokeFunction('convertToInteractive',\n",
              "                                                     [key], {});\n",
              "          if (!dataTable) return;\n",
              "\n",
              "          const docLinkHtml = 'Like what you see? Visit the ' +\n",
              "            '<a target=\"_blank\" href=https://colab.research.google.com/notebooks/data_table.ipynb>data table notebook</a>'\n",
              "            + ' to learn more about interactive tables.';\n",
              "          element.innerHTML = '';\n",
              "          dataTable['output_type'] = 'display_data';\n",
              "          await google.colab.output.renderOutput(dataTable, element);\n",
              "          const docLink = document.createElement('div');\n",
              "          docLink.innerHTML = docLinkHtml;\n",
              "          element.appendChild(docLink);\n",
              "        }\n",
              "      </script>\n",
              "    </div>\n",
              "  </div>\n",
              "  "
            ]
          },
          "metadata": {},
          "execution_count": 395
        }
      ]
    },
    {
      "cell_type": "code",
      "source": [
        "titanic_train.pivot_table(index=[\"Initial\"], values=[\"Age\", \"Survived\"], aggfunc=\"mean\")"
      ],
      "metadata": {
        "colab": {
          "base_uri": "https://localhost:8080/",
          "height": 614
        },
        "id": "B5oqi8s5u8zp",
        "outputId": "f5fc8571-ec55-45fd-8cb8-821d2957038d"
      },
      "execution_count": 396,
      "outputs": [
        {
          "output_type": "execute_result",
          "data": {
            "text/plain": [
              "                Age  Survived\n",
              "Initial                      \n",
              "Capt      70.000000  0.000000\n",
              "Col       58.000000  0.500000\n",
              "Countess  33.000000  1.000000\n",
              "Don       40.000000  0.000000\n",
              "Dr        42.000000  0.428571\n",
              "Jonkheer  38.000000  0.000000\n",
              "Lady      48.000000  1.000000\n",
              "Major     48.500000  0.500000\n",
              "Master     4.574167  0.575000\n",
              "Miss      21.773973  0.697802\n",
              "Mlle      24.000000  1.000000\n",
              "Mme       24.000000  1.000000\n",
              "Mr        32.368090  0.156673\n",
              "Mrs       35.898148  0.792000\n",
              "Ms        28.000000  1.000000\n",
              "Rev       43.166667  0.000000\n",
              "Sir       49.000000  1.000000"
            ],
            "text/html": [
              "\n",
              "  <div id=\"df-76525f3a-dc05-417d-bf29-194395ee5f82\">\n",
              "    <div class=\"colab-df-container\">\n",
              "      <div>\n",
              "<style scoped>\n",
              "    .dataframe tbody tr th:only-of-type {\n",
              "        vertical-align: middle;\n",
              "    }\n",
              "\n",
              "    .dataframe tbody tr th {\n",
              "        vertical-align: top;\n",
              "    }\n",
              "\n",
              "    .dataframe thead th {\n",
              "        text-align: right;\n",
              "    }\n",
              "</style>\n",
              "<table border=\"1\" class=\"dataframe\">\n",
              "  <thead>\n",
              "    <tr style=\"text-align: right;\">\n",
              "      <th></th>\n",
              "      <th>Age</th>\n",
              "      <th>Survived</th>\n",
              "    </tr>\n",
              "    <tr>\n",
              "      <th>Initial</th>\n",
              "      <th></th>\n",
              "      <th></th>\n",
              "    </tr>\n",
              "  </thead>\n",
              "  <tbody>\n",
              "    <tr>\n",
              "      <th>Capt</th>\n",
              "      <td>70.000000</td>\n",
              "      <td>0.000000</td>\n",
              "    </tr>\n",
              "    <tr>\n",
              "      <th>Col</th>\n",
              "      <td>58.000000</td>\n",
              "      <td>0.500000</td>\n",
              "    </tr>\n",
              "    <tr>\n",
              "      <th>Countess</th>\n",
              "      <td>33.000000</td>\n",
              "      <td>1.000000</td>\n",
              "    </tr>\n",
              "    <tr>\n",
              "      <th>Don</th>\n",
              "      <td>40.000000</td>\n",
              "      <td>0.000000</td>\n",
              "    </tr>\n",
              "    <tr>\n",
              "      <th>Dr</th>\n",
              "      <td>42.000000</td>\n",
              "      <td>0.428571</td>\n",
              "    </tr>\n",
              "    <tr>\n",
              "      <th>Jonkheer</th>\n",
              "      <td>38.000000</td>\n",
              "      <td>0.000000</td>\n",
              "    </tr>\n",
              "    <tr>\n",
              "      <th>Lady</th>\n",
              "      <td>48.000000</td>\n",
              "      <td>1.000000</td>\n",
              "    </tr>\n",
              "    <tr>\n",
              "      <th>Major</th>\n",
              "      <td>48.500000</td>\n",
              "      <td>0.500000</td>\n",
              "    </tr>\n",
              "    <tr>\n",
              "      <th>Master</th>\n",
              "      <td>4.574167</td>\n",
              "      <td>0.575000</td>\n",
              "    </tr>\n",
              "    <tr>\n",
              "      <th>Miss</th>\n",
              "      <td>21.773973</td>\n",
              "      <td>0.697802</td>\n",
              "    </tr>\n",
              "    <tr>\n",
              "      <th>Mlle</th>\n",
              "      <td>24.000000</td>\n",
              "      <td>1.000000</td>\n",
              "    </tr>\n",
              "    <tr>\n",
              "      <th>Mme</th>\n",
              "      <td>24.000000</td>\n",
              "      <td>1.000000</td>\n",
              "    </tr>\n",
              "    <tr>\n",
              "      <th>Mr</th>\n",
              "      <td>32.368090</td>\n",
              "      <td>0.156673</td>\n",
              "    </tr>\n",
              "    <tr>\n",
              "      <th>Mrs</th>\n",
              "      <td>35.898148</td>\n",
              "      <td>0.792000</td>\n",
              "    </tr>\n",
              "    <tr>\n",
              "      <th>Ms</th>\n",
              "      <td>28.000000</td>\n",
              "      <td>1.000000</td>\n",
              "    </tr>\n",
              "    <tr>\n",
              "      <th>Rev</th>\n",
              "      <td>43.166667</td>\n",
              "      <td>0.000000</td>\n",
              "    </tr>\n",
              "    <tr>\n",
              "      <th>Sir</th>\n",
              "      <td>49.000000</td>\n",
              "      <td>1.000000</td>\n",
              "    </tr>\n",
              "  </tbody>\n",
              "</table>\n",
              "</div>\n",
              "      <button class=\"colab-df-convert\" onclick=\"convertToInteractive('df-76525f3a-dc05-417d-bf29-194395ee5f82')\"\n",
              "              title=\"Convert this dataframe to an interactive table.\"\n",
              "              style=\"display:none;\">\n",
              "        \n",
              "  <svg xmlns=\"http://www.w3.org/2000/svg\" height=\"24px\"viewBox=\"0 0 24 24\"\n",
              "       width=\"24px\">\n",
              "    <path d=\"M0 0h24v24H0V0z\" fill=\"none\"/>\n",
              "    <path d=\"M18.56 5.44l.94 2.06.94-2.06 2.06-.94-2.06-.94-.94-2.06-.94 2.06-2.06.94zm-11 1L8.5 8.5l.94-2.06 2.06-.94-2.06-.94L8.5 2.5l-.94 2.06-2.06.94zm10 10l.94 2.06.94-2.06 2.06-.94-2.06-.94-.94-2.06-.94 2.06-2.06.94z\"/><path d=\"M17.41 7.96l-1.37-1.37c-.4-.4-.92-.59-1.43-.59-.52 0-1.04.2-1.43.59L10.3 9.45l-7.72 7.72c-.78.78-.78 2.05 0 2.83L4 21.41c.39.39.9.59 1.41.59.51 0 1.02-.2 1.41-.59l7.78-7.78 2.81-2.81c.8-.78.8-2.07 0-2.86zM5.41 20L4 18.59l7.72-7.72 1.47 1.35L5.41 20z\"/>\n",
              "  </svg>\n",
              "      </button>\n",
              "      \n",
              "  <style>\n",
              "    .colab-df-container {\n",
              "      display:flex;\n",
              "      flex-wrap:wrap;\n",
              "      gap: 12px;\n",
              "    }\n",
              "\n",
              "    .colab-df-convert {\n",
              "      background-color: #E8F0FE;\n",
              "      border: none;\n",
              "      border-radius: 50%;\n",
              "      cursor: pointer;\n",
              "      display: none;\n",
              "      fill: #1967D2;\n",
              "      height: 32px;\n",
              "      padding: 0 0 0 0;\n",
              "      width: 32px;\n",
              "    }\n",
              "\n",
              "    .colab-df-convert:hover {\n",
              "      background-color: #E2EBFA;\n",
              "      box-shadow: 0px 1px 2px rgba(60, 64, 67, 0.3), 0px 1px 3px 1px rgba(60, 64, 67, 0.15);\n",
              "      fill: #174EA6;\n",
              "    }\n",
              "\n",
              "    [theme=dark] .colab-df-convert {\n",
              "      background-color: #3B4455;\n",
              "      fill: #D2E3FC;\n",
              "    }\n",
              "\n",
              "    [theme=dark] .colab-df-convert:hover {\n",
              "      background-color: #434B5C;\n",
              "      box-shadow: 0px 1px 3px 1px rgba(0, 0, 0, 0.15);\n",
              "      filter: drop-shadow(0px 1px 2px rgba(0, 0, 0, 0.3));\n",
              "      fill: #FFFFFF;\n",
              "    }\n",
              "  </style>\n",
              "\n",
              "      <script>\n",
              "        const buttonEl =\n",
              "          document.querySelector('#df-76525f3a-dc05-417d-bf29-194395ee5f82 button.colab-df-convert');\n",
              "        buttonEl.style.display =\n",
              "          google.colab.kernel.accessAllowed ? 'block' : 'none';\n",
              "\n",
              "        async function convertToInteractive(key) {\n",
              "          const element = document.querySelector('#df-76525f3a-dc05-417d-bf29-194395ee5f82');\n",
              "          const dataTable =\n",
              "            await google.colab.kernel.invokeFunction('convertToInteractive',\n",
              "                                                     [key], {});\n",
              "          if (!dataTable) return;\n",
              "\n",
              "          const docLinkHtml = 'Like what you see? Visit the ' +\n",
              "            '<a target=\"_blank\" href=https://colab.research.google.com/notebooks/data_table.ipynb>data table notebook</a>'\n",
              "            + ' to learn more about interactive tables.';\n",
              "          element.innerHTML = '';\n",
              "          dataTable['output_type'] = 'display_data';\n",
              "          await google.colab.output.renderOutput(dataTable, element);\n",
              "          const docLink = document.createElement('div');\n",
              "          docLink.innerHTML = docLinkHtml;\n",
              "          element.appendChild(docLink);\n",
              "        }\n",
              "      </script>\n",
              "    </div>\n",
              "  </div>\n",
              "  "
            ]
          },
          "metadata": {},
          "execution_count": 396
        }
      ]
    },
    {
      "cell_type": "code",
      "source": [
        "titanic_train[\"Title\"] = titanic_train[\"Initial\"].replace([\"Capt\", \"Col\", \"Don\", \"Jonkheer\", \"Major\", \"Rev\", \"Dr\",\n",
        "                                                            \"Countess\", \"Lady\", \"Mme\", \"Mlle\", \"Ms\"], \n",
        "                                                          [\"Sir\", \"Sir\", \"Sir\", \"Sir\", \"Sir\", \"Sir\", \"Sir\",\n",
        "                                                            \"Mrs\", \"Mrs\", \"Mrs\", \"Miss\", \"Miss\"])"
      ],
      "metadata": {
        "id": "JGM44nGdxIWq"
      },
      "execution_count": 397,
      "outputs": []
    },
    {
      "cell_type": "code",
      "source": [
        "titanic_train[\"Title\"].value_counts()"
      ],
      "metadata": {
        "colab": {
          "base_uri": "https://localhost:8080/"
        },
        "id": "T7wPHoNty8ev",
        "outputId": "1db74f58-f3b3-4013-8b87-9d91a481ff09"
      },
      "execution_count": 398,
      "outputs": [
        {
          "output_type": "execute_result",
          "data": {
            "text/plain": [
              "Mr        517\n",
              "Miss      185\n",
              "Mrs       128\n",
              "Master     40\n",
              "Sir        21\n",
              "Name: Title, dtype: int64"
            ]
          },
          "metadata": {},
          "execution_count": 398
        }
      ]
    },
    {
      "cell_type": "code",
      "source": [
        "title_age = titanic_train.groupby(\"Title\")[\"Age\"].mean()\n",
        "title_age"
      ],
      "metadata": {
        "colab": {
          "base_uri": "https://localhost:8080/"
        },
        "id": "IuhvogRt6Ff_",
        "outputId": "f10e3136-c83f-43a7-c852-99a01d44d786"
      },
      "execution_count": 399,
      "outputs": [
        {
          "output_type": "execute_result",
          "data": {
            "text/plain": [
              "Title\n",
              "Master     4.574167\n",
              "Miss      21.845638\n",
              "Mr        32.368090\n",
              "Mrs       35.873874\n",
              "Sir       46.050000\n",
              "Name: Age, dtype: float64"
            ]
          },
          "metadata": {},
          "execution_count": 399
        }
      ]
    },
    {
      "cell_type": "code",
      "source": [
        "titanic_train[\"FamilySize\"] = titanic_train[\"SibSp\"] + titanic_train[\"Parch\"]"
      ],
      "metadata": {
        "id": "cWmeOAIWyKcI"
      },
      "execution_count": 400,
      "outputs": []
    },
    {
      "cell_type": "code",
      "source": [
        "titanic_train[\"FamilySize\"].value_counts()"
      ],
      "metadata": {
        "colab": {
          "base_uri": "https://localhost:8080/"
        },
        "id": "HaKLrva0zPlG",
        "outputId": "a2856136-2c62-452c-824d-63587282f4a6"
      },
      "execution_count": 401,
      "outputs": [
        {
          "output_type": "execute_result",
          "data": {
            "text/plain": [
              "0     537\n",
              "1     161\n",
              "2     102\n",
              "3      29\n",
              "5      22\n",
              "4      15\n",
              "6      12\n",
              "10      7\n",
              "7       6\n",
              "Name: FamilySize, dtype: int64"
            ]
          },
          "metadata": {},
          "execution_count": 401
        }
      ]
    },
    {
      "cell_type": "code",
      "source": [
        "titanic_train.groupby(\"FamilySize\")[\"Survived\"].mean()"
      ],
      "metadata": {
        "colab": {
          "base_uri": "https://localhost:8080/"
        },
        "id": "2hB_N3SDySAx",
        "outputId": "39a977e9-fcb4-49f9-8fc1-d1891048c93a"
      },
      "execution_count": 402,
      "outputs": [
        {
          "output_type": "execute_result",
          "data": {
            "text/plain": [
              "FamilySize\n",
              "0     0.303538\n",
              "1     0.552795\n",
              "2     0.578431\n",
              "3     0.724138\n",
              "4     0.200000\n",
              "5     0.136364\n",
              "6     0.333333\n",
              "7     0.000000\n",
              "10    0.000000\n",
              "Name: Survived, dtype: float64"
            ]
          },
          "metadata": {},
          "execution_count": 402
        }
      ]
    },
    {
      "cell_type": "code",
      "source": [
        "titanic_train[\"Alone\"] = (titanic_train[\"FamilySize\"] == 0).astype(int)"
      ],
      "metadata": {
        "id": "j3LG8yIXzuEl"
      },
      "execution_count": 403,
      "outputs": []
    },
    {
      "cell_type": "code",
      "source": [
        "titanic_train.loc[titanic_train[\"Embarked\"].isnull(), \"Embarked\"] = \"S\""
      ],
      "metadata": {
        "id": "7mCVdOVvzD5N"
      },
      "execution_count": 404,
      "outputs": []
    },
    {
      "cell_type": "code",
      "source": [
        "titanic_train.loc[(titanic_train[\"Age\"].isnull()) & (titanic_train[\"Title\"] == \"Sir\"), \"Age\"] = np.round(title_age[\"Sir\"])\n",
        "titanic_train.loc[(titanic_train[\"Age\"].isnull()) & (titanic_train[\"Title\"] == \"Master\"), \"Age\"] = np.round(title_age[\"Master\"])\n",
        "titanic_train.loc[(titanic_train[\"Age\"].isnull()) & (titanic_train[\"Title\"] == \"Mrs\"), \"Age\"] = np.round(title_age[\"Mrs\"])\n",
        "titanic_train.loc[(titanic_train[\"Age\"].isnull()) & (titanic_train[\"Title\"] == \"Miss\"), \"Age\"] = np.round(title_age[\"Miss\"])\n",
        "titanic_train.loc[(titanic_train[\"Age\"].isnull()) & (titanic_train[\"Title\"] == \"Mr\"), \"Age\"] = np.round(title_age[\"Mr\"])"
      ],
      "metadata": {
        "id": "IsizW01zn4l5"
      },
      "execution_count": 405,
      "outputs": []
    },
    {
      "cell_type": "code",
      "source": [
        "titanic_train[\"Age_Band\"] = 0\n",
        "titanic_train.loc[titanic_train[\"Age\"] > 16, \"Age_Band\"] = 1\n",
        "titanic_train.loc[titanic_train[\"Age\"] > 32, \"Age_Band\"] = 2\n",
        "titanic_train.loc[titanic_train[\"Age\"] > 48, \"Age_Band\"] = 3\n",
        "titanic_train.loc[titanic_train[\"Age\"] > 64, \"Age_Band\"] = 4"
      ],
      "metadata": {
        "id": "pyM5Rr_60eVW"
      },
      "execution_count": 406,
      "outputs": []
    },
    {
      "cell_type": "code",
      "source": [
        "sns.catplot(data=titanic_train, x=\"Age_Band\", y=\"Survived\", col=\"Pclass\", kind=\"point\")\n",
        "plt.show()"
      ],
      "metadata": {
        "colab": {
          "base_uri": "https://localhost:8080/",
          "height": 369
        },
        "id": "M-b1_ILX1k4k",
        "outputId": "2aa23a33-28f0-458f-93b1-a0a60206d2af"
      },
      "execution_count": 407,
      "outputs": [
        {
          "output_type": "display_data",
          "data": {
            "text/plain": [
              "<Figure size 1080x360 with 3 Axes>"
            ],
            "image/png": "[encoded data removed]"
          },
          "metadata": {
            "needs_background": "light"
          }
        }
      ]
    },
    {
      "cell_type": "code",
      "source": [
        "titanic_train[\"Fare_Band\"] = pd.qcut(titanic_train[\"Fare\"], 4)\n",
        "titanic_train.groupby(\"Fare_Band\")[\"Survived\"].mean()"
      ],
      "metadata": {
        "colab": {
          "base_uri": "https://localhost:8080/"
        },
        "id": "ery20s6t2MgL",
        "outputId": "aedbbf50-032f-405b-c595-1c128a7adf5e"
      },
      "execution_count": 408,
      "outputs": [
        {
          "output_type": "execute_result",
          "data": {
            "text/plain": [
              "Fare_Band\n",
              "(-0.001, 7.91]     0.197309\n",
              "(7.91, 14.454]     0.303571\n",
              "(14.454, 31.0]     0.454955\n",
              "(31.0, 512.329]    0.581081\n",
              "Name: Survived, dtype: float64"
            ]
          },
          "metadata": {},
          "execution_count": 408
        }
      ]
    },
    {
      "cell_type": "code",
      "source": [
        "titanic_train[\"Fare_Band\"] = 0\n",
        "titanic_train.loc[titanic_train[\"Fare\"] > 7.91, \"Fare_Band\"] = 1\n",
        "titanic_train.loc[titanic_train[\"Fare\"] > 14.454, \"Fare_Band\"] = 2\n",
        "titanic_train.loc[titanic_train[\"Fare\"] > 31, \"Fare_Band\"] = 3"
      ],
      "metadata": {
        "id": "At3FkRB_2ia1"
      },
      "execution_count": 409,
      "outputs": []
    },
    {
      "cell_type": "markdown",
      "source": [
        "### Preprocessing"
      ],
      "metadata": {
        "id": "Cewc9yO2r451"
      }
    },
    {
      "cell_type": "code",
      "source": [
        "titanic_train.info()"
      ],
      "metadata": {
        "colab": {
          "base_uri": "https://localhost:8080/"
        },
        "id": "D3UZO7E5poSD",
        "outputId": "a413bd75-cfc5-4659-d9b9-58e7b34b0688"
      },
      "execution_count": 410,
      "outputs": [
        {
          "output_type": "stream",
          "name": "stdout",
          "text": [
            "<class 'pandas.core.frame.DataFrame'>\n",
            "RangeIndex: 891 entries, 0 to 890\n",
            "Data columns (total 18 columns):\n",
            " #   Column       Non-Null Count  Dtype  \n",
            "---  ------       --------------  -----  \n",
            " 0   PassengerId  891 non-null    int64  \n",
            " 1   Survived     891 non-null    int64  \n",
            " 2   Pclass       891 non-null    int64  \n",
            " 3   Name         891 non-null    object \n",
            " 4   Sex          891 non-null    object \n",
            " 5   Age          891 non-null    float64\n",
            " 6   SibSp        891 non-null    int64  \n",
            " 7   Parch        891 non-null    int64  \n",
            " 8   Ticket       891 non-null    object \n",
            " 9   Fare         891 non-null    float64\n",
            " 10  Cabin        204 non-null    object \n",
            " 11  Embarked     891 non-null    object \n",
            " 12  Initial      891 non-null    object \n",
            " 13  Title        891 non-null    object \n",
            " 14  FamilySize   891 non-null    int64  \n",
            " 15  Alone        891 non-null    int64  \n",
            " 16  Age_Band     891 non-null    int64  \n",
            " 17  Fare_Band    891 non-null    int64  \n",
            "dtypes: float64(2), int64(9), object(7)\n",
            "memory usage: 125.4+ KB\n"
          ]
        }
      ]
    },
    {
      "cell_type": "code",
      "source": [
        "drop_cols = [\"PassengerId\", \"Name\", \"Ticket\", \"Cabin\", \"Initial\"]\n",
        "cat_cols = [\"Pclass\", \"Sex\", \"Embarked\", \"Title\", \"Age_Band\", \"Fare_Band\", \"Alone\"]\n",
        "num_cols = [\"FamilySize\"]"
      ],
      "metadata": {
        "id": "T0KyrazqpuIb"
      },
      "execution_count": 411,
      "outputs": []
    },
    {
      "cell_type": "code",
      "source": [
        "from sklearn.pipeline import Pipeline\n",
        "from sklearn.compose import ColumnTransformer\n",
        "from sklearn.preprocessing import StandardScaler\n",
        "from sklearn.preprocessing import OneHotEncoder\n",
        "\n",
        "num_pipeline = Pipeline([(\"scaler\", StandardScaler())])\n",
        "cat_pipeline = Pipeline([(\"cat_encoder\", OneHotEncoder())])\n",
        "prep_pipeline = ColumnTransformer([\n",
        "    (\"cat\", cat_pipeline, cat_cols)])"
      ],
      "metadata": {
        "id": "CgxqNdXMvkoP"
      },
      "execution_count": 412,
      "outputs": []
    },
    {
      "cell_type": "code",
      "source": [
        "X = prep_pipeline.fit_transform(titanic_train[cat_cols])"
      ],
      "metadata": {
        "id": "TlECs964uCc5"
      },
      "execution_count": 413,
      "outputs": []
    },
    {
      "cell_type": "code",
      "source": [
        "y = titanic_train[\"Survived\"]"
      ],
      "metadata": {
        "id": "W-BB8o93shSG"
      },
      "execution_count": 414,
      "outputs": []
    },
    {
      "cell_type": "markdown",
      "source": [
        "### Model"
      ],
      "metadata": {
        "id": "0HZWySimw7le"
      }
    },
    {
      "cell_type": "code",
      "source": [
        "from sklearn.model_selection import train_test_split\n",
        "from sklearn.model_selection import cross_val_score\n",
        "\n",
        "from sklearn.svm import SVC\n",
        "from sklearn.neighbors import KNeighborsClassifier\n",
        "from sklearn.ensemble import RandomForestClassifier\n",
        "from sklearn.linear_model import SGDClassifier\n",
        "from sklearn.linear_model import LogisticRegression\n",
        "\n",
        "from sklearn.metrics import accuracy_score"
      ],
      "metadata": {
        "id": "OUjpzq4J61BM"
      },
      "execution_count": 366,
      "outputs": []
    },
    {
      "cell_type": "code",
      "source": [
        "classifiers = [\n",
        "    SVC(kernel=\"linear\", probability=True),\n",
        "    SVC(kernel=\"rbf\", probability=True),\n",
        "    SVC(kernel=\"poly\", probability=True),\n",
        "    SVC(kernel=\"sigmoid\", probability=True),\n",
        "    RandomForestClassifier(),\n",
        "    SGDClassifier(),\n",
        "    KNeighborsClassifier(3),\n",
        "    LogisticRegression()\n",
        "]"
      ],
      "metadata": {
        "id": "9Of-kAou7fDW"
      },
      "execution_count": 367,
      "outputs": []
    },
    {
      "cell_type": "code",
      "source": [
        "model_data = dict()\n",
        "for clf in classifiers:\n",
        "    scores = cross_val_score(clf, X, y, cv=10, scoring=\"accuracy\")\n",
        "    model_data[str(clf)] = scores\n",
        "    print(f\"{str(clf)} : {scores} / mean {np.mean(scores)}\")"
      ],
      "metadata": {
        "colab": {
          "base_uri": "https://localhost:8080/"
        },
        "id": "UFEvxON_9lFg",
        "outputId": "ac48c57f-b6fd-4ea4-f840-54066b7ce59a"
      },
      "execution_count": 368,
      "outputs": [
        {
          "output_type": "stream",
          "name": "stdout",
          "text": [
            "SVC(kernel='linear', probability=True) : [0.77777778 0.82022472 0.74157303 0.86516854 0.79775281 0.78651685\n",
            " 0.7752809  0.74157303 0.83146067 0.78651685] / mean 0.7923845193508114\n",
            "SVC(probability=True) : [0.83333333 0.80898876 0.76404494 0.84269663 0.85393258 0.82022472\n",
            " 0.83146067 0.76404494 0.86516854 0.83146067] / mean 0.8215355805243446\n",
            "SVC(kernel='poly', probability=True) : [0.75555556 0.83146067 0.74157303 0.83146067 0.85393258 0.84269663\n",
            " 0.83146067 0.7752809  0.88764045 0.83146067] / mean 0.8182521847690387\n",
            "SVC(kernel='sigmoid', probability=True) : [0.7        0.69662921 0.59550562 0.6741573  0.71910112 0.68539326\n",
            " 0.68539326 0.74157303 0.74157303 0.71910112] / mean 0.6958426966292135\n",
            "RandomForestClassifier() : [0.76666667 0.83146067 0.74157303 0.83146067 0.87640449 0.82022472\n",
            " 0.84269663 0.78651685 0.87640449 0.83146067] / mean 0.8204868913857679\n",
            "SGDClassifier() : [0.67777778 0.80898876 0.64044944 0.84269663 0.78651685 0.80898876\n",
            " 0.78651685 0.76404494 0.83146067 0.80898876] / mean 0.7756429463171035\n",
            "KNeighborsClassifier(n_neighbors=3) : [0.73333333 0.79775281 0.74157303 0.78651685 0.80898876 0.78651685\n",
            " 0.80898876 0.78651685 0.87640449 0.76404494] / mean 0.789063670411985\n",
            "LogisticRegression() : [0.8        0.79775281 0.75280899 0.83146067 0.80898876 0.79775281\n",
            " 0.79775281 0.76404494 0.82022472 0.85393258] / mean 0.8024719101123596\n"
          ]
        }
      ]
    },
    {
      "cell_type": "code",
      "source": [
        "model_data_df = pd.DataFrame(model_data).T"
      ],
      "metadata": {
        "id": "pqZ3jNsg9mCo"
      },
      "execution_count": 369,
      "outputs": []
    },
    {
      "cell_type": "code",
      "source": [
        "fig, ax = plt.subplots(figsize=(12, 5))\n",
        "plt.boxplot(model_data_df, labels=[\"SVC_linear\", \"SVC_rbf\", \"SVC_poly\", \"SVC_sigmoid\", \"RF\", \"SGD\", \"KN\", \"LR\"])\n",
        "plt.plot(range(1, 9), model_data_df.mean(axis=1), \"r.\")\n",
        "ax.axhline(model_data_df.mean(axis=1).max(), ls='--')\n",
        "plt.show()"
      ],
      "metadata": {
        "colab": {
          "base_uri": "https://localhost:8080/",
          "height": 323
        },
        "id": "MympN4VX-vbp",
        "outputId": "8fca2ccc-6acd-477f-bd74-67ac708e79f0"
      },
      "execution_count": 370,
      "outputs": [
        {
          "output_type": "display_data",
          "data": {
            "text/plain": [
              "<Figure size 864x360 with 1 Axes>"
            ],
            "image/png": "[encoded data removed]"
          },
          "metadata": {
            "needs_background": "light"
          }
        }
      ]
    },
    {
      "cell_type": "code",
      "source": [
        "model_data_df.mean(axis=1)"
      ],
      "metadata": {
        "colab": {
          "base_uri": "https://localhost:8080/"
        },
        "id": "iU4k9REtABqO",
        "outputId": "4c714351-88dc-4531-fc79-ad7529931e79"
      },
      "execution_count": 371,
      "outputs": [
        {
          "output_type": "execute_result",
          "data": {
            "text/plain": [
              "SVC(kernel='linear', probability=True)     0.792385\n",
              "SVC(probability=True)                      0.821536\n",
              "SVC(kernel='poly', probability=True)       0.818252\n",
              "SVC(kernel='sigmoid', probability=True)    0.695843\n",
              "RandomForestClassifier()                   0.820487\n",
              "SGDClassifier()                            0.775643\n",
              "KNeighborsClassifier(n_neighbors=3)        0.789064\n",
              "LogisticRegression()                       0.802472\n",
              "dtype: float64"
            ]
          },
          "metadata": {},
          "execution_count": 371
        }
      ]
    },
    {
      "cell_type": "code",
      "source": [
        "def clean_data(data):\n",
        "    data[\"Initial\"] = data[\"Name\"].str.extract('([A-Za-z+]+)\\.')\n",
        "    data[\"Title\"] = data[\"Initial\"].replace([\"Capt\", \"Col\", \"Don\", \"Jonkheer\", \"Major\", \"Rev\", \"Dr\", \"Dona\"], \"Sir\")\n",
        "    data[\"Title\"] = data[\"Title\"].replace([\"Countess\", \"Lady\", \"Mme\"], \"Mrs\")\n",
        "    data[\"Title\"] = data[\"Title\"].replace([\"Mlle\", \"Ms\"], \"Miss\")\n",
        "\n",
        "    data[\"FamilySize\"] = data[\"SibSp\"] + data[\"Parch\"]\n",
        "    data[\"Alone\"] = (data[\"FamilySize\"] == 0).astype(int)\n",
        "\n",
        "    data.loc[data[\"Embarked\"].isnull(), \"Embarked\"] = \"S\"\n",
        "    \n",
        "    for title in title_age.index:\n",
        "        data.loc[(data[\"Age\"].isnull()) & (data[\"Title\"] == title), \"Age\"] = np.round(title_age[title])\n",
        "    data[\"Age_Band\"] = 0\n",
        "    for i in range(1, 5):\n",
        "        data.loc[data[\"Age\"] > 16 * i, \"Age_Band\"] = i\n",
        "\n",
        "    data[\"Fare\"] = data[\"Fare\"].fillna(data[\"Fare\"].median())\n",
        "\n",
        "    data[\"Fare_Band\"] = 0\n",
        "    data.loc[data[\"Fare\"] > 7.91, \"Fare_Band\"] = 1\n",
        "    data.loc[data[\"Fare\"] > 14.454, \"Fare_Band\"] = 2\n",
        "    data.loc[data[\"Fare\"] > 31, \"Fare_Band\"] = 3\n",
        "\n",
        "    return data"
      ],
      "metadata": {
        "id": "0r39QUuaGJAu"
      },
      "execution_count": 417,
      "outputs": []
    },
    {
      "cell_type": "code",
      "source": [
        "titanic_train[\"Title\"].value_counts()"
      ],
      "metadata": {
        "colab": {
          "base_uri": "https://localhost:8080/"
        },
        "id": "XIHJrhuQNds1",
        "outputId": "0ca10a4d-9913-4947-9c77-4312e2a4febe"
      },
      "execution_count": 418,
      "outputs": [
        {
          "output_type": "execute_result",
          "data": {
            "text/plain": [
              "Mr        517\n",
              "Miss      185\n",
              "Mrs       128\n",
              "Master     40\n",
              "Sir        21\n",
              "Name: Title, dtype: int64"
            ]
          },
          "metadata": {},
          "execution_count": 418
        }
      ]
    },
    {
      "cell_type": "code",
      "source": [
        "X_test = clean_data(titanic_test)"
      ],
      "metadata": {
        "id": "NgUHrMc5GB_N"
      },
      "execution_count": 419,
      "outputs": []
    },
    {
      "cell_type": "code",
      "source": [
        "X_test = prep_pipeline.transform(X_test)"
      ],
      "metadata": {
        "id": "x11Ljj9aNQzL"
      },
      "execution_count": 420,
      "outputs": []
    },
    {
      "cell_type": "code",
      "source": [
        "best_clf = SVC(kernel=\"rbf\", probability=True)\n",
        "best_clf.fit(X, y)\n",
        "pred = best_clf.predict(X_test)"
      ],
      "metadata": {
        "id": "rdYAo_DxBJvU"
      },
      "execution_count": 421,
      "outputs": []
    },
    {
      "cell_type": "code",
      "source": [
        "sum(titanic_submission[\"Survived\"] == pred)/len(titanic_submission)"
      ],
      "metadata": {
        "colab": {
          "base_uri": "https://localhost:8080/"
        },
        "id": "kKjuYKcKJc1f",
        "outputId": "8e09b969-ef9d-4bdc-dd63-61e2d6e0af4a"
      },
      "execution_count": 427,
      "outputs": [
        {
          "output_type": "execute_result",
          "data": {
            "text/plain": [
              "0.8875598086124402"
            ]
          },
          "metadata": {},
          "execution_count": 427
        }
      ]
    },
    {
      "cell_type": "code",
      "source": [
        "titanic_submission[\"Survived\"] = pred"
      ],
      "metadata": {
        "id": "0WFErAoJN_n7"
      },
      "execution_count": 428,
      "outputs": []
    },
    {
      "cell_type": "code",
      "source": [
        "titanic_submission.to_csv('/content/submission.csv', index=False)"
      ],
      "metadata": {
        "id": "ss-HxWPsOTni"
      },
      "execution_count": 429,
      "outputs": []
    },
    {
      "cell_type": "markdown",
      "source": [
        "# 4 스팸 분류기"
      ],
      "metadata": {
        "id": "zQhSYkOZOX6j"
      }
    },
    {
      "cell_type": "code",
      "source": [
        "import os\n",
        "import urllib.request\n",
        "import tarfile\n",
        "\n",
        "home_url = \"https://spamassassin.apache.org/old/publiccorpus/\"\n",
        "tar_files = [\"20030228_easy_ham.tar.bz2\", \"20030228_easy_ham_2.tar.bz2\", \"20030228_hard_ham.tar.bz2\", \"20030228_spam.tar.bz2\", \"20030228_spam_2.tar.bz2\"]\n",
        "spam_path = \"/content/spams\""
      ],
      "metadata": {
        "id": "RCVlLM1RabNV"
      },
      "execution_count": 3,
      "outputs": []
    },
    {
      "cell_type": "code",
      "source": [
        "if not os.path.isdir(spam_path):\n",
        "    os.makedirs(spam_path)\n",
        "for file_name in tar_files:\n",
        "    url = home_url + file_name\n",
        "    file_path = os.path.join(spam_path, file_name)\n",
        "    urllib.request.urlretrieve(url, file_path)\n",
        "    tar_file = tarfile.open(file_path)\n",
        "    tar_file.extractall(path=spam_path)\n",
        "    tar_file.close()"
      ],
      "metadata": {
        "id": "4cG2PnuSmL4R"
      },
      "execution_count": 4,
      "outputs": []
    },
    {
      "cell_type": "code",
      "source": [
        "spam_folders = [name for name in sorted(os.listdir(spam_path)) if not name.endswith(\".bz2\")]\n",
        "spam_folders"
      ],
      "metadata": {
        "colab": {
          "base_uri": "https://localhost:8080/"
        },
        "id": "ioILX-3Uma8L",
        "outputId": "33e57717-a9aa-49f9-a347-c1f8748d20d2"
      },
      "execution_count": 8,
      "outputs": [
        {
          "output_type": "execute_result",
          "data": {
            "text/plain": [
              "['easy_ham', 'easy_ham_2', 'hard_ham', 'spam', 'spam_2']"
            ]
          },
          "metadata": {},
          "execution_count": 8
        }
      ]
    },
    {
      "cell_type": "code",
      "source": [
        "import email\n",
        "import email.policy\n",
        "\n",
        "def load_email(folder_name, file_name, spam_path=spam_path):\n",
        "    with open(os.path.join(spam_path, folder_name, file_name), \"rb\") as f:\n",
        "        return email.parser.BytesParser(policy=email.policy.default).parse(f)\n",
        "\n",
        "def load_emails(folder_name, spam_path=spam_path):\n",
        "    folder_dir = os.path.join(spam_path, folder_name)\n",
        "    file_names = [name for name in sorted(os.listdir(folder_dir)) if len(name) > 20]\n",
        "    emails = [load_email(folder_name, file_name=name) for name in file_names]\n",
        "    return emails"
      ],
      "metadata": {
        "id": "hD5jPrsEn6k7"
      },
      "execution_count": 9,
      "outputs": []
    },
    {
      "cell_type": "code",
      "source": [
        "ham_1 = load_emails(\"easy_ham\")\n",
        "ham_2 = load_emails(\"easy_ham_2\")\n",
        "ham_3 = load_emails(\"hard_ham\")\n",
        "spam_1 = load_emails(\"spam\")\n",
        "spam_2 = load_emails(\"spam_2\")"
      ],
      "metadata": {
        "id": "c6XRtQCKohDR"
      },
      "execution_count": 11,
      "outputs": []
    },
    {
      "cell_type": "code",
      "source": [
        "print(len(ham_1), len(ham_2), len(ham_3), len(spam_1), len(spam_2))"
      ],
      "metadata": {
        "colab": {
          "base_uri": "https://localhost:8080/"
        },
        "id": "9oFcKE5kqyLr",
        "outputId": "8c3590df-e339-49ae-c574-c4da0c1f6392"
      },
      "execution_count": 14,
      "outputs": [
        {
          "output_type": "stream",
          "name": "stdout",
          "text": [
            "2500 1400 250 500 1397\n"
          ]
        }
      ]
    },
    {
      "cell_type": "code",
      "source": [
        "help(ham_1[0])"
      ],
      "metadata": {
        "colab": {
          "base_uri": "https://localhost:8080/"
        },
        "id": "hDZ9RvkaivXV",
        "outputId": "82831fcd-f2eb-4ac6-ed9a-3a74cf3bb704"
      },
      "execution_count": 12,
      "outputs": [
        {
          "output_type": "stream",
          "name": "stdout",
          "text": [
            "Help on EmailMessage in module email.message object:\n",
            "\n",
            "class EmailMessage(MIMEPart)\n",
            " |  EmailMessage(policy=None)\n",
            " |  \n",
            " |  Basic message object.\n",
            " |  \n",
            " |  A message object is defined as something that has a bunch of RFC 2822\n",
            " |  headers and a payload.  It may optionally have an envelope header\n",
            " |  (a.k.a. Unix-From or From_ header).  If the message is a container (i.e. a\n",
            " |  multipart or a message/rfc822), then the payload is a list of Message\n",
            " |  objects, otherwise it is a string.\n",
            " |  \n",
            " |  Message objects implement part of the `mapping' interface, which assumes\n",
            " |  there is exactly one occurrence of the header per message.  Some headers\n",
            " |  do in fact appear multiple times (e.g. Received) and for those headers,\n",
            " |  you must use the explicit API to set or get all the headers.  Not all of\n",
            " |  the mapping methods are implemented.\n",
            " |  \n",
            " |  Method resolution order:\n",
            " |      EmailMessage\n",
            " |      MIMEPart\n",
            " |      Message\n",
            " |      builtins.object\n",
            " |  \n",
            " |  Methods defined here:\n",
            " |  \n",
            " |  set_content(self, *args, **kw)\n",
            " |  \n",
            " |  ----------------------------------------------------------------------\n",
            " |  Methods inherited from MIMEPart:\n",
            " |  \n",
            " |  __init__(self, policy=None)\n",
            " |      Initialize self.  See help(type(self)) for accurate signature.\n",
            " |  \n",
            " |  __str__(self)\n",
            " |      Return the entire formatted message as a string.\n",
            " |  \n",
            " |  add_alternative(self, *args, **kw)\n",
            " |  \n",
            " |  add_attachment(self, *args, **kw)\n",
            " |  \n",
            " |  add_related(self, *args, **kw)\n",
            " |  \n",
            " |  as_string(self, unixfrom=False, maxheaderlen=None, policy=None)\n",
            " |      Return the entire formatted message as a string.\n",
            " |      \n",
            " |      Optional 'unixfrom', when true, means include the Unix From_ envelope\n",
            " |      header.  maxheaderlen is retained for backward compatibility with the\n",
            " |      base Message class, but defaults to None, meaning that the policy value\n",
            " |      for max_line_length controls the header maximum length.  'policy' is\n",
            " |      passed to the Generator instance used to serialize the message; if it\n",
            " |      is not specified the policy associated with the message instance is\n",
            " |      used.\n",
            " |  \n",
            " |  clear(self)\n",
            " |  \n",
            " |  clear_content(self)\n",
            " |  \n",
            " |  get_body(self, preferencelist=('related', 'html', 'plain'))\n",
            " |      Return best candidate mime part for display as 'body' of message.\n",
            " |      \n",
            " |      Do a depth first search, starting with self, looking for the first part\n",
            " |      matching each of the items in preferencelist, and return the part\n",
            " |      corresponding to the first item that has a match, or None if no items\n",
            " |      have a match.  If 'related' is not included in preferencelist, consider\n",
            " |      the root part of any multipart/related encountered as a candidate\n",
            " |      match.  Ignore parts with 'Content-Disposition: attachment'.\n",
            " |  \n",
            " |  get_content(self, *args, content_manager=None, **kw)\n",
            " |  \n",
            " |  is_attachment(self)\n",
            " |  \n",
            " |  iter_attachments(self)\n",
            " |      Return an iterator over the non-main parts of a multipart.\n",
            " |      \n",
            " |      Skip the first of each occurrence of text/plain, text/html,\n",
            " |      multipart/related, or multipart/alternative in the multipart (unless\n",
            " |      they have a 'Content-Disposition: attachment' header) and include all\n",
            " |      remaining subparts in the returned iterator.  When applied to a\n",
            " |      multipart/related, return all parts except the root part.  Return an\n",
            " |      empty iterator when applied to a multipart/alternative or a\n",
            " |      non-multipart.\n",
            " |  \n",
            " |  iter_parts(self)\n",
            " |      Return an iterator over all immediate subparts of a multipart.\n",
            " |      \n",
            " |      Return an empty iterator for a non-multipart.\n",
            " |  \n",
            " |  make_alternative(self, boundary=None)\n",
            " |  \n",
            " |  make_mixed(self, boundary=None)\n",
            " |  \n",
            " |  make_related(self, boundary=None)\n",
            " |  \n",
            " |  ----------------------------------------------------------------------\n",
            " |  Methods inherited from Message:\n",
            " |  \n",
            " |  __bytes__(self)\n",
            " |      Return the entire formatted message as a bytes object.\n",
            " |  \n",
            " |  __contains__(self, name)\n",
            " |  \n",
            " |  __delitem__(self, name)\n",
            " |      Delete all occurrences of a header, if present.\n",
            " |      \n",
            " |      Does not raise an exception if the header is missing.\n",
            " |  \n",
            " |  __getitem__(self, name)\n",
            " |      Get a header value.\n",
            " |      \n",
            " |      Return None if the header is missing instead of raising an exception.\n",
            " |      \n",
            " |      Note that if the header appeared multiple times, exactly which\n",
            " |      occurrence gets returned is undefined.  Use get_all() to get all\n",
            " |      the values matching a header field name.\n",
            " |  \n",
            " |  __iter__(self)\n",
            " |  \n",
            " |  __len__(self)\n",
            " |      Return the total number of headers, including duplicates.\n",
            " |  \n",
            " |  __setitem__(self, name, val)\n",
            " |      Set the value of a header.\n",
            " |      \n",
            " |      Note: this does not overwrite an existing header with the same field\n",
            " |      name.  Use __delitem__() first to delete any existing headers.\n",
            " |  \n",
            " |  add_header(self, _name, _value, **_params)\n",
            " |      Extended header setting.\n",
            " |      \n",
            " |      name is the header field to add.  keyword arguments can be used to set\n",
            " |      additional parameters for the header field, with underscores converted\n",
            " |      to dashes.  Normally the parameter will be added as key=\"value\" unless\n",
            " |      value is None, in which case only the key will be added.  If a\n",
            " |      parameter value contains non-ASCII characters it can be specified as a\n",
            " |      three-tuple of (charset, language, value), in which case it will be\n",
            " |      encoded according to RFC2231 rules.  Otherwise it will be encoded using\n",
            " |      the utf-8 charset and a language of ''.\n",
            " |      \n",
            " |      Examples:\n",
            " |      \n",
            " |      msg.add_header('content-disposition', 'attachment', filename='bud.gif')\n",
            " |      msg.add_header('content-disposition', 'attachment',\n",
            " |                     filename=('utf-8', '', Fußballer.ppt'))\n",
            " |      msg.add_header('content-disposition', 'attachment',\n",
            " |                     filename='Fußballer.ppt'))\n",
            " |  \n",
            " |  as_bytes(self, unixfrom=False, policy=None)\n",
            " |      Return the entire formatted message as a bytes object.\n",
            " |      \n",
            " |      Optional 'unixfrom', when true, means include the Unix From_ envelope\n",
            " |      header.  'policy' is passed to the BytesGenerator instance used to\n",
            " |      serialize the message; if not specified the policy associated with\n",
            " |      the message instance is used.\n",
            " |  \n",
            " |  attach(self, payload)\n",
            " |      Add the given payload to the current payload.\n",
            " |      \n",
            " |      The current payload will always be a list of objects after this method\n",
            " |      is called.  If you want to set the payload to a scalar object, use\n",
            " |      set_payload() instead.\n",
            " |  \n",
            " |  del_param(self, param, header='content-type', requote=True)\n",
            " |      Remove the given parameter completely from the Content-Type header.\n",
            " |      \n",
            " |      The header will be re-written in place without the parameter or its\n",
            " |      value. All values will be quoted as necessary unless requote is\n",
            " |      False.  Optional header specifies an alternative to the Content-Type\n",
            " |      header.\n",
            " |  \n",
            " |  get(self, name, failobj=None)\n",
            " |      Get a header value.\n",
            " |      \n",
            " |      Like __getitem__() but return failobj instead of None when the field\n",
            " |      is missing.\n",
            " |  \n",
            " |  get_all(self, name, failobj=None)\n",
            " |      Return a list of all the values for the named field.\n",
            " |      \n",
            " |      These will be sorted in the order they appeared in the original\n",
            " |      message, and may contain duplicates.  Any fields deleted and\n",
            " |      re-inserted are always appended to the header list.\n",
            " |      \n",
            " |      If no such fields exist, failobj is returned (defaults to None).\n",
            " |  \n",
            " |  get_boundary(self, failobj=None)\n",
            " |      Return the boundary associated with the payload if present.\n",
            " |      \n",
            " |      The boundary is extracted from the Content-Type header's `boundary'\n",
            " |      parameter, and it is unquoted.\n",
            " |  \n",
            " |  get_charset(self)\n",
            " |      Return the Charset instance associated with the message's payload.\n",
            " |  \n",
            " |  get_charsets(self, failobj=None)\n",
            " |      Return a list containing the charset(s) used in this message.\n",
            " |      \n",
            " |      The returned list of items describes the Content-Type headers'\n",
            " |      charset parameter for this message and all the subparts in its\n",
            " |      payload.\n",
            " |      \n",
            " |      Each item will either be a string (the value of the charset parameter\n",
            " |      in the Content-Type header of that part) or the value of the\n",
            " |      'failobj' parameter (defaults to None), if the part does not have a\n",
            " |      main MIME type of \"text\", or the charset is not defined.\n",
            " |      \n",
            " |      The list will contain one string for each part of the message, plus\n",
            " |      one for the container message (i.e. self), so that a non-multipart\n",
            " |      message will still return a list of length 1.\n",
            " |  \n",
            " |  get_content_charset(self, failobj=None)\n",
            " |      Return the charset parameter of the Content-Type header.\n",
            " |      \n",
            " |      The returned string is always coerced to lower case.  If there is no\n",
            " |      Content-Type header, or if that header has no charset parameter,\n",
            " |      failobj is returned.\n",
            " |  \n",
            " |  get_content_disposition(self)\n",
            " |      Return the message's content-disposition if it exists, or None.\n",
            " |      \n",
            " |      The return values can be either 'inline', 'attachment' or None\n",
            " |      according to the rfc2183.\n",
            " |  \n",
            " |  get_content_maintype(self)\n",
            " |      Return the message's main content type.\n",
            " |      \n",
            " |      This is the `maintype' part of the string returned by\n",
            " |      get_content_type().\n",
            " |  \n",
            " |  get_content_subtype(self)\n",
            " |      Returns the message's sub-content type.\n",
            " |      \n",
            " |      This is the `subtype' part of the string returned by\n",
            " |      get_content_type().\n",
            " |  \n",
            " |  get_content_type(self)\n",
            " |      Return the message's content type.\n",
            " |      \n",
            " |      The returned string is coerced to lower case of the form\n",
            " |      `maintype/subtype'.  If there was no Content-Type header in the\n",
            " |      message, the default type as given by get_default_type() will be\n",
            " |      returned.  Since according to RFC 2045, messages always have a default\n",
            " |      type this will always return a value.\n",
            " |      \n",
            " |      RFC 2045 defines a message's default type to be text/plain unless it\n",
            " |      appears inside a multipart/digest container, in which case it would be\n",
            " |      message/rfc822.\n",
            " |  \n",
            " |  get_default_type(self)\n",
            " |      Return the `default' content type.\n",
            " |      \n",
            " |      Most messages have a default content type of text/plain, except for\n",
            " |      messages that are subparts of multipart/digest containers.  Such\n",
            " |      subparts have a default content type of message/rfc822.\n",
            " |  \n",
            " |  get_filename(self, failobj=None)\n",
            " |      Return the filename associated with the payload if present.\n",
            " |      \n",
            " |      The filename is extracted from the Content-Disposition header's\n",
            " |      `filename' parameter, and it is unquoted.  If that header is missing\n",
            " |      the `filename' parameter, this method falls back to looking for the\n",
            " |      `name' parameter.\n",
            " |  \n",
            " |  get_param(self, param, failobj=None, header='content-type', unquote=True)\n",
            " |      Return the parameter value if found in the Content-Type header.\n",
            " |      \n",
            " |      Optional failobj is the object to return if there is no Content-Type\n",
            " |      header, or the Content-Type header has no such parameter.  Optional\n",
            " |      header is the header to search instead of Content-Type.\n",
            " |      \n",
            " |      Parameter keys are always compared case insensitively.  The return\n",
            " |      value can either be a string, or a 3-tuple if the parameter was RFC\n",
            " |      2231 encoded.  When it's a 3-tuple, the elements of the value are of\n",
            " |      the form (CHARSET, LANGUAGE, VALUE).  Note that both CHARSET and\n",
            " |      LANGUAGE can be None, in which case you should consider VALUE to be\n",
            " |      encoded in the us-ascii charset.  You can usually ignore LANGUAGE.\n",
            " |      The parameter value (either the returned string, or the VALUE item in\n",
            " |      the 3-tuple) is always unquoted, unless unquote is set to False.\n",
            " |      \n",
            " |      If your application doesn't care whether the parameter was RFC 2231\n",
            " |      encoded, it can turn the return value into a string as follows:\n",
            " |      \n",
            " |          rawparam = msg.get_param('foo')\n",
            " |          param = email.utils.collapse_rfc2231_value(rawparam)\n",
            " |  \n",
            " |  get_params(self, failobj=None, header='content-type', unquote=True)\n",
            " |      Return the message's Content-Type parameters, as a list.\n",
            " |      \n",
            " |      The elements of the returned list are 2-tuples of key/value pairs, as\n",
            " |      split on the `=' sign.  The left hand side of the `=' is the key,\n",
            " |      while the right hand side is the value.  If there is no `=' sign in\n",
            " |      the parameter the value is the empty string.  The value is as\n",
            " |      described in the get_param() method.\n",
            " |      \n",
            " |      Optional failobj is the object to return if there is no Content-Type\n",
            " |      header.  Optional header is the header to search instead of\n",
            " |      Content-Type.  If unquote is True, the value is unquoted.\n",
            " |  \n",
            " |  get_payload(self, i=None, decode=False)\n",
            " |      Return a reference to the payload.\n",
            " |      \n",
            " |      The payload will either be a list object or a string.  If you mutate\n",
            " |      the list object, you modify the message's payload in place.  Optional\n",
            " |      i returns that index into the payload.\n",
            " |      \n",
            " |      Optional decode is a flag indicating whether the payload should be\n",
            " |      decoded or not, according to the Content-Transfer-Encoding header\n",
            " |      (default is False).\n",
            " |      \n",
            " |      When True and the message is not a multipart, the payload will be\n",
            " |      decoded if this header's value is `quoted-printable' or `base64'.  If\n",
            " |      some other encoding is used, or the header is missing, or if the\n",
            " |      payload has bogus data (i.e. bogus base64 or uuencoded data), the\n",
            " |      payload is returned as-is.\n",
            " |      \n",
            " |      If the message is a multipart and the decode flag is True, then None\n",
            " |      is returned.\n",
            " |  \n",
            " |  get_unixfrom(self)\n",
            " |  \n",
            " |  is_multipart(self)\n",
            " |      Return True if the message consists of multiple parts.\n",
            " |  \n",
            " |  items(self)\n",
            " |      Get all the message's header fields and values.\n",
            " |      \n",
            " |      These will be sorted in the order they appeared in the original\n",
            " |      message, or were added to the message, and may contain duplicates.\n",
            " |      Any fields deleted and re-inserted are always appended to the header\n",
            " |      list.\n",
            " |  \n",
            " |  keys(self)\n",
            " |      Return a list of all the message's header field names.\n",
            " |      \n",
            " |      These will be sorted in the order they appeared in the original\n",
            " |      message, or were added to the message, and may contain duplicates.\n",
            " |      Any fields deleted and re-inserted are always appended to the header\n",
            " |      list.\n",
            " |  \n",
            " |  raw_items(self)\n",
            " |      Return the (name, value) header pairs without modification.\n",
            " |      \n",
            " |      This is an \"internal\" API, intended only for use by a generator.\n",
            " |  \n",
            " |  replace_header(self, _name, _value)\n",
            " |      Replace a header.\n",
            " |      \n",
            " |      Replace the first matching header found in the message, retaining\n",
            " |      header order and case.  If no matching header was found, a KeyError is\n",
            " |      raised.\n",
            " |  \n",
            " |  set_boundary(self, boundary)\n",
            " |      Set the boundary parameter in Content-Type to 'boundary'.\n",
            " |      \n",
            " |      This is subtly different than deleting the Content-Type header and\n",
            " |      adding a new one with a new boundary parameter via add_header().  The\n",
            " |      main difference is that using the set_boundary() method preserves the\n",
            " |      order of the Content-Type header in the original message.\n",
            " |      \n",
            " |      HeaderParseError is raised if the message has no Content-Type header.\n",
            " |  \n",
            " |  set_charset(self, charset)\n",
            " |      Set the charset of the payload to a given character set.\n",
            " |      \n",
            " |      charset can be a Charset instance, a string naming a character set, or\n",
            " |      None.  If it is a string it will be converted to a Charset instance.\n",
            " |      If charset is None, the charset parameter will be removed from the\n",
            " |      Content-Type field.  Anything else will generate a TypeError.\n",
            " |      \n",
            " |      The message will be assumed to be of type text/* encoded with\n",
            " |      charset.input_charset.  It will be converted to charset.output_charset\n",
            " |      and encoded properly, if needed, when generating the plain text\n",
            " |      representation of the message.  MIME headers (MIME-Version,\n",
            " |      Content-Type, Content-Transfer-Encoding) will be added as needed.\n",
            " |  \n",
            " |  set_default_type(self, ctype)\n",
            " |      Set the `default' content type.\n",
            " |      \n",
            " |      ctype should be either \"text/plain\" or \"message/rfc822\", although this\n",
            " |      is not enforced.  The default content type is not stored in the\n",
            " |      Content-Type header.\n",
            " |  \n",
            " |  set_param(self, param, value, header='Content-Type', requote=True, charset=None, language='', replace=False)\n",
            " |      Set a parameter in the Content-Type header.\n",
            " |      \n",
            " |      If the parameter already exists in the header, its value will be\n",
            " |      replaced with the new value.\n",
            " |      \n",
            " |      If header is Content-Type and has not yet been defined for this\n",
            " |      message, it will be set to \"text/plain\" and the new parameter and\n",
            " |      value will be appended as per RFC 2045.\n",
            " |      \n",
            " |      An alternate header can be specified in the header argument, and all\n",
            " |      parameters will be quoted as necessary unless requote is False.\n",
            " |      \n",
            " |      If charset is specified, the parameter will be encoded according to RFC\n",
            " |      2231.  Optional language specifies the RFC 2231 language, defaulting\n",
            " |      to the empty string.  Both charset and language should be strings.\n",
            " |  \n",
            " |  set_payload(self, payload, charset=None)\n",
            " |      Set the payload to the given value.\n",
            " |      \n",
            " |      Optional charset sets the message's default character set.  See\n",
            " |      set_charset() for details.\n",
            " |  \n",
            " |  set_raw(self, name, value)\n",
            " |      Store name and value in the model without modification.\n",
            " |      \n",
            " |      This is an \"internal\" API, intended only for use by a parser.\n",
            " |  \n",
            " |  set_type(self, type, header='Content-Type', requote=True)\n",
            " |      Set the main type and subtype for the Content-Type header.\n",
            " |      \n",
            " |      type must be a string in the form \"maintype/subtype\", otherwise a\n",
            " |      ValueError is raised.\n",
            " |      \n",
            " |      This method replaces the Content-Type header, keeping all the\n",
            " |      parameters in place.  If requote is False, this leaves the existing\n",
            " |      header's quoting as is.  Otherwise, the parameters will be quoted (the\n",
            " |      default).\n",
            " |      \n",
            " |      An alternative header can be specified in the header argument.  When\n",
            " |      the Content-Type header is set, we'll always also add a MIME-Version\n",
            " |      header.\n",
            " |  \n",
            " |  set_unixfrom(self, unixfrom)\n",
            " |      # Unix From_ line\n",
            " |  \n",
            " |  values(self)\n",
            " |      Return a list of all the message's header values.\n",
            " |      \n",
            " |      These will be sorted in the order they appeared in the original\n",
            " |      message, or were added to the message, and may contain duplicates.\n",
            " |      Any fields deleted and re-inserted are always appended to the header\n",
            " |      list.\n",
            " |  \n",
            " |  walk(self)\n",
            " |      Walk over the message tree, yielding each subpart.\n",
            " |      \n",
            " |      The walk is performed in depth-first order.  This method is a\n",
            " |      generator.\n",
            " |  \n",
            " |  ----------------------------------------------------------------------\n",
            " |  Data descriptors inherited from Message:\n",
            " |  \n",
            " |  __dict__\n",
            " |      dictionary for instance variables (if defined)\n",
            " |  \n",
            " |  __weakref__\n",
            " |      list of weak references to the object (if defined)\n",
            "\n"
          ]
        }
      ]
    },
    {
      "cell_type": "code",
      "source": [
        "print(ham_1[0].get_content().strip())"
      ],
      "metadata": {
        "colab": {
          "base_uri": "https://localhost:8080/"
        },
        "id": "0hTNJ0Zjidf5",
        "outputId": "1bdca12f-1c85-4d86-b1be-aac916b8672f"
      },
      "execution_count": 15,
      "outputs": [
        {
          "output_type": "stream",
          "name": "stdout",
          "text": [
            "Date:        Wed, 21 Aug 2002 10:54:46 -0500\n",
            "    From:        Chris Garrigues <cwg-dated-1030377287.06fa6d@DeepEddy.Com>\n",
            "    Message-ID:  <1029945287.4797.TMDA@deepeddy.vircio.com>\n",
            "\n",
            "\n",
            "  | I can't reproduce this error.\n",
            "\n",
            "For me it is very repeatable... (like every time, without fail).\n",
            "\n",
            "This is the debug log of the pick happening ...\n",
            "\n",
            "18:19:03 Pick_It {exec pick +inbox -list -lbrace -lbrace -subject ftp -rbrace -rbrace} {4852-4852 -sequence mercury}\n",
            "18:19:03 exec pick +inbox -list -lbrace -lbrace -subject ftp -rbrace -rbrace 4852-4852 -sequence mercury\n",
            "18:19:04 Ftoc_PickMsgs {{1 hit}}\n",
            "18:19:04 Marking 1 hits\n",
            "18:19:04 tkerror: syntax error in expression \"int ...\n",
            "\n",
            "Note, if I run the pick command by hand ...\n",
            "\n",
            "delta$ pick +inbox -list -lbrace -lbrace -subject ftp -rbrace -rbrace  4852-4852 -sequence mercury\n",
            "1 hit\n",
            "\n",
            "That's where the \"1 hit\" comes from (obviously).  The version of nmh I'm\n",
            "using is ...\n",
            "\n",
            "delta$ pick -version\n",
            "pick -- nmh-1.0.4 [compiled on fuchsia.cs.mu.OZ.AU at Sun Mar 17 14:55:56 ICT 2002]\n",
            "\n",
            "And the relevant part of my .mh_profile ...\n",
            "\n",
            "delta$ mhparam pick\n",
            "-seq sel -list\n",
            "\n",
            "\n",
            "Since the pick command works, the sequence (actually, both of them, the\n",
            "one that's explicit on the command line, from the search popup, and the\n",
            "one that comes from .mh_profile) do get created.\n",
            "\n",
            "kre\n",
            "\n",
            "ps: this is still using the version of the code form a day ago, I haven't\n",
            "been able to reach the cvs repository today (local routing issue I think).\n",
            "\n",
            "\n",
            "\n",
            "_______________________________________________\n",
            "Exmh-workers mailing list\n",
            "Exmh-workers@redhat.com\n",
            "https://listman.redhat.com/mailman/listinfo/exmh-workers\n"
          ]
        }
      ]
    },
    {
      "cell_type": "code",
      "source": [
        "print(ham_1[0].get_body())"
      ],
      "metadata": {
        "colab": {
          "base_uri": "https://localhost:8080/"
        },
        "id": "f1uF52n8i7cD",
        "outputId": "2a8d6bd8-f83a-41cb-ba56-9748d7bc085b"
      },
      "execution_count": 16,
      "outputs": [
        {
          "output_type": "stream",
          "name": "stdout",
          "text": [
            "Return-Path: <exmh-workers-admin@spamassassin.taint.org>\n",
            "Delivered-To: zzzz@localhost.netnoteinc.com\n",
            "Received: from localhost (localhost [127.0.0.1])\n",
            "\tby phobos.labs.netnoteinc.com (Postfix) with ESMTP id D03E543C36\n",
            "\tfor <zzzz@localhost>; Thu, 22 Aug 2002 07:36:16 -0400 (EDT)\n",
            "Received: from phobos [127.0.0.1]\n",
            "\tby localhost with IMAP (fetchmail-5.9.0)\n",
            "\tfor zzzz@localhost (single-drop); Thu, 22 Aug 2002 12:36:16 +0100 (IST)\n",
            "Received: from listman.spamassassin.taint.org (listman.spamassassin.taint.org\n",
            " [66.187.233.211]) by    dogma.slashnull.org (8.11.6/8.11.6) with ESMTP id\n",
            " g7MBYrZ04811 for    <zzzz-exmh@spamassassin.taint.org>; Thu, 22 Aug 2002\n",
            " 12:34:53 +0100\n",
            "Received: from listman.spamassassin.taint.org (localhost.localdomain\n",
            " [127.0.0.1]) by    listman.redhat.com (Postfix) with ESMTP id 8386540858;\n",
            " Thu, 22 Aug 2002    07:35:02 -0400 (EDT)\n",
            "Delivered-To: exmh-workers@listman.spamassassin.taint.org\n",
            "Received: from int-mx1.corp.spamassassin.taint.org\n",
            " (int-mx1.corp.spamassassin.taint.org    [172.16.52.254]) by\n",
            " listman.redhat.com (Postfix) with ESMTP id 10CF8406D7    for\n",
            " <exmh-workers@listman.redhat.com>; Thu, 22 Aug 2002 07:34:10 -0400    (EDT)\n",
            "Received: (from mail@localhost) by int-mx1.corp.spamassassin.taint.org\n",
            " (8.11.6/8.11.6)    id g7MBY7g11259 for exmh-workers@listman.redhat.com; Thu,\n",
            " 22 Aug 2002    07:34:07 -0400\n",
            "Received: from mx1.spamassassin.taint.org (mx1.spamassassin.taint.org\n",
            " [172.16.48.31]) by    int-mx1.corp.redhat.com (8.11.6/8.11.6) with SMTP id\n",
            " g7MBY7Y11255 for    <exmh-workers@redhat.com>; Thu, 22 Aug 2002 07:34:07\n",
            " -0400\n",
            "Received: from ratree.psu.ac.th ([202.28.97.6]) by mx1.spamassassin.taint.org\n",
            "    (8.11.6/8.11.6) with SMTP id g7MBIhl25223 for <exmh-workers@redhat.com>;\n",
            "    Thu, 22 Aug 2002 07:18:55 -0400\n",
            "Received: from delta.cs.mu.OZ.AU (delta.coe.psu.ac.th [172.30.0.98]) by\n",
            "    ratree.psu.ac.th (8.11.6/8.11.6) with ESMTP id g7MBWel29762;\n",
            "    Thu, 22 Aug 2002 18:32:40 +0700 (ICT)\n",
            "Received: from munnari.OZ.AU (localhost [127.0.0.1]) by delta.cs.mu.OZ.AU\n",
            "    (8.11.6/8.11.6) with ESMTP id g7MBQPW13260; Thu, 22 Aug 2002 18:26:25\n",
            "    +0700 (ICT)\n",
            "From: Robert Elz <kre@munnari.OZ.AU>\n",
            "To: Chris Garrigues <cwg-dated-1030377287.06fa6d@DeepEddy.Com>\n",
            "Cc: exmh-workers@spamassassin.taint.org\n",
            "Subject: Re: New Sequences Window\n",
            "In-Reply-To: <1029945287.4797.TMDA@deepeddy.vircio.com>\n",
            "References: <1029945287.4797.TMDA@deepeddy.vircio.com>\n",
            "    <1029882468.3116.TMDA@deepeddy.vircio.com> <9627.1029933001@munnari.OZ.AU>\n",
            "    <1029943066.26919.TMDA@deepeddy.vircio.com>\n",
            "    <1029944441.398.TMDA@deepeddy.vircio.com>\n",
            "MIME-Version: 1.0\n",
            "Content-Type: text/plain; charset=us-ascii\n",
            "Message-Id: <13258.1030015585@munnari.OZ.AU>\n",
            "X-Loop: exmh-workers@spamassassin.taint.org\n",
            "Sender: exmh-workers-admin@spamassassin.taint.org\n",
            "Errors-To: exmh-workers-admin@spamassassin.taint.org\n",
            "X-Beenthere: exmh-workers@spamassassin.taint.org\n",
            "X-Mailman-Version: 2.0.1\n",
            "Precedence: bulk\n",
            "List-Help: <mailto:exmh-workers-request@spamassassin.taint.org?subject=help>\n",
            "List-Post: <mailto:exmh-workers@spamassassin.taint.org>\n",
            "List-Subscribe:\n",
            " <https://listman.spamassassin.taint.org/mailman/listinfo/exmh-workers>,   \n",
            " <mailto:exmh-workers-request@redhat.com?subject=subscribe>\n",
            "List-Id:\n",
            " Discussion list for EXMH developers <exmh-workers.spamassassin.taint.org>\n",
            "List-Unsubscribe:\n",
            " <https://listman.spamassassin.taint.org/mailman/listinfo/exmh-workers>,   \n",
            " <mailto:exmh-workers-request@redhat.com?subject=unsubscribe>\n",
            "List-Archive:\n",
            " <https://listman.spamassassin.taint.org/mailman/private/exmh-workers/>\n",
            "Date: Thu, 22 Aug 2002 18:26:25 +0700\n",
            "\n",
            "    Date:        Wed, 21 Aug 2002 10:54:46 -0500\n",
            "    From:        Chris Garrigues <cwg-dated-1030377287.06fa6d@DeepEddy.Com>\n",
            "    Message-ID:  <1029945287.4797.TMDA@deepeddy.vircio.com>\n",
            "\n",
            "\n",
            "  | I can't reproduce this error.\n",
            "\n",
            "For me it is very repeatable... (like every time, without fail).\n",
            "\n",
            "This is the debug log of the pick happening ...\n",
            "\n",
            "18:19:03 Pick_It {exec pick +inbox -list -lbrace -lbrace -subject ftp -rbrace -rbrace} {4852-4852 -sequence mercury}\n",
            "18:19:03 exec pick +inbox -list -lbrace -lbrace -subject ftp -rbrace -rbrace 4852-4852 -sequence mercury\n",
            "18:19:04 Ftoc_PickMsgs {{1 hit}}\n",
            "18:19:04 Marking 1 hits\n",
            "18:19:04 tkerror: syntax error in expression \"int ...\n",
            "\n",
            "Note, if I run the pick command by hand ...\n",
            "\n",
            "delta$ pick +inbox -list -lbrace -lbrace -subject ftp -rbrace -rbrace  4852-4852 -sequence mercury\n",
            "1 hit\n",
            "\n",
            "That's where the \"1 hit\" comes from (obviously).  The version of nmh I'm\n",
            "using is ...\n",
            "\n",
            "delta$ pick -version\n",
            "pick -- nmh-1.0.4 [compiled on fuchsia.cs.mu.OZ.AU at Sun Mar 17 14:55:56 ICT 2002]\n",
            "\n",
            "And the relevant part of my .mh_profile ...\n",
            "\n",
            "delta$ mhparam pick\n",
            "-seq sel -list\n",
            "\n",
            "\n",
            "Since the pick command works, the sequence (actually, both of them, the\n",
            "one that's explicit on the command line, from the search popup, and the\n",
            "one that comes from .mh_profile) do get created.\n",
            "\n",
            "kre\n",
            "\n",
            "ps: this is still using the version of the code form a day ago, I haven't\n",
            "been able to reach the cvs repository today (local routing issue I think).\n",
            "\n",
            "\n",
            "\n",
            "_______________________________________________\n",
            "Exmh-workers mailing list\n",
            "Exmh-workers@redhat.com\n",
            "https://listman.redhat.com/mailman/listinfo/exmh-workers\n",
            "\n",
            "\n"
          ]
        }
      ]
    },
    {
      "cell_type": "code",
      "source": [
        "print(ham_1[0].get_payload())"
      ],
      "metadata": {
        "colab": {
          "base_uri": "https://localhost:8080/"
        },
        "id": "meCDsjBBi85u",
        "outputId": "36ead707-86a9-4bdf-de38-8eac85de91e0"
      },
      "execution_count": 17,
      "outputs": [
        {
          "output_type": "stream",
          "name": "stdout",
          "text": [
            "    Date:        Wed, 21 Aug 2002 10:54:46 -0500\n",
            "    From:        Chris Garrigues <cwg-dated-1030377287.06fa6d@DeepEddy.Com>\n",
            "    Message-ID:  <1029945287.4797.TMDA@deepeddy.vircio.com>\n",
            "\n",
            "\n",
            "  | I can't reproduce this error.\n",
            "\n",
            "For me it is very repeatable... (like every time, without fail).\n",
            "\n",
            "This is the debug log of the pick happening ...\n",
            "\n",
            "18:19:03 Pick_It {exec pick +inbox -list -lbrace -lbrace -subject ftp -rbrace -rbrace} {4852-4852 -sequence mercury}\n",
            "18:19:03 exec pick +inbox -list -lbrace -lbrace -subject ftp -rbrace -rbrace 4852-4852 -sequence mercury\n",
            "18:19:04 Ftoc_PickMsgs {{1 hit}}\n",
            "18:19:04 Marking 1 hits\n",
            "18:19:04 tkerror: syntax error in expression \"int ...\n",
            "\n",
            "Note, if I run the pick command by hand ...\n",
            "\n",
            "delta$ pick +inbox -list -lbrace -lbrace -subject ftp -rbrace -rbrace  4852-4852 -sequence mercury\n",
            "1 hit\n",
            "\n",
            "That's where the \"1 hit\" comes from (obviously).  The version of nmh I'm\n",
            "using is ...\n",
            "\n",
            "delta$ pick -version\n",
            "pick -- nmh-1.0.4 [compiled on fuchsia.cs.mu.OZ.AU at Sun Mar 17 14:55:56 ICT 2002]\n",
            "\n",
            "And the relevant part of my .mh_profile ...\n",
            "\n",
            "delta$ mhparam pick\n",
            "-seq sel -list\n",
            "\n",
            "\n",
            "Since the pick command works, the sequence (actually, both of them, the\n",
            "one that's explicit on the command line, from the search popup, and the\n",
            "one that comes from .mh_profile) do get created.\n",
            "\n",
            "kre\n",
            "\n",
            "ps: this is still using the version of the code form a day ago, I haven't\n",
            "been able to reach the cvs repository today (local routing issue I think).\n",
            "\n",
            "\n",
            "\n",
            "_______________________________________________\n",
            "Exmh-workers mailing list\n",
            "Exmh-workers@redhat.com\n",
            "https://listman.redhat.com/mailman/listinfo/exmh-workers\n",
            "\n",
            "\n"
          ]
        }
      ]
    },
    {
      "cell_type": "code",
      "source": [
        "ham_1[0].get_content_type()"
      ],
      "metadata": {
        "colab": {
          "base_uri": "https://localhost:8080/",
          "height": 35
        },
        "id": "gFoooVKKjIhG",
        "outputId": "f398b0a2-2ef7-4bb0-cee2-6db593698a72"
      },
      "execution_count": 18,
      "outputs": [
        {
          "output_type": "execute_result",
          "data": {
            "text/plain": [
              "'text/plain'"
            ],
            "application/vnd.google.colaboratory.intrinsic+json": {
              "type": "string"
            }
          },
          "metadata": {},
          "execution_count": 18
        }
      ]
    },
    {
      "cell_type": "code",
      "source": [
        "ham_1[0].items()"
      ],
      "metadata": {
        "colab": {
          "base_uri": "https://localhost:8080/"
        },
        "id": "1T8k0W9mjTef",
        "outputId": "16e20e06-91cd-4241-e2a6-151c33dc40eb"
      },
      "execution_count": 19,
      "outputs": [
        {
          "output_type": "execute_result",
          "data": {
            "text/plain": [
              "[('Return-Path', '<exmh-workers-admin@spamassassin.taint.org>'),\n",
              " ('Delivered-To', 'zzzz@localhost.netnoteinc.com'),\n",
              " ('Received',\n",
              "  'from localhost (localhost [127.0.0.1])\\tby phobos.labs.netnoteinc.com (Postfix) with ESMTP id D03E543C36\\tfor <zzzz@localhost>; Thu, 22 Aug 2002 07:36:16 -0400 (EDT)'),\n",
              " ('Received',\n",
              "  'from phobos [127.0.0.1]\\tby localhost with IMAP (fetchmail-5.9.0)\\tfor zzzz@localhost (single-drop); Thu, 22 Aug 2002 12:36:16 +0100 (IST)'),\n",
              " ('Received',\n",
              "  'from listman.spamassassin.taint.org (listman.spamassassin.taint.org [66.187.233.211]) by    dogma.slashnull.org (8.11.6/8.11.6) with ESMTP id g7MBYrZ04811 for    <zzzz-exmh@spamassassin.taint.org>; Thu, 22 Aug 2002 12:34:53 +0100'),\n",
              " ('Received',\n",
              "  'from listman.spamassassin.taint.org (localhost.localdomain [127.0.0.1]) by    listman.redhat.com (Postfix) with ESMTP id 8386540858; Thu, 22 Aug 2002    07:35:02 -0400 (EDT)'),\n",
              " ('Delivered-To', 'exmh-workers@listman.spamassassin.taint.org'),\n",
              " ('Received',\n",
              "  'from int-mx1.corp.spamassassin.taint.org (int-mx1.corp.spamassassin.taint.org    [172.16.52.254]) by listman.redhat.com (Postfix) with ESMTP id 10CF8406D7    for <exmh-workers@listman.redhat.com>; Thu, 22 Aug 2002 07:34:10 -0400    (EDT)'),\n",
              " ('Received',\n",
              "  '(from mail@localhost) by int-mx1.corp.spamassassin.taint.org (8.11.6/8.11.6)    id g7MBY7g11259 for exmh-workers@listman.redhat.com; Thu, 22 Aug 2002    07:34:07 -0400'),\n",
              " ('Received',\n",
              "  'from mx1.spamassassin.taint.org (mx1.spamassassin.taint.org [172.16.48.31]) by    int-mx1.corp.redhat.com (8.11.6/8.11.6) with SMTP id g7MBY7Y11255 for    <exmh-workers@redhat.com>; Thu, 22 Aug 2002 07:34:07 -0400'),\n",
              " ('Received',\n",
              "  'from ratree.psu.ac.th ([202.28.97.6]) by mx1.spamassassin.taint.org    (8.11.6/8.11.6) with SMTP id g7MBIhl25223 for <exmh-workers@redhat.com>;    Thu, 22 Aug 2002 07:18:55 -0400'),\n",
              " ('Received',\n",
              "  'from delta.cs.mu.OZ.AU (delta.coe.psu.ac.th [172.30.0.98]) by    ratree.psu.ac.th (8.11.6/8.11.6) with ESMTP id g7MBWel29762;    Thu, 22 Aug 2002 18:32:40 +0700 (ICT)'),\n",
              " ('Received',\n",
              "  'from munnari.OZ.AU (localhost [127.0.0.1]) by delta.cs.mu.OZ.AU    (8.11.6/8.11.6) with ESMTP id g7MBQPW13260; Thu, 22 Aug 2002 18:26:25    +0700 (ICT)'),\n",
              " ('From', 'Robert Elz <kre@munnari.OZ.AU>'),\n",
              " ('To', 'Chris Garrigues <cwg-dated-1030377287.06fa6d@DeepEddy.Com>'),\n",
              " ('Cc', 'exmh-workers@spamassassin.taint.org'),\n",
              " ('Subject', 'Re: New Sequences Window'),\n",
              " ('In-Reply-To', '<1029945287.4797.TMDA@deepeddy.vircio.com>'),\n",
              " ('References',\n",
              "  '<1029945287.4797.TMDA@deepeddy.vircio.com>    <1029882468.3116.TMDA@deepeddy.vircio.com> <9627.1029933001@munnari.OZ.AU>    <1029943066.26919.TMDA@deepeddy.vircio.com>    <1029944441.398.TMDA@deepeddy.vircio.com>'),\n",
              " ('MIME-Version', '1.0'),\n",
              " ('Content-Type', 'text/plain; charset=\"us-ascii\"'),\n",
              " ('Message-Id', '<13258.1030015585@munnari.OZ.AU>'),\n",
              " ('X-Loop', 'exmh-workers@spamassassin.taint.org'),\n",
              " ('Sender', 'exmh-workers-admin@spamassassin.taint.org'),\n",
              " ('Errors-To', 'exmh-workers-admin@spamassassin.taint.org'),\n",
              " ('X-Beenthere', 'exmh-workers@spamassassin.taint.org'),\n",
              " ('X-Mailman-Version', '2.0.1'),\n",
              " ('Precedence', 'bulk'),\n",
              " ('List-Help',\n",
              "  '<mailto:exmh-workers-request@spamassassin.taint.org?subject=help>'),\n",
              " ('List-Post', '<mailto:exmh-workers@spamassassin.taint.org>'),\n",
              " ('List-Subscribe',\n",
              "  '<https://listman.spamassassin.taint.org/mailman/listinfo/exmh-workers>,    <mailto:exmh-workers-request@redhat.com?subject=subscribe>'),\n",
              " ('List-Id',\n",
              "  'Discussion list for EXMH developers <exmh-workers.spamassassin.taint.org>'),\n",
              " ('List-Unsubscribe',\n",
              "  '<https://listman.spamassassin.taint.org/mailman/listinfo/exmh-workers>,    <mailto:exmh-workers-request@redhat.com?subject=unsubscribe>'),\n",
              " ('List-Archive',\n",
              "  '<https://listman.spamassassin.taint.org/mailman/private/exmh-workers/>'),\n",
              " ('Date', 'Thu, 22 Aug 2002 18:26:25 +0700')]"
            ]
          },
          "metadata": {},
          "execution_count": 19
        }
      ]
    },
    {
      "cell_type": "code",
      "source": [
        "from sklearn.model_selection import train_test_split"
      ],
      "metadata": {
        "id": "viKfryq8joOS"
      },
      "execution_count": 20,
      "outputs": []
    },
    {
      "cell_type": "code",
      "source": [
        "X = np.array(ham_1 + ham_2 + ham_3 + spam_1 + spam_2, dtype=object)\n",
        "y = np.array([0] * (len(ham_1) + len(ham_2) + len(ham_3)) + [1] * (len(spam_1) + len(spam_2)))"
      ],
      "metadata": {
        "id": "tjRNvjlMrVdv"
      },
      "execution_count": 24,
      "outputs": []
    },
    {
      "cell_type": "code",
      "source": [
        "X_train, X_test, y_train, y_test = train_test_split(X, y, test_size=0.2, random_state=seed)"
      ],
      "metadata": {
        "id": "NUtfRt_1rb3x"
      },
      "execution_count": 25,
      "outputs": []
    },
    {
      "cell_type": "code",
      "source": [
        "!pip install beautifulsoup4"
      ],
      "metadata": {
        "colab": {
          "base_uri": "https://localhost:8080/"
        },
        "id": "YpKo0fxksNdT",
        "outputId": "73880733-50a3-476f-c1aa-fd716464cf81"
      },
      "execution_count": 26,
      "outputs": [
        {
          "output_type": "stream",
          "name": "stdout",
          "text": [
            "Looking in indexes: https://pypi.org/simple, https://us-python.pkg.dev/colab-wheels/public/simple/\n",
            "Requirement already satisfied: beautifulsoup4 in /usr/local/lib/python3.8/dist-packages (4.6.3)\n"
          ]
        }
      ]
    },
    {
      "cell_type": "code",
      "source": [
        "def get_email_structure(email):\n",
        "    if isinstance(email, str):\n",
        "        return email\n",
        "    payload = email.get_payload()\n",
        "    if isinstance(payload, list):\n",
        "        return \"multipart({})\".format(\", \".join([\n",
        "            get_email_structure(sub_email) for sub_email in payload\n",
        "        ]))\n",
        "    else:\n",
        "        return email.get_content_type()"
      ],
      "metadata": {
        "id": "C1PxMoF0s3Ll"
      },
      "execution_count": 28,
      "outputs": []
    },
    {
      "cell_type": "code",
      "source": [
        "html_emails = [email for email in X_train if get_email_structure(email) == \"text/html\"]"
      ],
      "metadata": {
        "id": "6c47VmYZseI9"
      },
      "execution_count": 29,
      "outputs": []
    },
    {
      "cell_type": "code",
      "source": [
        "print(html_emails[0].get_content().strip()[:1000], \"...\")"
      ],
      "metadata": {
        "colab": {
          "base_uri": "https://localhost:8080/"
        },
        "id": "f09fxqlwspPS",
        "outputId": "d9d38312-c729-4bcd-d26f-47ef119a2f6b"
      },
      "execution_count": 33,
      "outputs": [
        {
          "output_type": "stream",
          "name": "stdout",
          "text": [
            "<!-- saved from url=(0022)http://internet.e-mail -->\n",
            "<!DOCTYPE HTML PUBLIC \"-//W3C//DTD HTML 4.01 Transitional//EN\">\n",
            "<html>\n",
            "<head>\n",
            "\t<title>NO MONEY Down Merchant Accounts!</title>\n",
            "</head>\n",
            "<style type=\"text/css\">.main {  font-family: Verdana, Arial, Helvetica, sans-serif; font-size: 12px; color: #000080}\n",
            ".footer {  font-family: Verdana, Arial, Helvetica, sans-serif; font-size: 10px; color: #000000}\n",
            "A:link {text-decoration: none; color: #0808F1}\n",
            "A:visited {text-decoration: none; color: #0808F1}\n",
            "A:active {text-decoration: none; color: #FF0000}\n",
            "A:hover {text-decoration: none; color: #1B3351}</style>\n",
            "\n",
            "<body topmargin=\"4\" leftmargin=\"4\"><table width=\"500\" align=\"center\" cellspacing=\"0\" cellpadding=\"2\"  border=\"1\" bordercolor=\"#1A1929\">\n",
            "<tr>\n",
            "\t<td><table width=\"496\" bgcolor=\"#E0E9F1\" border=\"0\">\n",
            "<tr>\n",
            "\t<td><table>\n",
            "<tr>\n",
            "\t<td><img src=\"http://61.129.81.74/images/add1.1.gif\" alt=\"\" width=\"101\" height=\"140\" border=\"0\"></td>\n",
            "    <td align=\"justify\" valign=\"top\" class=\"main\"><strong><font size=\"4\" fa ...\n"
          ]
        }
      ]
    },
    {
      "cell_type": "code",
      "source": [
        "from bs4 import BeautifulSoup as bs\n",
        "import re"
      ],
      "metadata": {
        "id": "H5Ewgo6NuYQ2"
      },
      "execution_count": 45,
      "outputs": []
    },
    {
      "cell_type": "code",
      "source": [
        "# https://docs.python.org/ko/3/library/re.html?highlight=re#flags\n",
        "def html_to_plain_text(html):\n",
        "    text = bs(html, \"html.parser\").get_text()\n",
        "    text = re.sub(r'\\..*?\\{.*?\\}', '', text, flags=re.M|re.S|re.I)\n",
        "    text = re.sub(r'A\\:.*?\\{.*?\\}', '', text, flags=re.M|re.S|re.I)\n",
        "    text = re.sub('<.*?>', '', text, flags=re.M|re.S)\n",
        "    text = re.sub(r'(\\s*\\n)+', '\\n', text, flags=re.M|re.S)\n",
        "    text = re.sub(r'(\\s*\\s)+', ' ', text, flags=re.M|re.S)\n",
        "    text = text.replace(u'\\xa0', u' ')\n",
        "    return text"
      ],
      "metadata": {
        "id": "A0ipS6Weu3KM"
      },
      "execution_count": 295,
      "outputs": []
    },
    {
      "cell_type": "code",
      "source": [
        "sample_content = html_emails[0].get_content()\n",
        "sample_ps = bs(sample_content, 'html.parser').get_text()\n",
        "sample_ps"
      ],
      "metadata": {
        "colab": {
          "base_uri": "https://localhost:8080/",
          "height": 125
        },
        "id": "WaF4SZxPusCU",
        "outputId": "139a3620-9c1e-4709-d120-614e155cb3bb"
      },
      "execution_count": 296,
      "outputs": [
        {
          "output_type": "execute_result",
          "data": {
            "text/plain": [
              "\"\\n\\n\\n\\nNO MONEY Down Merchant Accounts!\\n\\n.main {  font-family: Verdana, Arial, Helvetica, sans-serif; font-size: 12px; color: #000080}\\n.footer {  font-family: Verdana, Arial, Helvetica, sans-serif; font-size: 10px; color: #000000}\\nA:link {text-decoration: none; color: #0808F1}\\nA:visited {text-decoration: none; color: #0808F1}\\nA:active {text-decoration: none; color: #FF0000}\\nA:hover {text-decoration: none; color: #1B3351}\\n\\n\\n\\n\\n\\n\\n\\nNO MONEY Down Merchant Accounts!\\nIf you own your own business, you're starting a new business or know someone who is... Being able to accept Major Credit Cards can make all the difference in the world!\\nCLICK HERE\\n\\n\\n\\nJust the fact that you accept credit cards adds credibility to your business. Especially if you are a New, Small or Home Based Business.\\nNo Payment For The First Month!\\nSetup within 3-5 Days\\nApproval is quick and our set up times range from 3 - 5 days. Guaranteed approval on all leases for equipment or software. Bad credit, no credit, no problem!\\nACCEPT CREDIT CARDS ONLINE or OFFLINE !!\\nCLICK HERE\\n\\n\\n\\n\\n\\nIf you'd like to be removed from our mailing list, please click on the link below. \\nWe protect all email addresses from third parties. Thank you. Please remove me.\\n\\n\\n\\n\\n\""
            ],
            "application/vnd.google.colaboratory.intrinsic+json": {
              "type": "string"
            }
          },
          "metadata": {},
          "execution_count": 296
        }
      ]
    },
    {
      "cell_type": "code",
      "source": [
        "html_to_plain_text(sample_content)"
      ],
      "metadata": {
        "colab": {
          "base_uri": "https://localhost:8080/",
          "height": 107
        },
        "id": "o9D5QVM81grq",
        "outputId": "e9a22121-d789-4e87-9fcf-58e86cf9f152"
      },
      "execution_count": 297,
      "outputs": [
        {
          "output_type": "execute_result",
          "data": {
            "text/plain": [
              "\" NO MONEY Down Merchant Accounts! NO MONEY Down Merchant Accounts! If you own your own business, you're starting a new business or know someone who is... Being able to accept Major Credit Cards can make all the difference in the world! CLICK HERE Just the fact that you accept credit cards adds credibility to your business. Especially if you are a New, Small or Home Based Business. No Payment For The First Month! Setup within 3-5 Days Approval is quick and our set up times range from 3 - 5 days. Guaranteed approval on all leases for equipment or software. Bad credit, no credit, no problem! ACCEPT CREDIT CARDS ONLINE or OFFLINE !! CLICK HERE If you'd like to be removed from our mailing list, please click on the link below. We protect all email addresses from third parties. Thank you. Please remove me. \""
            ],
            "application/vnd.google.colaboratory.intrinsic+json": {
              "type": "string"
            }
          },
          "metadata": {},
          "execution_count": 297
        }
      ]
    },
    {
      "cell_type": "code",
      "source": [
        "sample_content = html_emails[2].get_content()\n",
        "sample_ps = bs(sample_content, 'html.parser').get_text()\n",
        "sample_ps"
      ],
      "metadata": {
        "colab": {
          "base_uri": "https://localhost:8080/",
          "height": 107
        },
        "id": "VX1p8Jmow4uz",
        "outputId": "8c49f613-b5e3-4c30-978b-48dbad90b362"
      },
      "execution_count": 278,
      "outputs": [
        {
          "output_type": "execute_result",
          "data": {
            "text/plain": [
              "'\\nBeautiful,Custom Websites for $399 Complete!\\n\\n\\n\\n\\n\\n\\n\\n\\nBeautiful, 100% Custom \\n      Websites, $399 Complete!\\n\\n\\n\\n\\n\\n\\n\\n\\n\\n\\n\\n\\n\\n\\n\\n\\n\\n\\nGet a beautiful, 100% Custom Web Site (or \\n                        yours redesigned)\\xa0for only \\n                        $389!*We have references coast to \\n                        coast\\xa0and will give you plenty of sites to \\n                        view!\\nIncludes up to \\n                  7 pages (you can add more), java rollover buttons, feedback \\n                  forms, more. It will be constructed to your taste and \\n                  specifications. We do not use templates,\\xa0 our sites \\n                  are completely custom.\\xa0\\xa0\\xa0 *Must host with us @ \\n                  $19.95/mo (100 Megs, 20 Email accounts, Control Panel, Front \\n                  Page, Graphical Statistics, \\n                  more).\\xa0\\nFor sites to \\n                  view, complete below or call our message center at \\n                  321-726-2209 (24 hours). Your call will be returned \\n                  promptly.NOTE:\\xa0\\xa0 If you are using a web \\n                  based email program (such as Yahoo, Hotmail, etc.) the form \\n                  below will not work.\\xa0 Instead of using the \\n                  form,\\xa0 CLICK \\n                  HERE .\\n\\n\\xa0\\xa0\\xa0 Name: Phone \\n                  w/AC*:State: Type Project: New Site:Redesign Flash Intro/banner\\xa0\\xa0 Current \\n                  site?:Comments:\\xa0\\xa0\\n\\nIf you do not wish to \\n            receive our messages, CLICK \\n            HERE \\xa0 (Please enter \\n            ALL email addresses (in the body of the message) you wish to have \\n            eliminated from future \\n        mailings.\\n\\n[3121jDvN9-@9]\\n\\n\\n'"
            ],
            "application/vnd.google.colaboratory.intrinsic+json": {
              "type": "string"
            }
          },
          "metadata": {},
          "execution_count": 278
        }
      ]
    },
    {
      "cell_type": "code",
      "source": [
        "html_to_plain_text(sample_content)"
      ],
      "metadata": {
        "colab": {
          "base_uri": "https://localhost:8080/",
          "height": 107
        },
        "id": "bSfKanJk9d_T",
        "outputId": "f179b996-35ba-41a2-a5c7-b1f1a36bb26b"
      },
      "execution_count": 281,
      "outputs": [
        {
          "output_type": "execute_result",
          "data": {
            "text/plain": [
              "\" NO MONEY Down Merchant Accounts! NO MONEY Down Merchant Accounts! If you own your own business, you're starting a new business or know someone who is... Being able to accept Major Credit Cards can make all the difference in the world! CLICK HERE Just the fact that you accept credit cards adds credibility to your business. Especially if you are a New, Small or Home Based Business. No Payment For The First Month! Setup within 3-5 Days Approval is quick and our set up times range from 3 - 5 days. Guaranteed approval on all leases for equipment or software. Bad credit, no credit, no problem! ACCEPT CREDIT CARDS ONLINE or OFFLINE !! CLICK HERE If you'd like to be removed from our mailing list, please click on the link below. We protect all email addresses from third parties. Thank you. Please remove me. \""
            ],
            "application/vnd.google.colaboratory.intrinsic+json": {
              "type": "string"
            }
          },
          "metadata": {},
          "execution_count": 281
        }
      ]
    },
    {
      "cell_type": "code",
      "source": [
        "sample_content = html_emails[3].get_content()\n",
        "sample_ps = bs(sample_content, 'html.parser').get_text()\n",
        "sample_ps"
      ],
      "metadata": {
        "colab": {
          "base_uri": "https://localhost:8080/",
          "height": 125
        },
        "id": "hHgGnfsb2gZJ",
        "outputId": "fd202e1e-d7f3-4291-d7cf-5c124dc8b62e"
      },
      "execution_count": 290,
      "outputs": [
        {
          "output_type": "execute_result",
          "data": {
            "text/plain": [
              "\"\\n\\n\\n\\n\\nEmail Marketing\\n\\n<!--\\n\\t\\t\\tspan.bug { color: black; font-size: 9px; line-height: 9px; font-family: Arial, Helvetica, sans-serif }-->\\n\\n\\n\\n\\n\\n\\n\\n\\n\\nThe power of Email Marketing\\n\\n\\n\\n\\n\\nEmail Marketing is spreading\\xa0around the whole\\xa0world                   \\n  because of its\\xa0high effectiveness,\\xa0                 \\n  speed\\xa0and\\xa0low cost.\\n\\n\\n\\n                  \\n  Now if you want to introduce and sell your product or service,\\xa0look for                   \\n  a\\xa0partner to\\xa0raise                   \\n  your website's reputation. The best way would be for you\\xa0to\\xa0use\\xa0email                   \\n  to contact your        \\n  targeted customer (of course,first,\\xa0you\\xa0have to\\xa0know their email addresses). \\n\\n\\n\\n\\nTargeted Email is no doubt very\\xa0 effective.\\xa0                   \\n  If you can introduce your product or service\\xa0                  \\n  through\\xa0email directly to the customers\\xa0who are interested\\xa0in                   \\n  them,\\xa0\\xa0 this will\\xa0 bring\\xa0your\\xa0                 \\n  business\\xa0a\\xa0better chance\\xa0of success.\\xa0\\n\\nXin.Lan\\xa0 Internet\\xa0 Marketing\\xa0                   \\nCenter,\\xa0 has\\xa0 many years of\\xa0experience in developing\\xa0and\\xa0                  \\nutilizing\\xa0internet resources.We have set\\xa0up\\xa0global\\xa0 business\\xa0                   \\nemail-address\\xa0databases\\xa0                   \\nwhich\\xa0contain \\xa0millions\\xa0of email addresses of commercial\\xa0                   \\nenterprises\\xa0 and consumers\\xa0                  \\nall over the world. These\\xa0emails are sorted by\\xa0countries\\xa0                   \\nand\\xa0 fields. We\\xa0also continuo-                  \\nusly\\xa0 update \\xa0our\\xa0 databases,\\xa0\\xa0 add\\xa0 new\\xa0                   \\naddresses\\xa0 and\\xa0\\xa0 remove \\xa0undeliverable\\xa0 and\\xa0                  \\nunsubscribed addresses.\\nWith the co-operation with our partners,\\xa0 we                   \\ncan supply\\xa0valid targeted email\\xa0addresses\\xa0                  \\naccording \\xa0to\\xa0 your\\xa0 requirements,\\xa0 by\\xa0 which\\xa0 you\\xa0can\\xa0                   \\neasily\\xa0 and \\xa0directly \\xa0contact\\xa0your\\xa0                  \\npotential\\xa0customers.With our help many enterprises and individuals\\xa0have\\xa0greatly                   \\nraised                   \\nthe\\xa0fame of their\\xa0products or service and found many potential                   \\ncustomers.\\n                  \\nWe also supply\\xa0a\\xa0 wide variety\\xa0of software.\\xa0 For example,                   \\nWcast,\\xa0 the software for\\xa0fast-                  \\nsending emails:this software is a powerful\\xa0                   \\nInternet\\xa0 email-marketing\\xa0 application\\xa0 which                   \\nis perfect for individuals or businesses to send\\xa0multiple customized                   \\nemail messages to                  \\ntheir customers.\\n                  \\nWe are pleased to\\xa0offer you\\xa0our best prices :\\n\\n\\n\\n\\n\\xa0\\xa0\\xa0\\xa0\\xa0\\xa0\\xa0\\xa0\\xa0                   \\n          Emails\\xa0 or\\xa0 Software\\n\\xa0\\xa0\\xa0\\xa0\\xa0\\xa0\\xa0\\xa0\\xa0\\xa0\\xa0\\xa0\\xa0\\xa0\\xa0\\xa0\\xa0\\xa0\\xa0\\xa0\\xa0\\xa0\\xa0\\xa0\\xa0\\xa0\\xa0\\xa0\\xa0\\xa0\\xa0\\xa0\\xa0\\xa0\\xa0                   \\n          Remarks\\n\\xa0\\xa0\\xa0                   \\n          Price\\n\\n\\n30,000 targeted                   \\n          email addresses\\xa0\\n\\nWe are able to supply valid targeted email addresses                   \\n          according to your requirements,\\xa0 which are compiled  \\n          only on your order,                   \\n          such as region / country / field / occupation / Domain Name (such as AOL.com or   \\n          MSN.com) etc.\\n\\n\\xa0                   \\n          USD 30.00\\xa0\\n\\n\\n\\xa0\\xa0\\xa0\\xa0                   \\n          Classified email addresses\\n                  \\n          Our database contains more than 1600 sorts of email addresses,and can                   \\n          meet\\xa0your most\\xa0stringent demands.\\n\\n\\n\\xa0\\xa0\\n\\n\\n\\xa0\\xa0\\xa0                 \\n          8 million email addresses\\n                \\n          8 million email addresses of global commercial enterprise\\n\\n\\n\\xa0USD                 \\n          240.00\\xa0\\n\\n\\n\\xa0\\xa0\\xa0\\xa0\\xa0\\xa0\\xa0                 \\n          Wcast software\\xa0\\n                \\n          Software for fast-sending emails. This program can                 \\n        send mail\\xa0at a rate of over 10,000 emails per hour,                 \\n        and release information\\xa0to                 \\n          thousands of people in a                 \\n        short time.\\n\\n\\n\\xa0                 \\n          USD 39.00\\xa0\\n\\n\\n\\xa0\\xa0\\xa0\\xa0\\xa0\\xa0                 \\n          Email searcher software\\xa0\\nSoftware for                 \\n          searching for targeted email addresses.\\n\\n\\xa0                 \\n          USD 98.00\\xa0\\n\\n\\n\\xa0\\xa0\\xa0\\xa0\\xa0\\xa0\\xa0                 \\n          Global Trade Poster\\n                \\n          Spread information about your business and your products to over 1500                 \\n          trade message boards and newsgroups.\\n\\n\\n\\xa0USD                 \\n          135.00\\xa0\\n\\n\\n\\xa0\\xa0\\xa0\\xa0\\xa0\\xa0                 \\n          Jet-Hits Plus 2000 Pro\\xa0\\n                \\n          Software for submitting website to 8000+\\xa0 search engines.\\n\\n\\n\\xa0                \\n          USD 79.00\\xa0\\n\\n\\n\\n\\n\\n               \\nYou may\\xa0order the email lists\\xa0or\\xa0software directly from our                \\nwebsite. For\\xa0 further details,                \\nplease\\xa0refer to our website.\\n               \\nWe will be\\xa0 honoured\\xa0 if you are interested\\xa0 in our services or                \\nsoftware. Please do not                \\nhesitate to contact us\\xa0with any queries or concern you may have.\\xa0 We\\xa0will                \\nbe\\xa0happy to\\xa0               \\nserve you.\\n\\n               \\nBest regards!\\n               \\n\\xa0\\xa0\\xa0\\xa0\\xa0\\xa0\\xa0\\xa0\\xa0\\xa0\\xa0\\xa0                \\n\\xa0Kang Peng              \\nMarketing Manager\\nHttp://www.como-verder.com\\nSales@marketing-promote.com         \\nXin.Lan Internet Marketing Center\\n\\nYou are receiving this email because you               \\nregistered to receive special offers from one of our marketing\\xa0              \\npartners.If you would prefer not to receive future emails, \\xa0please               \\nclick here to\\xa0 unsubscribe               \\n, or send a               \\nblank e-mail to\\xa0 Emaildata@88998.com\\n\\n\\n\\n\\n\\n\\n\\n\\n\\n--DeathToSpamDeathToSpamDeathToSpam--\\n\\n\\n-------------------------------------------------------\\nThis sf.net email is sponsored by:ThinkGeek\\nWelcome to geek heaven.\\nhttp://thinkgeek.com/sf\\n_______________________________________________\\nSpamassassin-Sightings mailing list\\nSpamassassin-Sightings@lists.sourceforge.net\\nhttps://lists.sourceforge.net/lists/listinfo/spamassassin-sightings\\n\\n\\n\""
            ],
            "application/vnd.google.colaboratory.intrinsic+json": {
              "type": "string"
            }
          },
          "metadata": {},
          "execution_count": 290
        }
      ]
    },
    {
      "cell_type": "code",
      "source": [
        "html_to_plain_text(sample_content)"
      ],
      "metadata": {
        "colab": {
          "base_uri": "https://localhost:8080/",
          "height": 125
        },
        "id": "lj0zDnw53AjS",
        "outputId": "083828fb-301b-4667-ca79-2899f35324be"
      },
      "execution_count": 291,
      "outputs": [
        {
          "output_type": "execute_result",
          "data": {
            "text/plain": [
              "\" Email Marketing The power of Email Marketing Email Marketing is spreading around the whole world because of its high effectiveness, speed and low cost. Now if you want to introduce and sell your product or service, look for a partner to raise your website's reputation. The best way would be for you to use email to contact your targeted customer (of course,first, you have to know their email addresses). Targeted Email is no doubt very effective. If you can introduce your product or service through email directly to the customers who are interested in them, this will bring your business a better chance of success. Xin.Lan Internet Marketing Center, has many years of experience in developing and utilizing internet resources.We have set up global business email-address databases which contain millions of email addresses of commercial enterprises and consumers all over the world. These emails are sorted by countries and fields. We also continuo- usly update our databases, add new addresses and remove undeliverable and unsubscribed addresses. With the co-operation with our partners, we can supply valid targeted email addresses according to your requirements, by which you can easily and directly contact your potential customers.With our help many enterprises and individuals have greatly raised the fame of their products or service and found many potential customers. We also supply a wide variety of software. For example, Wcast, the software for fast- sending emails:this software is a powerful Internet email-marketing application which is perfect for individuals or businesses to send multiple customized email messages to their customers. We are pleased to offer you our best prices : Emails or Software Remarks Price 30,000 targeted email addresses We are able to supply valid targeted email addresses according to your requirements, which are compiled only on your order, such as region / country / field / occupation / Domain Name (such as AOL.com or MSN.com) etc. USD 30.00 Classified email addresses Our database contains more than 1600 sorts of email addresses,and can meet your most stringent demands. 8 million email addresses 8 million email addresses of global commercial enterprise USD 240.00 Wcast software Software for fast-sending emails. This program can send mail at a rate of over 10,000 emails per hour, and release information to thousands of people in a short time. USD 39.00 Email searcher software Software for searching for targeted email addresses. USD 98.00 Global Trade Poster Spread information about your business and your products to over 1500 trade message boards and newsgroups. USD 135.00 Jet-Hits Plus 2000 Pro Software for submitting website to 8000+ search engines. USD 79.00 You may order the email lists or software directly from our website. For further details, please refer to our website. We will be honoured if you are interested in our services or software. Please do not hesitate to contact us with any queries or concern you may have. We will be happy to serve you. Best regards! Kang Peng Marketing Manager Http://www.como-verder.com Sales@marketing-promote.com Xin.Lan Internet Marketing Center You are receiving this email because you registered to receive special offers from one of our marketing partners.If you would prefer not to receive future emails, please click here to unsubscribe , or send a blank e-mail to Emaildata@88998.com --DeathToSpamDeathToSpamDeathToSpam-- ------------------------------------------------------- This sf.net email is sponsored by:ThinkGeek Welcome to geek heaven. http://thinkgeek.com/sf _______________________________________________ Spamassassin-Sightings mailing list Spamassassin-Sightings@lists.sourceforge.net https://lists.sourceforge.net/lists/listinfo/spamassassin-sightings \""
            ],
            "application/vnd.google.colaboratory.intrinsic+json": {
              "type": "string"
            }
          },
          "metadata": {},
          "execution_count": 291
        }
      ]
    },
    {
      "cell_type": "code",
      "source": [
        "def email_to_text(email):\n",
        "    html = None\n",
        "    for part in email.walk():\n",
        "        content_type = part.get_content_type()\n",
        "        if not content_type in (\"text/plain\", \"text/html\"):\n",
        "            continue\n",
        "        try:\n",
        "            content = part.get_content()\n",
        "        except:\n",
        "            content = str(part.get_payload())\n",
        "        if content_type == \"text/plain\":\n",
        "            return content\n",
        "        else:\n",
        "            html = content\n",
        "    if html:\n",
        "        return html_to_plain_text(html)"
      ],
      "metadata": {
        "id": "zsfuEfWCtaBd"
      },
      "execution_count": 264,
      "outputs": []
    },
    {
      "cell_type": "code",
      "source": [
        "!pip install nltk"
      ],
      "metadata": {
        "colab": {
          "base_uri": "https://localhost:8080/"
        },
        "id": "17E70TRqty8v",
        "outputId": "d8947597-026a-44f2-d027-77c10e906b0a"
      },
      "execution_count": 265,
      "outputs": [
        {
          "output_type": "stream",
          "name": "stdout",
          "text": [
            "Looking in indexes: https://pypi.org/simple, https://us-python.pkg.dev/colab-wheels/public/simple/\n",
            "Requirement already satisfied: nltk in /usr/local/lib/python3.8/dist-packages (3.7)\n",
            "Requirement already satisfied: joblib in /usr/local/lib/python3.8/dist-packages (from nltk) (1.2.0)\n",
            "Requirement already satisfied: click in /usr/local/lib/python3.8/dist-packages (from nltk) (7.1.2)\n",
            "Requirement already satisfied: tqdm in /usr/local/lib/python3.8/dist-packages (from nltk) (4.64.1)\n",
            "Requirement already satisfied: regex>=2021.8.3 in /usr/local/lib/python3.8/dist-packages (from nltk) (2022.6.2)\n"
          ]
        }
      ]
    },
    {
      "cell_type": "code",
      "source": [
        "try:\n",
        "    import nltk\n",
        "\n",
        "    stemmer = nltk.PorterStemmer()\n",
        "    for word in (\"Computations\", \"Computation\", \"Computing\", \"Computed\", \"Compute\", \"Compulsive\"):\n",
        "        print(word, \"==>\", stemmer.stem(word))\n",
        "except ImportError:\n",
        "    print(\"Error: stemming requires the NLTK module.\")\n",
        "    stemmer = None"
      ],
      "metadata": {
        "colab": {
          "base_uri": "https://localhost:8080/"
        },
        "id": "YR5I4GJF5A4K",
        "outputId": "b23f0e46-cd59-4232-a1c3-6e1b2c5437f9"
      },
      "execution_count": 266,
      "outputs": [
        {
          "output_type": "stream",
          "name": "stdout",
          "text": [
            "Computations ==> comput\n",
            "Computation ==> comput\n",
            "Computing ==> comput\n",
            "Computed ==> comput\n",
            "Compute ==> comput\n",
            "Compulsive ==> compuls\n"
          ]
        }
      ]
    },
    {
      "cell_type": "code",
      "source": [
        "!pip install urlextract"
      ],
      "metadata": {
        "colab": {
          "base_uri": "https://localhost:8080/"
        },
        "id": "d_O6Dy8E5TRw",
        "outputId": "b53c8a00-7b27-4ee4-97e1-06c3f0fc7d40"
      },
      "execution_count": 267,
      "outputs": [
        {
          "output_type": "stream",
          "name": "stdout",
          "text": [
            "Looking in indexes: https://pypi.org/simple, https://us-python.pkg.dev/colab-wheels/public/simple/\n",
            "Collecting urlextract\n",
            "  Downloading urlextract-1.8.0-py3-none-any.whl (21 kB)\n",
            "Collecting uritools\n",
            "  Downloading uritools-4.0.0-py3-none-any.whl (10 kB)\n",
            "Requirement already satisfied: idna in /usr/local/lib/python3.8/dist-packages (from urlextract) (2.10)\n",
            "Requirement already satisfied: filelock in /usr/local/lib/python3.8/dist-packages (from urlextract) (3.8.2)\n",
            "Requirement already satisfied: platformdirs in /usr/local/lib/python3.8/dist-packages (from urlextract) (2.6.0)\n",
            "Installing collected packages: uritools, urlextract\n",
            "Successfully installed uritools-4.0.0 urlextract-1.8.0\n"
          ]
        }
      ]
    },
    {
      "cell_type": "code",
      "source": [
        "try:\n",
        "    import urlextract\n",
        "\n",
        "    url_extractor = urlextract.URLExtract()\n",
        "    print(url_extractor.find_urls(\"Will it detect github.com and https://youtu.be/7Pq-S557XQU?t=3m32s\"))\n",
        "except ImportError:\n",
        "    print(\"Error: replacing URLs requires the urlextract module.\")\n",
        "    url_extractor = None"
      ],
      "metadata": {
        "colab": {
          "base_uri": "https://localhost:8080/"
        },
        "id": "7vP6fh2s5w7r",
        "outputId": "976a9b99-46dc-4710-9734-0b5168a4a670"
      },
      "execution_count": 268,
      "outputs": [
        {
          "output_type": "stream",
          "name": "stdout",
          "text": [
            "['github.com', 'https://youtu.be/7Pq-S557XQU?t=3m32s']\n"
          ]
        }
      ]
    },
    {
      "cell_type": "code",
      "source": [
        "from collections import Counter\n",
        "from sklearn.base import BaseEstimator, TransformerMixin\n",
        "\n",
        "class EmailToWordcounterTransformer(BaseEstimator, TransformerMixin):\n",
        "    def __init__(self, strip_headers=True, lower_case=True, remove_punctuation=True, replace_urls=True, replace_numbers=True, stemming=True):\n",
        "        self.strip_headers = strip_headers\n",
        "        self.lower_case = lower_case\n",
        "        self.remove_punctuation = remove_punctuation\n",
        "        self.replace_urls = replace_urls\n",
        "        self.replace_numbers = replace_numbers\n",
        "        self.stemming = stemming\n",
        "\n",
        "    def fit(self, X, y=None):\n",
        "        return self\n",
        "    \n",
        "    def transform(self, X, y=None):\n",
        "        X_transformed = []\n",
        "        for email in X:\n",
        "            text = email_to_text(email) or \"\"\n",
        "            if self.lower_case:\n",
        "                text = text.lower()\n",
        "            if self.replace_urls and url_extractor is not None:\n",
        "                urls = list(set(url_extractor.find_urls(text)))\n",
        "                urls.sort(key=lambda url: len(url), reverse=True)\n",
        "                for url in urls:\n",
        "                    text = text.replace(url, \" URL \")\n",
        "            if self.replace_numbers:\n",
        "                text = re.sub(r\"\\d+(?:\\.\\d*)?(?:[eE][+-]?\\d+)?\", \"NUMBER\", text)\n",
        "            if self.remove_punctuation:\n",
        "                text = re.sub(r\"\\W+\", \" \", text, flags=re.M)\n",
        "            word_counts = Counter(text.split())\n",
        "            if self.stemming and stemmer is not None:\n",
        "                stemmed_word_counts = Counter()\n",
        "                for word, count in word_counts.items():\n",
        "                    stemmed_word = stemmer.stem(word)\n",
        "                    stemmed_word_counts[stemmed_word] += count\n",
        "                word_counts = stemmed_word_counts\n",
        "            X_transformed.append(word_counts)\n",
        "        return np.array(X_transformed)"
      ],
      "metadata": {
        "id": "f6XHy06y6C--"
      },
      "execution_count": 269,
      "outputs": []
    },
    {
      "cell_type": "code",
      "source": [
        "from scipy.sparse import csr_matrix\n",
        "\n",
        "class WordCounterToVectorTransformer(BaseEstimator, TransformerMixin):\n",
        "    def __init__(self, vocabulary_size=1000):\n",
        "        self.vocabulary_size = vocabulary_size\n",
        "\n",
        "    def fit(self, X, y=None):\n",
        "        total_count = Counter()\n",
        "        for word_count in X:\n",
        "            for word, count in word_count.items():\n",
        "                total_count[word] += min(count, 10)\n",
        "        most_common = total_count.most_common()[:self.vocabulary_size]\n",
        "        self.vocabulary_ = {word: index + 1 for index, (word, count) in enumerate(most_common)}\n",
        "        return self\n",
        "\n",
        "    def transform(self, X, y=None):\n",
        "        rows = []\n",
        "        cols = []\n",
        "        data = []\n",
        "        for row, word_count in enumerate(X):\n",
        "            for word, count in word_count.items():\n",
        "                rows.append(row)\n",
        "                cols.append(self.vocabulary_.get(word, 0))\n",
        "                data.append(count)\n",
        "        return csr_matrix((data, (rows, cols)), shape=(len(X), self.vocabulary_size + 1))"
      ],
      "metadata": {
        "id": "MoOUHwEH76II"
      },
      "execution_count": 299,
      "outputs": []
    },
    {
      "cell_type": "code",
      "source": [
        "X_few = X_train[:3]\n",
        "X_few_wordcounts = EmailToWordcounterTransformer().fit_transform(X_few)\n",
        "X_few_wordcounts"
      ],
      "metadata": {
        "colab": {
          "base_uri": "https://localhost:8080/"
        },
        "id": "NeuPofIp9xR4",
        "outputId": "7ce56248-4f3f-40ce-94b8-8107ae983144"
      },
      "execution_count": 293,
      "outputs": [
        {
          "output_type": "execute_result",
          "data": {
            "text/plain": [
              "array([Counter({'number': 7, 'i': 4, 'the': 4, 'been': 2, 'to': 2, 'about': 2, 'that': 2, 'chri': 2, 'url': 2, 'doer': 2, 've': 1, 'work': 1, 'on': 1, 'salari': 1, 'relat': 1, 'thing': 1, 'past': 1, 'few': 1, 'day': 1, 'but': 1, 'm': 1, 'start': 1, 'think': 1, 'exmh': 1, 'again': 1, 'thank': 1, 'robert': 1, 'for': 1, 'find': 1, 's': 1, 'l': 1, 'lineno': 1, 'bug': 1, 'so': 1, 'ha': 1, 'anybodi': 1, 'els': 1, 'look': 1, 'at': 1, 'perform': 1, 'issu': 1, 'we': 1, 'were': 1, 'talk': 1, 'befor': 1, 'left': 1, 'or': 1, 'should': 1, 'dig': 1, 'right': 1, 'in': 1, 'garrigu': 1, 'vircio': 1, 'congress': 1, 'suit': 1, 'austin': 1, 'tx': 1, 'world': 1, 'war': 1, 'iii': 1, 'wrong': 1, 'vs': 1, 'evil': 1}),\n",
              "       Counter({'mysql': 5, 'to': 4, 'linux': 4, 'i': 3, 'use': 3, 'and': 3, 'librari': 3, 'a': 3, 'the': 3, 'under': 3, 'm': 2, 'project': 2, 'their': 2, 'anyon': 2, 'ha': 2, 'ani': 2, 'link': 2, 'c': 2, 'list': 2, 'ie': 2, 'hi': 1, 'go': 1, 'be': 1, 'in': 1, 'an': 1, 'upcom': 1, 'probabl': 1, 'buy': 1, 'support': 1, 'licens': 1, 'wonder': 1, 'if': 1, 'els': 1, 'proprietari': 1, 'databas': 1, 'from': 1, 'what': 1, 'can': 1, 'see': 1, 'on': 1, 'websit': 1, 'is': 1, 'gpl': 1, 'but': 1, 'there': 1, 's': 1, 'also': 1, 'some': 1, 'document': 1, 'which': 1, 'it': 1, 'as': 1, 'lgpl': 1, 'got': 1, 'experi': 1, 'with': 1, 'thi': 1, 'or': 1, 'differ': 1, 'regard': 1, 'vin': 1, 'irish': 1, 'user': 1, 'group': 1, 'ilug': 1, 'url': 1, 'for': 1, 'un': 1, 'subscript': 1, 'inform': 1, 'maintain': 1, 'listmast': 1}),\n",
              "       Counter({'the': 8, 'to': 5, 'classifi': 3, 'that': 3, 'i': 2, 'of': 2, 'be': 2, 'leav': 2, 'and': 2, 'deploy': 2, 'wonder': 1, 'if': 1, 'focu': 1, 'spambay': 1, 'ought': 1, 'not': 1, 'a': 1, 'fetch': 1, 'feed': 1, 'messag': 1, 'auxillari': 1, 'code': 1, 'way': 1, 'it': 1, 'could': 1, 'drop': 1, 'into': 1, 'whatev': 1, 'har': 1, 'suit': 1, 'user': 1, 's': 1, 'situat': 1, 'see': 1, 'no': 1, 'reason': 1, 'restrict': 1, 'project': 1, 'develop': 1, 'other': 1, 'attempt': 1, 'at': 1, 'in': 1, 'real': 1, 'world': 1, 'will': 1, 'sure': 1, 'provid': 1, 'addit': 1, 'feedback': 1, 'for': 1, 'guido': 1, 'van': 1, 'rossum': 1, 'home': 1, 'page': 1, 'url': 1})],\n",
              "      dtype=object)"
            ]
          },
          "metadata": {},
          "execution_count": 293
        }
      ]
    },
    {
      "cell_type": "code",
      "source": [
        "vocab_transformer = WordCounterToVectorTransformer(vocabulary_size=10)\n",
        "X_few_vectors = vocab_transformer.fit_transform(X_few_wordcounts)\n",
        "X_few_vectors"
      ],
      "metadata": {
        "colab": {
          "base_uri": "https://localhost:8080/"
        },
        "id": "hFMWh13H935F",
        "outputId": "37a2dd37-3ffc-4571-ed25-fb778ed5f4fd"
      },
      "execution_count": 300,
      "outputs": [
        {
          "output_type": "execute_result",
          "data": {
            "text/plain": [
              "<3x11 sparse matrix of type '<class 'numpy.int64'>'\n",
              "\twith 24 stored elements in Compressed Sparse Row format>"
            ]
          },
          "metadata": {},
          "execution_count": 300
        }
      ]
    },
    {
      "cell_type": "code",
      "source": [
        "X_few_vectors.toarray()"
      ],
      "metadata": {
        "colab": {
          "base_uri": "https://localhost:8080/"
        },
        "id": "zK2nfD7G-OMu",
        "outputId": "1cf13dbe-58d9-48aa-a460-32b01f4ec32d"
      },
      "execution_count": 301,
      "outputs": [
        {
          "output_type": "execute_result",
          "data": {
            "text/plain": [
              "array([[61,  4,  2,  4,  7,  2,  0,  0,  2,  0,  0],\n",
              "       [80,  3,  4,  3,  0,  0,  5,  3,  1,  3,  4],\n",
              "       [56,  8,  5,  2,  0,  3,  0,  2,  1,  1,  0]])"
            ]
          },
          "metadata": {},
          "execution_count": 301
        }
      ]
    },
    {
      "cell_type": "code",
      "source": [
        "vocab_transformer.vocabulary_"
      ],
      "metadata": {
        "colab": {
          "base_uri": "https://localhost:8080/"
        },
        "id": "f2MdZ4gU-VTM",
        "outputId": "b9a75aa1-c3f7-4c28-d498-109db9c3a3c6"
      },
      "execution_count": 302,
      "outputs": [
        {
          "output_type": "execute_result",
          "data": {
            "text/plain": [
              "{'the': 1,\n",
              " 'to': 2,\n",
              " 'i': 3,\n",
              " 'number': 4,\n",
              " 'that': 5,\n",
              " 'mysql': 6,\n",
              " 'and': 7,\n",
              " 'url': 8,\n",
              " 'a': 9,\n",
              " 'linux': 10}"
            ]
          },
          "metadata": {},
          "execution_count": 302
        }
      ]
    },
    {
      "cell_type": "code",
      "source": [
        "from sklearn.pipeline import Pipeline\n",
        "\n",
        "preprocess_pipeline = Pipeline([\n",
        "    (\"email_to_wordcount\", EmailToWordcounterTransformer()),\n",
        "    (\"wordcount_to_vector\", WordCounterToVectorTransformer())\n",
        "])\n",
        "\n",
        "X_train_transformed = preprocess_pipeline.fit_transform(X_train)"
      ],
      "metadata": {
        "id": "AwKhAchA-bP3"
      },
      "execution_count": 303,
      "outputs": []
    },
    {
      "cell_type": "code",
      "source": [
        "from sklearn.linear_model import LogisticRegression\n",
        "from sklearn.model_selection import cross_val_score\n",
        "\n",
        "log_clf = LogisticRegression(solver=\"lbfgs\", max_iter=1000, random_state=42)\n",
        "score = cross_val_score(log_clf, X_train_transformed, y_train, cv=5, verbose=3)\n",
        "score.mean()"
      ],
      "metadata": {
        "colab": {
          "base_uri": "https://localhost:8080/"
        },
        "id": "MAwbTeX6-w-l",
        "outputId": "2d3f9ec4-a301-416b-88ea-74b051ea499b"
      },
      "execution_count": 304,
      "outputs": [
        {
          "output_type": "stream",
          "name": "stderr",
          "text": [
            "[Parallel(n_jobs=1)]: Using backend SequentialBackend with 1 concurrent workers.\n"
          ]
        },
        {
          "output_type": "stream",
          "name": "stdout",
          "text": [
            "[CV] END ................................ score: (test=0.973) total time=   3.4s\n"
          ]
        },
        {
          "output_type": "stream",
          "name": "stderr",
          "text": [
            "[Parallel(n_jobs=1)]: Done   1 out of   1 | elapsed:    3.4s remaining:    0.0s\n"
          ]
        },
        {
          "output_type": "stream",
          "name": "stdout",
          "text": [
            "[CV] END ................................ score: (test=0.971) total time=   3.7s\n"
          ]
        },
        {
          "output_type": "stream",
          "name": "stderr",
          "text": [
            "[Parallel(n_jobs=1)]: Done   2 out of   2 | elapsed:    7.2s remaining:    0.0s\n"
          ]
        },
        {
          "output_type": "stream",
          "name": "stdout",
          "text": [
            "[CV] END ................................ score: (test=0.987) total time=   2.9s\n",
            "[CV] END ................................ score: (test=0.982) total time=   1.2s\n",
            "[CV] END ................................ score: (test=0.971) total time=   2.0s\n"
          ]
        },
        {
          "output_type": "stream",
          "name": "stderr",
          "text": [
            "[Parallel(n_jobs=1)]: Done   5 out of   5 | elapsed:   13.2s finished\n"
          ]
        },
        {
          "output_type": "execute_result",
          "data": {
            "text/plain": [
              "0.976847111711265"
            ]
          },
          "metadata": {},
          "execution_count": 304
        }
      ]
    },
    {
      "cell_type": "code",
      "source": [
        "from sklearn.metrics import precision_score\n",
        "from sklearn.metrics import recall_score\n",
        "\n",
        "X_test_transformed = preprocess_pipeline.transform(X_test)\n",
        "\n",
        "log_clf = LogisticRegression(solver=\"lbfgs\", max_iter=1000, random_state=42)\n",
        "log_clf.fit(X_train_transformed, y_train)\n",
        "y_pred = log_clf.predict(X_test_transformed)\n",
        "\n",
        "print(\"Accuracy: {:.2f}%\".format(100 * precision_score(y_test, y_pred)))\n",
        "print(\"recall: {:.2f}%\".format(100 * recall_score(y_test, y_pred)))"
      ],
      "metadata": {
        "colab": {
          "base_uri": "https://localhost:8080/"
        },
        "id": "cJ8ezICO_Ij_",
        "outputId": "46166363-17a6-47b5-90e3-a5d3136e2d59"
      },
      "execution_count": 306,
      "outputs": [
        {
          "output_type": "stream",
          "name": "stdout",
          "text": [
            "Accuracy96.34%\n",
            "recall97.11%\n"
          ]
        },
        {
          "output_type": "stream",
          "name": "stderr",
          "text": [
            "/usr/local/lib/python3.8/dist-packages/sklearn/linear_model/_logistic.py:814: ConvergenceWarning: lbfgs failed to converge (status=1):\n",
            "STOP: TOTAL NO. of ITERATIONS REACHED LIMIT.\n",
            "\n",
            "Increase the number of iterations (max_iter) or scale the data as shown in:\n",
            "    https://scikit-learn.org/stable/modules/preprocessing.html\n",
            "Please also refer to the documentation for alternative solver options:\n",
            "    https://scikit-learn.org/stable/modules/linear_model.html#logistic-regression\n",
            "  n_iter_i = _check_optimize_result(\n"
          ]
        }
      ]
    },
    {
      "cell_type": "code",
      "source": [
        "!pip install transformers"
      ],
      "metadata": {
        "colab": {
          "base_uri": "https://localhost:8080/"
        },
        "id": "qEX2QDdI_knq",
        "outputId": "17e6a8d0-74ea-4484-b8b6-ff2e3f4cecca"
      },
      "execution_count": 307,
      "outputs": [
        {
          "output_type": "stream",
          "name": "stdout",
          "text": [
            "Looking in indexes: https://pypi.org/simple, https://us-python.pkg.dev/colab-wheels/public/simple/\n",
            "Collecting transformers\n",
            "  Downloading transformers-4.25.1-py3-none-any.whl (5.8 MB)\n",
            "\u001b[2K     \u001b[90m━━━━━━━━━━━━━━━━━━━━━━━━━━━━━━━━━━━━━━━━\u001b[0m \u001b[32m5.8/5.8 MB\u001b[0m \u001b[31m35.4 MB/s\u001b[0m eta \u001b[36m0:00:00\u001b[0m\n",
            "\u001b[?25hRequirement already satisfied: pyyaml>=5.1 in /usr/local/lib/python3.8/dist-packages (from transformers) (6.0)\n",
            "Requirement already satisfied: tqdm>=4.27 in /usr/local/lib/python3.8/dist-packages (from transformers) (4.64.1)\n",
            "Requirement already satisfied: packaging>=20.0 in /usr/local/lib/python3.8/dist-packages (from transformers) (21.3)\n",
            "Collecting tokenizers!=0.11.3,<0.14,>=0.11.1\n",
            "  Downloading tokenizers-0.13.2-cp38-cp38-manylinux_2_17_x86_64.manylinux2014_x86_64.whl (7.6 MB)\n",
            "\u001b[2K     \u001b[90m━━━━━━━━━━━━━━━━━━━━━━━━━━━━━━━━━━━━━━━━\u001b[0m \u001b[32m7.6/7.6 MB\u001b[0m \u001b[31m64.1 MB/s\u001b[0m eta \u001b[36m0:00:00\u001b[0m\n",
            "\u001b[?25hCollecting huggingface-hub<1.0,>=0.10.0\n",
            "  Downloading huggingface_hub-0.11.1-py3-none-any.whl (182 kB)\n",
            "\u001b[2K     \u001b[90m━━━━━━━━━━━━━━━━━━━━━━━━━━━━━━━━━━━━━━\u001b[0m \u001b[32m182.4/182.4 KB\u001b[0m \u001b[31m17.4 MB/s\u001b[0m eta \u001b[36m0:00:00\u001b[0m\n",
            "\u001b[?25hRequirement already satisfied: numpy>=1.17 in /usr/local/lib/python3.8/dist-packages (from transformers) (1.21.6)\n",
            "Requirement already satisfied: requests in /usr/local/lib/python3.8/dist-packages (from transformers) (2.25.1)\n",
            "Requirement already satisfied: regex!=2019.12.17 in /usr/local/lib/python3.8/dist-packages (from transformers) (2022.6.2)\n",
            "Requirement already satisfied: filelock in /usr/local/lib/python3.8/dist-packages (from transformers) (3.8.2)\n",
            "Requirement already satisfied: typing-extensions>=3.7.4.3 in /usr/local/lib/python3.8/dist-packages (from huggingface-hub<1.0,>=0.10.0->transformers) (4.4.0)\n",
            "Requirement already satisfied: pyparsing!=3.0.5,>=2.0.2 in /usr/local/lib/python3.8/dist-packages (from packaging>=20.0->transformers) (3.0.9)\n",
            "Requirement already satisfied: idna<3,>=2.5 in /usr/local/lib/python3.8/dist-packages (from requests->transformers) (2.10)\n",
            "Requirement already satisfied: chardet<5,>=3.0.2 in /usr/local/lib/python3.8/dist-packages (from requests->transformers) (4.0.0)\n",
            "Requirement already satisfied: urllib3<1.27,>=1.21.1 in /usr/local/lib/python3.8/dist-packages (from requests->transformers) (1.24.3)\n",
            "Requirement already satisfied: certifi>=2017.4.17 in /usr/local/lib/python3.8/dist-packages (from requests->transformers) (2022.12.7)\n",
            "Installing collected packages: tokenizers, huggingface-hub, transformers\n",
            "Successfully installed huggingface-hub-0.11.1 tokenizers-0.13.2 transformers-4.25.1\n"
          ]
        }
      ]
    }
  ]
}