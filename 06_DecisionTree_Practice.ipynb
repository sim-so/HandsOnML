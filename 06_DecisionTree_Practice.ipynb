{
  "nbformat": 4,
  "nbformat_minor": 0,
  "metadata": {
    "colab": {
      "provenance": [],
      "authorship_tag": "ABX9TyNxjJ5OyrRHwsJH6SQ2uryC",
      "include_colab_link": true
    },
    "kernelspec": {
      "name": "python3",
      "display_name": "Python 3"
    },
    "language_info": {
      "name": "python"
    }
  },
  "cells": [
    {
      "cell_type": "markdown",
      "metadata": {
        "id": "view-in-github",
        "colab_type": "text"
      },
      "source": [
        "<a href=\"https://colab.research.google.com/github/sim-so/HandsOnML/blob/main/06_DecisionTree_Practice.ipynb\" target=\"_parent\"><img src=\"https://colab.research.google.com/assets/colab-badge.svg\" alt=\"Open In Colab\"/></a>"
      ]
    },
    {
      "cell_type": "markdown",
      "source": [
        "# 06 Decision Tree 연습문제"
      ],
      "metadata": {
        "id": "qRG-y3o44P8Y"
      }
    },
    {
      "cell_type": "code",
      "source": [
        "import os\n",
        "\n",
        "import numpy as np\n",
        "import matplotlib.pyplot as plt"
      ],
      "metadata": {
        "id": "TV-iUg7k4fjj"
      },
      "execution_count": 1,
      "outputs": []
    },
    {
      "cell_type": "markdown",
      "source": [
        "## 7. moons 데이터셋에 결정 트리를 훈련시키고 parameter tuning 하기"
      ],
      "metadata": {
        "id": "IymNaIAY4W4R"
      }
    },
    {
      "cell_type": "code",
      "source": [
        "np.random.seed(33)\n",
        "random_state=33"
      ],
      "metadata": {
        "id": "0glCG2SPTy_Q"
      },
      "execution_count": 2,
      "outputs": []
    },
    {
      "cell_type": "code",
      "source": [
        "from sklearn.datasets import make_moons\n",
        "\n",
        "Xm, ym = make_moons(n_samples=1000, noise=0.4)"
      ],
      "metadata": {
        "id": "L1rY-fu84XUT"
      },
      "execution_count": 3,
      "outputs": []
    },
    {
      "cell_type": "code",
      "source": [
        "from sklearn.model_selection import train_test_split\n",
        "\n",
        "Xm_train, Xm_test, ym_train, ym_test = train_test_split(Xm, ym, test_size=0.2, random_state=random_state)"
      ],
      "metadata": {
        "id": "ZAZw1B2l4_9a"
      },
      "execution_count": 4,
      "outputs": []
    },
    {
      "cell_type": "code",
      "source": [
        "from sklearn.tree import DecisionTreeClassifier\n",
        "from sklearn.model_selection import GridSearchCV\n",
        "\n",
        "tree_clf = DecisionTreeClassifier(random_state=random_state)\n",
        "params = {\n",
        "    \"max_leaf_nodes\" : list(range(2, 30)),\n",
        "    \"min_samples_split\" : [2, 3, 4],\n",
        "    \"max_depth\" : [2, 3]\n",
        "}\n",
        "clf = GridSearchCV(tree_clf, param_grid=params, cv=4, verbose=1)\n",
        "clf.fit(Xm_train, ym_train)"
      ],
      "metadata": {
        "colab": {
          "base_uri": "https://localhost:8080/"
        },
        "id": "cNihNuF65Ras",
        "outputId": "f416d3ce-9514-45b5-c5de-93c1a0079442"
      },
      "execution_count": 5,
      "outputs": [
        {
          "output_type": "stream",
          "name": "stdout",
          "text": [
            "Fitting 4 folds for each of 168 candidates, totalling 672 fits\n"
          ]
        },
        {
          "output_type": "execute_result",
          "data": {
            "text/plain": [
              "GridSearchCV(cv=4, estimator=DecisionTreeClassifier(random_state=33),\n",
              "             param_grid={'max_depth': [2, 3],\n",
              "                         'max_leaf_nodes': [2, 3, 4, 5, 6, 7, 8, 9, 10, 11, 12,\n",
              "                                            13, 14, 15, 16, 17, 18, 19, 20, 21,\n",
              "                                            22, 23, 24, 25, 26, 27, 28, 29],\n",
              "                         'min_samples_split': [2, 3, 4]},\n",
              "             verbose=1)"
            ]
          },
          "metadata": {},
          "execution_count": 5
        }
      ]
    },
    {
      "cell_type": "code",
      "source": [
        "clf.best_estimator_"
      ],
      "metadata": {
        "colab": {
          "base_uri": "https://localhost:8080/"
        },
        "id": "AmbS4H5J84gJ",
        "outputId": "5ba9e895-2ab5-4fef-a415-5d3d579430a4"
      },
      "execution_count": 6,
      "outputs": [
        {
          "output_type": "execute_result",
          "data": {
            "text/plain": [
              "DecisionTreeClassifier(max_depth=3, max_leaf_nodes=4, random_state=33)"
            ]
          },
          "metadata": {},
          "execution_count": 6
        }
      ]
    },
    {
      "cell_type": "code",
      "source": [
        "clf.best_score_"
      ],
      "metadata": {
        "colab": {
          "base_uri": "https://localhost:8080/"
        },
        "id": "VUH1AcddATSk",
        "outputId": "71d06297-a096-4d54-e874-0b97d1d9d152"
      },
      "execution_count": 7,
      "outputs": [
        {
          "output_type": "execute_result",
          "data": {
            "text/plain": [
              "0.8262499999999999"
            ]
          },
          "metadata": {},
          "execution_count": 7
        }
      ]
    },
    {
      "cell_type": "code",
      "source": [
        "from sklearn.metrics import accuracy_score"
      ],
      "metadata": {
        "id": "ZmADRlvg7zP_"
      },
      "execution_count": 8,
      "outputs": []
    },
    {
      "cell_type": "code",
      "source": [
        "ym_pred = clf.predict(Xm_test)\n",
        "accuracy_score(ym_test, ym_pred)"
      ],
      "metadata": {
        "colab": {
          "base_uri": "https://localhost:8080/"
        },
        "id": "MFPGzx7S8Bks",
        "outputId": "62f384fb-bbf0-481e-d6b2-eda2074d77ac"
      },
      "execution_count": 9,
      "outputs": [
        {
          "output_type": "execute_result",
          "data": {
            "text/plain": [
              "0.89"
            ]
          },
          "metadata": {},
          "execution_count": 9
        }
      ]
    },
    {
      "cell_type": "markdown",
      "source": [
        "## 8. 랜덤 포레스트 만들기"
      ],
      "metadata": {
        "id": "_lrb-ZfJ8Iy6"
      }
    },
    {
      "cell_type": "code",
      "source": [
        "from sklearn.model_selection import ShuffleSplit\n",
        "from sklearn.base import clone\n",
        "\n",
        "from scipy.stats import mode\n",
        "\n",
        "class RandomForestClassifier():                                 # following to scikit-learn RandomForestClassifier()\n",
        "    def __init__(self, n_estimators, max_depth=None, min_samples_split=2, min_samples_leaf=1, max_leaf_nodes=None, boostrap=True, max_samples=None, random_state=None):\n",
        "        self.n_estimators = n_estimators                        # num of trees\n",
        "        self.max_samples = max_samples                          # num of samples for each tree\n",
        "        self.random_state = random_state\n",
        "        self.estimator_ = DecisionTreeClassifier(               # make a base estimator\n",
        "            max_depth=max_depth, \n",
        "            min_samples_split=min_samples_split, \n",
        "            min_samples_leaf=min_samples_leaf, \n",
        "            max_leaf_nodes=max_leaf_nodes,\n",
        "            random_state=random_state\n",
        "            )\n",
        "        print(self.estimator_)                                  # check parameters\n",
        "\n",
        "    def fit(self, X, y):\n",
        "        self.subsets_ = []\n",
        "        ss = ShuffleSplit(n_splits=self.n_estimators, test_size=len(X)-self.max_samples, random_state=self.random_state)    \n",
        "        for i_train, i_test in ss.split(X):                     # boostrap subamples\n",
        "            X_sub_train = X[i_train]\n",
        "            y_sub_train = y[i_train]\n",
        "            self.subsets_.append((X_sub_train, y_sub_train))\n",
        "\n",
        "        self.estimators_ = [clone(self.estimator_) for _ in range(self.n_estimators)]        \n",
        "        for estimator, (X_sub_train, y_sub_train) in zip(self.estimators_, self.subsets_):\n",
        "            estimator.fit(X_sub_train, y_sub_train)\n",
        "\n",
        "    def predict(self, X):\n",
        "        y_preds = []\n",
        "        for estimator in self.estimators_:\n",
        "            y_pred = estimator.predict(X)\n",
        "            y_preds.append(y_pred)\n",
        "        y_pred_majority, n_votes = mode(y_preds, axis=0)        # vote for majority\n",
        "        return y_pred_majority.reshape([-1])                    # y_pred_majority.shape : (1, n_estimator) -> (n_estimator)"
      ],
      "metadata": {
        "id": "u94SEZ4UCw7D"
      },
      "execution_count": 10,
      "outputs": []
    },
    {
      "cell_type": "code",
      "source": [
        "rf_clf = RandomForestClassifier(n_estimators=1000, max_samples=100, random_state=random_state, **clf.best_params_)"
      ],
      "metadata": {
        "colab": {
          "base_uri": "https://localhost:8080/"
        },
        "id": "Smis1tNDQqfC",
        "outputId": "183b1c69-847e-42ac-bbac-d8de74e26654"
      },
      "execution_count": 11,
      "outputs": [
        {
          "output_type": "stream",
          "name": "stdout",
          "text": [
            "DecisionTreeClassifier(max_depth=3, max_leaf_nodes=4, random_state=33)\n"
          ]
        }
      ]
    },
    {
      "cell_type": "code",
      "source": [
        "rf_clf.fit(Xm_train, ym_train)"
      ],
      "metadata": {
        "id": "42UDX_37RPJL"
      },
      "execution_count": 12,
      "outputs": []
    },
    {
      "cell_type": "code",
      "source": [
        "ym_pred = rf_clf.predict(Xm_test)"
      ],
      "metadata": {
        "id": "dbhHmxPSRnVj"
      },
      "execution_count": 13,
      "outputs": []
    },
    {
      "cell_type": "code",
      "source": [
        "accuracy_score(ym_test, ym_pred)"
      ],
      "metadata": {
        "colab": {
          "base_uri": "https://localhost:8080/"
        },
        "id": "kW5a25reRrxp",
        "outputId": "3675ab53-1613-4b06-bab2-332d3c28cf57"
      },
      "execution_count": 14,
      "outputs": [
        {
          "output_type": "execute_result",
          "data": {
            "text/plain": [
              "0.895"
            ]
          },
          "metadata": {},
          "execution_count": 14
        }
      ]
    },
    {
      "cell_type": "code",
      "source": [],
      "metadata": {
        "id": "6cFVuFcwRy9i"
      },
      "execution_count": 14,
      "outputs": []
    }
  ]
}