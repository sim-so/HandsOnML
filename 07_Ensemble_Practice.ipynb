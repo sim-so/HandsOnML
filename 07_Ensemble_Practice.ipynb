{
  "nbformat": 4,
  "nbformat_minor": 0,
  "metadata": {
    "colab": {
      "provenance": [],
      "authorship_tag": "ABX9TyO0jyMcu4IzVA1SaDDw6cWn",
      "include_colab_link": true
    },
    "kernelspec": {
      "name": "python3",
      "display_name": "Python 3"
    },
    "language_info": {
      "name": "python"
    }
  },
  "cells": [
    {
      "cell_type": "markdown",
      "metadata": {
        "id": "view-in-github",
        "colab_type": "text"
      },
      "source": [
        "<a href=\"https://colab.research.google.com/github/sim-so/HandsOnML/blob/main/07_Ensemble_Practice.ipynb\" target=\"_parent\"><img src=\"https://colab.research.google.com/assets/colab-badge.svg\" alt=\"Open In Colab\"/></a>"
      ]
    },
    {
      "cell_type": "markdown",
      "source": [
        "# 07 앙상블 학습과 랜덤 포레스트 연습문제"
      ],
      "metadata": {
        "id": "c5exhUoacKj_"
      }
    },
    {
      "cell_type": "code",
      "source": [
        "import os\n",
        "\n",
        "import numpy as np\n",
        "import matplotlib.pyplot as plt\n",
        "import seaborn as sns"
      ],
      "metadata": {
        "id": "Gii5UUrDcuZp"
      },
      "execution_count": 1,
      "outputs": []
    },
    {
      "cell_type": "markdown",
      "source": [
        "## 5. 엑스트라 트리와 일반 랜덤 포레스트\n",
        "무엇이 엑스트라 트리를 일반 랜덤 포레스트보다 더 무작위하게 만드나요? 추가적인 무작위성이 어떻게 도움이 될까요? 엑스트라 트리는 랜덤 포레스트보다 느릴까요, 빠를까요?\n",
        "\n",
        "- 엑스트라 트리와 랜덤 포레스트 모두 각 노드에서 특성의 일부를 무작위로 선택합니다.\n",
        "- 랜덤 포레스트는 특성을 분할할 때 불순도(또는 엔트로피)를 최소화하는 최적의 임계점을 찾습니다.\n",
        "- 엑스트라 트리는 최적의 임계점을 찾지 않고 랜덤한 임계점에 따라 분할합니다.\n",
        "- 특성 분할의 임계점을 랜덤하게 정하기 때문에 개별 예측기의 예측력은 낮아지지만 모델이 과대적합될 위험을 낮춥니다.\n",
        "- 최적의 임계점을 찾기 위한 연산을 하지 않으므로 랜덤 포레스트보다 훈련에 걸리는 속도가 빠릅니다.\n",
        "- 예측에 걸리는 시간은 크게 다르지 않습니다."
      ],
      "metadata": {
        "id": "hdQ-Dogxczol"
      }
    },
    {
      "cell_type": "code",
      "source": [
        "from sklearn.ensemble import RandomForestClassifier\n",
        "from sklearn.ensemble import ExtraTreesClassifier\n",
        "\n",
        "from sklearn.datasets import fetch_openml"
      ],
      "metadata": {
        "id": "nA5vsTpihZ6u"
      },
      "execution_count": 2,
      "outputs": []
    },
    {
      "cell_type": "code",
      "source": [
        "mnist = fetch_openml('mnist_784', version=1)\n",
        "mnist.target = mnist.target.astype(np.uint8)"
      ],
      "metadata": {
        "id": "dEHUYWVKni43"
      },
      "execution_count": 3,
      "outputs": []
    },
    {
      "cell_type": "code",
      "source": [
        "X_train, X_test = mnist[\"data\"][:60000], mnist[\"data\"][60000:]\n",
        "y_train, y_test = mnist[\"target\"][:60000], mnist[\"target\"][60000:]"
      ],
      "metadata": {
        "id": "XBvD7y1Enxgu"
      },
      "execution_count": 4,
      "outputs": []
    },
    {
      "cell_type": "code",
      "source": [
        "import time\n",
        "\n",
        "start_time = time.time()\n",
        "\n",
        "rnd_clf = RandomForestClassifier(n_estimators=500, max_leaf_nodes=16, random_state=33)\n",
        "rnd_clf.fit(X_train, y_train)\n",
        "\n",
        "print(\"Random Forest Training :\", time.time() - start_time)"
      ],
      "metadata": {
        "colab": {
          "base_uri": "https://localhost:8080/"
        },
        "id": "fySiAXa5nojt",
        "outputId": "bb9c2c84-0470-4dad-e357-e3804569abe5"
      },
      "execution_count": 5,
      "outputs": [
        {
          "output_type": "stream",
          "name": "stdout",
          "text": [
            "Random Forest Training : 66.69427800178528\n"
          ]
        }
      ]
    },
    {
      "cell_type": "code",
      "source": [
        "start_time = time.time()\n",
        "\n",
        "ext_clf = ExtraTreesClassifier(n_estimators=500, max_leaf_nodes=16, random_state=33)\n",
        "ext_clf.fit(X_train, y_train)\n",
        "\n",
        "print(\"Extra Trees Training   :\", time.time() - start_time)"
      ],
      "metadata": {
        "colab": {
          "base_uri": "https://localhost:8080/"
        },
        "id": "9NhcQ71aoO83",
        "outputId": "a5f9177d-1f93-482c-f480-91e2127c252b"
      },
      "execution_count": 6,
      "outputs": [
        {
          "output_type": "stream",
          "name": "stdout",
          "text": [
            "Extra Trees Training   : 45.872535943984985\n"
          ]
        }
      ]
    },
    {
      "cell_type": "code",
      "source": [
        "start_time = time.time()\n",
        "\n",
        "rf_pred = rnd_clf.predict(X_test)\n",
        "print(\"Random Forest Inference :\", time.time() - start_time)"
      ],
      "metadata": {
        "colab": {
          "base_uri": "https://localhost:8080/"
        },
        "id": "yRpOAYi2orT-",
        "outputId": "904d7c5e-b423-4a14-e034-6dcb6bd08bb9"
      },
      "execution_count": 7,
      "outputs": [
        {
          "output_type": "stream",
          "name": "stdout",
          "text": [
            "Random Forest Inference : 0.699131965637207\n"
          ]
        }
      ]
    },
    {
      "cell_type": "code",
      "source": [
        "start_time = time.time()\n",
        "\n",
        "et_pred = ext_clf.predict(X_test)\n",
        "print(\"Extra Trees Inference   :\", time.time() - start_time)"
      ],
      "metadata": {
        "colab": {
          "base_uri": "https://localhost:8080/"
        },
        "id": "50xkl_UrpMol",
        "outputId": "2581173d-56bf-46dd-ee4a-6f2d9c977b41"
      },
      "execution_count": 8,
      "outputs": [
        {
          "output_type": "stream",
          "name": "stdout",
          "text": [
            "Extra Trees Inference   : 0.6593449115753174\n"
          ]
        }
      ]
    },
    {
      "cell_type": "code",
      "source": [
        "from sklearn.metrics import accuracy_score\n",
        "\n",
        "print(\"Random Forest Accuracy : \", accuracy_score(y_test, rf_pred))\n",
        "print(\"Extra Trees Accuracy   : \", accuracy_score(y_test, et_pred))"
      ],
      "metadata": {
        "colab": {
          "base_uri": "https://localhost:8080/"
        },
        "id": "JxNGSYgGpXjz",
        "outputId": "4883ae0d-f80e-46cb-a00f-86a4b3967c80"
      },
      "execution_count": 9,
      "outputs": [
        {
          "output_type": "stream",
          "name": "stdout",
          "text": [
            "Random Forest Accuracy :  0.8285\n",
            "Extra Trees Accuracy   :  0.8164\n"
          ]
        }
      ]
    },
    {
      "cell_type": "code",
      "source": [
        "def plot_digit(data):\n",
        "    image = data.reshape(28, 28)\n",
        "    plt.imshow(image, cmap=\"hot\", interpolation=\"nearest\")\n",
        "    plt.axis(\"off\")"
      ],
      "metadata": {
        "id": "9_AWjyiWqHdT"
      },
      "execution_count": 10,
      "outputs": []
    },
    {
      "cell_type": "code",
      "source": [
        "plot_digit(rnd_clf.feature_importances_)\n",
        "\n",
        "cbar = plt.colorbar(ticks=[rnd_clf.feature_importances_.min(), rnd_clf.feature_importances_.max()])\n",
        "cbar.ax.set_yticklabels([rnd_clf.feature_importances_.min(), 0.021])\n",
        "plt.show()"
      ],
      "metadata": {
        "colab": {
          "base_uri": "https://localhost:8080/",
          "height": 258
        },
        "id": "qmSkQLNEpp4a",
        "outputId": "28deabb7-06e8-4fbd-ecb2-c364f939335a"
      },
      "execution_count": 11,
      "outputs": [
        {
          "output_type": "display_data",
          "data": {
            "text/plain": [
              "<Figure size 432x288 with 2 Axes>"
            ],
            "image/png": "[encoded data removed]"
          },
          "metadata": {
            "needs_background": "light"
          }
        }
      ]
    },
    {
      "cell_type": "code",
      "source": [
        "plot_digit(ext_clf.feature_importances_)\n",
        "\n",
        "cbar = plt.colorbar(ticks=[ext_clf.feature_importances_.min(), ext_clf.feature_importances_.max()])\n",
        "cbar.ax.set_yticklabels([ext_clf.feature_importances_.min(), 0.021])\n",
        "plt.show()"
      ],
      "metadata": {
        "colab": {
          "base_uri": "https://localhost:8080/",
          "height": 258
        },
        "id": "vsWSSxnbqDZh",
        "outputId": "4bec5825-7fbd-4ec3-ee35-bea882965ecc"
      },
      "execution_count": 12,
      "outputs": [
        {
          "output_type": "display_data",
          "data": {
            "text/plain": [
              "<Figure size 432x288 with 2 Axes>"
            ],
            "image/png": "[encoded data removed]"
          },
          "metadata": {
            "needs_background": "light"
          }
        }
      ]
    },
    {
      "cell_type": "code",
      "source": [
        "from sklearn.datasets import load_iris\n",
        "from sklearn.model_selection import train_test_split\n",
        "\n",
        "iris = load_iris()"
      ],
      "metadata": {
        "id": "eAiF0VAD_5Or"
      },
      "execution_count": 13,
      "outputs": []
    },
    {
      "cell_type": "code",
      "source": [
        "start_time = time.time()\n",
        "rnd_clf = RandomForestClassifier(n_estimators=500, max_depth=3, random_state=33)\n",
        "rnd_clf.fit(iris[\"data\"], iris[\"target\"])\n",
        "print(\"Random Forest Training : \", time.time() - start_time)"
      ],
      "metadata": {
        "colab": {
          "base_uri": "https://localhost:8080/"
        },
        "id": "9VSZIGoDAj9q",
        "outputId": "f2cd45cf-7f0b-4ae1-dd22-75e3855d29b6"
      },
      "execution_count": 14,
      "outputs": [
        {
          "output_type": "stream",
          "name": "stdout",
          "text": [
            "Random Forest Training :  0.740586519241333\n"
          ]
        }
      ]
    },
    {
      "cell_type": "code",
      "source": [
        "start_time = time.time()\n",
        "ext_clf = ExtraTreesClassifier(n_estimators=500, max_depth=3, random_state=33)\n",
        "ext_clf.fit(iris[\"data\"], iris[\"target\"])\n",
        "print(\"Extra Trees Training   : \", time.time() - start_time)"
      ],
      "metadata": {
        "colab": {
          "base_uri": "https://localhost:8080/"
        },
        "id": "uPxA1I7_A4iu",
        "outputId": "e311a42c-723c-47af-9f9c-66bb6bd3a7d3"
      },
      "execution_count": 15,
      "outputs": [
        {
          "output_type": "stream",
          "name": "stdout",
          "text": [
            "Extra Trees Training   :  0.4783961772918701\n"
          ]
        }
      ]
    },
    {
      "cell_type": "code",
      "source": [
        "start_time = time.time()\n",
        "rf_pred = rnd_clf.predict(iris[\"data\"])\n",
        "print(\"Random Forest Inference : \", time.time() - start_time)\n",
        "print(accuracy_score(iris[\"target\"], rf_pred))"
      ],
      "metadata": {
        "colab": {
          "base_uri": "https://localhost:8080/"
        },
        "id": "q7-bLnrGBJGH",
        "outputId": "c2730b9d-f116-4f6f-9818-7eaebc84bf16"
      },
      "execution_count": 16,
      "outputs": [
        {
          "output_type": "stream",
          "name": "stdout",
          "text": [
            "Random Forest Inference :  0.09370803833007812\n",
            "0.9666666666666667\n"
          ]
        }
      ]
    },
    {
      "cell_type": "code",
      "source": [
        "start_time = time.time()\n",
        "et_pred = ext_clf.predict(iris[\"data\"])\n",
        "print(\"Random Forest Inference : \", time.time() - start_time)\n",
        "print(accuracy_score(iris[\"target\"], et_pred))"
      ],
      "metadata": {
        "colab": {
          "base_uri": "https://localhost:8080/"
        },
        "id": "M_7KjMH8BiJ8",
        "outputId": "4504f2de-9893-486a-85ee-fbac20f311ea"
      },
      "execution_count": 17,
      "outputs": [
        {
          "output_type": "stream",
          "name": "stdout",
          "text": [
            "Random Forest Inference :  0.08784151077270508\n",
            "0.9666666666666667\n"
          ]
        }
      ]
    },
    {
      "cell_type": "markdown",
      "source": [
        "## 6. AdaBoost 학습 성능 높이기\n",
        "에이다부스트 앙상블이 훈련 데이터에 과소적합되었다면 어떤 매개변수를 어떻게 바꾸어야 할까요?\n",
        "- 예측기 수 증가\n",
        "- 학습률 증가\n",
        "- 기반 예측기의 규제 변수 완화"
      ],
      "metadata": {
        "id": "iJO3MJtzqf3H"
      }
    },
    {
      "cell_type": "code",
      "source": [
        "from sklearn.ensemble import AdaBoostClassifier\n",
        "\n",
        "ada_clf = AdaBoostClassifier(learning_rate=0.1, random_state=33)\n",
        "ada_clf.fit(X_train, y_train)"
      ],
      "metadata": {
        "colab": {
          "base_uri": "https://localhost:8080/"
        },
        "id": "il773eX2q_cJ",
        "outputId": "a66808ea-851f-45f1-fbba-a140dddd9095"
      },
      "execution_count": 24,
      "outputs": [
        {
          "output_type": "execute_result",
          "data": {
            "text/plain": [
              "AdaBoostClassifier(learning_rate=0.1, random_state=33)"
            ]
          },
          "metadata": {},
          "execution_count": 24
        }
      ]
    },
    {
      "cell_type": "code",
      "source": [
        "ad_pred = ada_clf.predict(X_test)\n",
        "accuracy_score(y_test, ad_pred)"
      ],
      "metadata": {
        "colab": {
          "base_uri": "https://localhost:8080/"
        },
        "id": "To4pUeeOrIrF",
        "outputId": "09009497-98be-46cb-975f-9bc9aaf075db"
      },
      "execution_count": 25,
      "outputs": [
        {
          "output_type": "execute_result",
          "data": {
            "text/plain": [
              "0.7265"
            ]
          },
          "metadata": {},
          "execution_count": 25
        }
      ]
    },
    {
      "cell_type": "code",
      "source": [
        "ada_clf.get_params()"
      ],
      "metadata": {
        "colab": {
          "base_uri": "https://localhost:8080/"
        },
        "id": "vTvMjzcTrXO4",
        "outputId": "83ada7ce-3b76-4578-9c52-ba5a5ce40b0b"
      },
      "execution_count": 26,
      "outputs": [
        {
          "output_type": "execute_result",
          "data": {
            "text/plain": [
              "{'algorithm': 'SAMME.R',\n",
              " 'base_estimator': None,\n",
              " 'learning_rate': 0.1,\n",
              " 'n_estimators': 50,\n",
              " 'random_state': 33}"
            ]
          },
          "metadata": {},
          "execution_count": 26
        }
      ]
    },
    {
      "cell_type": "code",
      "source": [
        "from sklearn.tree import DecisionTreeClassifier\n",
        "\n",
        "tree_clf = DecisionTreeClassifier(max_depth=3, random_state=33)\n",
        "ada_clf2 = AdaBoostClassifier(tree_clf,\n",
        "                              n_estimators=200,\n",
        "                              learning_rate=0.2,\n",
        "                              random_state=33)"
      ],
      "metadata": {
        "id": "vfEqXmybrPuF"
      },
      "execution_count": 34,
      "outputs": []
    },
    {
      "cell_type": "code",
      "source": [
        "ada_clf2.fit(X_train, y_train)"
      ],
      "metadata": {
        "colab": {
          "base_uri": "https://localhost:8080/"
        },
        "id": "l7X0X3_zr_w1",
        "outputId": "3544af04-67dd-4649-d036-64f7505ef874"
      },
      "execution_count": 35,
      "outputs": [
        {
          "output_type": "execute_result",
          "data": {
            "text/plain": [
              "AdaBoostClassifier(base_estimator=DecisionTreeClassifier(max_depth=3,\n",
              "                                                         random_state=33),\n",
              "                   learning_rate=0.2, n_estimators=200, random_state=33)"
            ]
          },
          "metadata": {},
          "execution_count": 35
        }
      ]
    },
    {
      "cell_type": "code",
      "source": [
        "ad_pred2 = ada_clf2.predict(X_test)\n",
        "accuracy_score(y_test, ad_pred2)"
      ],
      "metadata": {
        "colab": {
          "base_uri": "https://localhost:8080/"
        },
        "id": "skyfkuh2sr6v",
        "outputId": "3b6ce8d5-5c21-427d-a583-3131112e1e56"
      },
      "execution_count": 36,
      "outputs": [
        {
          "output_type": "execute_result",
          "data": {
            "text/plain": [
              "0.9099"
            ]
          },
          "metadata": {},
          "execution_count": 36
        }
      ]
    },
    {
      "cell_type": "code",
      "source": [
        "ada_clf2.get_params()"
      ],
      "metadata": {
        "colab": {
          "base_uri": "https://localhost:8080/"
        },
        "id": "QKrQpXKKsw1E",
        "outputId": "00bc6567-0134-4e76-f2c0-23e6539e37d7"
      },
      "execution_count": 37,
      "outputs": [
        {
          "output_type": "execute_result",
          "data": {
            "text/plain": [
              "{'algorithm': 'SAMME.R',\n",
              " 'base_estimator__ccp_alpha': 0.0,\n",
              " 'base_estimator__class_weight': None,\n",
              " 'base_estimator__criterion': 'gini',\n",
              " 'base_estimator__max_depth': 3,\n",
              " 'base_estimator__max_features': None,\n",
              " 'base_estimator__max_leaf_nodes': None,\n",
              " 'base_estimator__min_impurity_decrease': 0.0,\n",
              " 'base_estimator__min_samples_leaf': 1,\n",
              " 'base_estimator__min_samples_split': 2,\n",
              " 'base_estimator__min_weight_fraction_leaf': 0.0,\n",
              " 'base_estimator__random_state': 33,\n",
              " 'base_estimator__splitter': 'best',\n",
              " 'base_estimator': DecisionTreeClassifier(max_depth=3, random_state=33),\n",
              " 'learning_rate': 0.2,\n",
              " 'n_estimators': 200,\n",
              " 'random_state': 33}"
            ]
          },
          "metadata": {},
          "execution_count": 37
        }
      ]
    },
    {
      "cell_type": "code",
      "source": [],
      "metadata": {
        "id": "l2OLJv7osyhH"
      },
      "execution_count": 19,
      "outputs": []
    }
  ]
}